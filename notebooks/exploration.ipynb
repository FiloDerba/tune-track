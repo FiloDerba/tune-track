{
 "cells": [
  {
   "cell_type": "code",
   "execution_count": 1,
   "metadata": {},
   "outputs": [],
   "source": [
    "import os\n",
    "os.chdir(\"/Users/admin/Documents/Github/tune-track\")  "
   ]
  },
  {
   "cell_type": "code",
   "execution_count": 47,
   "metadata": {
    "pycharm": {
     "is_executing": true
    }
   },
   "outputs": [
    {
     "data": {
      "text/plain": [
       "polars.config.Config"
      ]
     },
     "execution_count": 47,
     "metadata": {},
     "output_type": "execute_result"
    }
   ],
   "source": [
    "import polars as pl\n",
    "import altair as alt\n",
    "from data_preparation.functions import process_original_columns\n",
    "import plotly.express as px\n",
    "\n",
    "cfg = pl.Config()\n",
    "cfg.set_tbl_rows(100)"
   ]
  },
  {
   "cell_type": "code",
   "execution_count": 74,
   "metadata": {
    "collapsed": false,
    "jupyter": {
     "outputs_hidden": false
    }
   },
   "outputs": [],
   "source": [
    "df_sessions = pl.read_csv(\"data/log.csv\")"
   ]
  },
  {
   "cell_type": "markdown",
   "metadata": {},
   "source": [
    "### Basic Data Exploration"
   ]
  },
  {
   "cell_type": "code",
   "execution_count": 4,
   "metadata": {},
   "outputs": [
    {
     "data": {
      "text/html": [
       "<div><style>\n",
       ".dataframe > thead > tr,\n",
       ".dataframe > tbody > tr {\n",
       "  text-align: right;\n",
       "  white-space: pre-wrap;\n",
       "}\n",
       "</style>\n",
       "<small>shape: (1, 21)</small><table border=\"1\" class=\"dataframe\"><thead><tr><th>session_id</th><th>session_position</th><th>session_length</th><th>track_id_clean</th><th>skip_1</th><th>skip_2</th><th>skip_3</th><th>not_skipped</th><th>context_switch</th><th>no_pause_before_play</th><th>short_pause_before_play</th><th>long_pause_before_play</th><th>hist_user_behavior_n_seekfwd</th><th>hist_user_behavior_n_seekback</th><th>hist_user_behavior_is_shuffle</th><th>hour_of_day</th><th>date</th><th>premium</th><th>context_type</th><th>hist_user_behavior_reason_start</th><th>hist_user_behavior_reason_end</th></tr><tr><td>u32</td><td>u32</td><td>u32</td><td>u32</td><td>u32</td><td>u32</td><td>u32</td><td>u32</td><td>u32</td><td>u32</td><td>u32</td><td>u32</td><td>u32</td><td>u32</td><td>u32</td><td>u32</td><td>u32</td><td>u32</td><td>u32</td><td>u32</td><td>u32</td></tr></thead><tbody><tr><td>0</td><td>0</td><td>0</td><td>0</td><td>0</td><td>0</td><td>0</td><td>0</td><td>0</td><td>0</td><td>0</td><td>0</td><td>0</td><td>0</td><td>0</td><td>0</td><td>0</td><td>0</td><td>0</td><td>0</td><td>0</td></tr></tbody></table></div>"
      ],
      "text/plain": [
       "shape: (1, 21)\n",
       "┌────────────┬───────────┬───────────┬───────────┬───┬─────────┬───────────┬───────────┬───────────┐\n",
       "│ session_id ┆ session_p ┆ session_l ┆ track_id_ ┆ … ┆ premium ┆ context_t ┆ hist_user ┆ hist_user │\n",
       "│ ---        ┆ osition   ┆ ength     ┆ clean     ┆   ┆ ---     ┆ ype       ┆ _behavior ┆ _behavior │\n",
       "│ u32        ┆ ---       ┆ ---       ┆ ---       ┆   ┆ u32     ┆ ---       ┆ _reason_s ┆ _reason_e │\n",
       "│            ┆ u32       ┆ u32       ┆ u32       ┆   ┆         ┆ u32       ┆ tar…      ┆ nd        │\n",
       "│            ┆           ┆           ┆           ┆   ┆         ┆           ┆ ---       ┆ ---       │\n",
       "│            ┆           ┆           ┆           ┆   ┆         ┆           ┆ u32       ┆ u32       │\n",
       "╞════════════╪═══════════╪═══════════╪═══════════╪═══╪═════════╪═══════════╪═══════════╪═══════════╡\n",
       "│ 0          ┆ 0         ┆ 0         ┆ 0         ┆ … ┆ 0       ┆ 0         ┆ 0         ┆ 0         │\n",
       "└────────────┴───────────┴───────────┴───────────┴───┴─────────┴───────────┴───────────┴───────────┘"
      ]
     },
     "execution_count": 4,
     "metadata": {},
     "output_type": "execute_result"
    }
   ],
   "source": [
    "df_sessions.null_count()\n"
   ]
  },
  {
   "cell_type": "code",
   "execution_count": 76,
   "metadata": {},
   "outputs": [],
   "source": [
    "df_sessions = process_original_columns(df_sessions)"
   ]
  },
  {
   "cell_type": "code",
   "execution_count": 25,
   "metadata": {},
   "outputs": [
    {
     "data": {
      "text/html": [
       "<div><style>\n",
       ".dataframe > thead > tr,\n",
       ".dataframe > tbody > tr {\n",
       "  text-align: right;\n",
       "  white-space: pre-wrap;\n",
       "}\n",
       "</style>\n",
       "<small>shape: (10, 19)</small><table border=\"1\" class=\"dataframe\"><thead><tr><th>session_id</th><th>session_position</th><th>session_length</th><th>track_id_clean</th><th>context_switch</th><th>hist_user_behavior_n_seekfwd</th><th>hist_user_behavior_n_seekback</th><th>hist_user_behavior_is_shuffle</th><th>hour_of_day</th><th>date</th><th>premium</th><th>context_type</th><th>hist_user_behavior_reason_start</th><th>hist_user_behavior_reason_end</th><th>is_weekend</th><th>season</th><th>time_of_day</th><th>song_completion</th><th>pause_length_before_play</th></tr><tr><td>str</td><td>i64</td><td>i64</td><td>str</td><td>i64</td><td>i64</td><td>i64</td><td>bool</td><td>i64</td><td>date</td><td>bool</td><td>str</td><td>str</td><td>str</td><td>i8</td><td>str</td><td>str</td><td>i32</td><td>i32</td></tr></thead><tbody><tr><td>&quot;0_0eaeef5d-25e9-4429-bd55-af15…</td><td>11</td><td>20</td><td>&quot;t_773a9f8f-2d00-4467-965a-df70…</td><td>0</td><td>0</td><td>0</td><td>false</td><td>13</td><td>2018-07-15</td><td>true</td><td>&quot;user_collection&quot;</td><td>&quot;trackdone&quot;</td><td>&quot;trackdone&quot;</td><td>1</td><td>&quot;summer&quot;</td><td>&quot;afternoon&quot;</td><td>5</td><td>0</td></tr><tr><td>&quot;0_0eaeef5d-25e9-4429-bd55-af15…</td><td>12</td><td>20</td><td>&quot;t_94c1dd31-2410-4167-a75b-d643…</td><td>0</td><td>0</td><td>0</td><td>false</td><td>13</td><td>2018-07-15</td><td>true</td><td>&quot;user_collection&quot;</td><td>&quot;trackdone&quot;</td><td>&quot;trackdone&quot;</td><td>1</td><td>&quot;summer&quot;</td><td>&quot;afternoon&quot;</td><td>5</td><td>0</td></tr><tr><td>&quot;0_0eaeef5d-25e9-4429-bd55-af15…</td><td>13</td><td>20</td><td>&quot;t_bda3bb62-b717-4766-b417-4e7b…</td><td>0</td><td>0</td><td>0</td><td>false</td><td>13</td><td>2018-07-15</td><td>true</td><td>&quot;user_collection&quot;</td><td>&quot;trackdone&quot;</td><td>&quot;fwdbtn&quot;</td><td>1</td><td>&quot;summer&quot;</td><td>&quot;afternoon&quot;</td><td>1</td><td>2</td></tr><tr><td>&quot;0_0eaeef5d-25e9-4429-bd55-af15…</td><td>14</td><td>20</td><td>&quot;t_f80ee4db-b284-4ef7-bdde-604e…</td><td>0</td><td>0</td><td>0</td><td>false</td><td>13</td><td>2018-07-15</td><td>true</td><td>&quot;user_collection&quot;</td><td>&quot;fwdbtn&quot;</td><td>&quot;trackdone&quot;</td><td>1</td><td>&quot;summer&quot;</td><td>&quot;afternoon&quot;</td><td>5</td><td>0</td></tr><tr><td>&quot;0_0eaeef5d-25e9-4429-bd55-af15…</td><td>15</td><td>20</td><td>&quot;t_e76ba594-cebd-472d-a2da-4835…</td><td>0</td><td>0</td><td>0</td><td>false</td><td>13</td><td>2018-07-15</td><td>true</td><td>&quot;user_collection&quot;</td><td>&quot;trackdone&quot;</td><td>&quot;trackdone&quot;</td><td>1</td><td>&quot;summer&quot;</td><td>&quot;afternoon&quot;</td><td>5</td><td>0</td></tr><tr><td>&quot;0_0eaeef5d-25e9-4429-bd55-af15…</td><td>16</td><td>20</td><td>&quot;t_360910e8-2a84-42b0-baf1-59ab…</td><td>0</td><td>0</td><td>0</td><td>false</td><td>13</td><td>2018-07-15</td><td>true</td><td>&quot;user_collection&quot;</td><td>&quot;trackdone&quot;</td><td>&quot;trackdone&quot;</td><td>1</td><td>&quot;summer&quot;</td><td>&quot;afternoon&quot;</td><td>5</td><td>0</td></tr><tr><td>&quot;0_0eaeef5d-25e9-4429-bd55-af15…</td><td>17</td><td>20</td><td>&quot;t_aa2fff77-9b0a-4fa3-a685-ecef…</td><td>0</td><td>0</td><td>0</td><td>false</td><td>13</td><td>2018-07-15</td><td>true</td><td>&quot;user_collection&quot;</td><td>&quot;trackdone&quot;</td><td>&quot;trackdone&quot;</td><td>1</td><td>&quot;summer&quot;</td><td>&quot;afternoon&quot;</td><td>5</td><td>0</td></tr><tr><td>&quot;0_0eaeef5d-25e9-4429-bd55-af15…</td><td>18</td><td>20</td><td>&quot;t_f673e1b7-4ebe-4fc1-ac24-a9f2…</td><td>0</td><td>0</td><td>0</td><td>false</td><td>13</td><td>2018-07-15</td><td>true</td><td>&quot;user_collection&quot;</td><td>&quot;trackdone&quot;</td><td>&quot;trackdone&quot;</td><td>1</td><td>&quot;summer&quot;</td><td>&quot;afternoon&quot;</td><td>5</td><td>0</td></tr><tr><td>&quot;0_0eaeef5d-25e9-4429-bd55-af15…</td><td>19</td><td>20</td><td>&quot;t_e172e8e7-7161-42a9-acb0-d606…</td><td>0</td><td>0</td><td>0</td><td>false</td><td>13</td><td>2018-07-15</td><td>true</td><td>&quot;user_collection&quot;</td><td>&quot;trackdone&quot;</td><td>&quot;trackdone&quot;</td><td>1</td><td>&quot;summer&quot;</td><td>&quot;afternoon&quot;</td><td>5</td><td>0</td></tr><tr><td>&quot;0_0eaeef5d-25e9-4429-bd55-af15…</td><td>20</td><td>20</td><td>&quot;t_77977dd6-597e-4425-8f8f-4efb…</td><td>0</td><td>0</td><td>0</td><td>false</td><td>13</td><td>2018-07-15</td><td>true</td><td>&quot;user_collection&quot;</td><td>&quot;trackdone&quot;</td><td>&quot;trackdone&quot;</td><td>1</td><td>&quot;summer&quot;</td><td>&quot;afternoon&quot;</td><td>5</td><td>0</td></tr></tbody></table></div>"
      ],
      "text/plain": [
       "shape: (10, 19)\n",
       "┌────────────┬────────────┬───────────┬───────────┬───┬────────┬───────────┬───────────┬───────────┐\n",
       "│ session_id ┆ session_po ┆ session_l ┆ track_id_ ┆ … ┆ season ┆ time_of_d ┆ song_comp ┆ pause_len │\n",
       "│ ---        ┆ sition     ┆ ength     ┆ clean     ┆   ┆ ---    ┆ ay        ┆ letion    ┆ gth_befor │\n",
       "│ str        ┆ ---        ┆ ---       ┆ ---       ┆   ┆ str    ┆ ---       ┆ ---       ┆ e_play    │\n",
       "│            ┆ i64        ┆ i64       ┆ str       ┆   ┆        ┆ str       ┆ i32       ┆ ---       │\n",
       "│            ┆            ┆           ┆           ┆   ┆        ┆           ┆           ┆ i32       │\n",
       "╞════════════╪════════════╪═══════════╪═══════════╪═══╪════════╪═══════════╪═══════════╪═══════════╡\n",
       "│ 0_0eaeef5d ┆ 11         ┆ 20        ┆ t_773a9f8 ┆ … ┆ summer ┆ afternoon ┆ 5         ┆ 0         │\n",
       "│ -25e9-4429 ┆            ┆           ┆ f-2d00-44 ┆   ┆        ┆           ┆           ┆           │\n",
       "│ -bd55-af15 ┆            ┆           ┆ 67-965a-d ┆   ┆        ┆           ┆           ┆           │\n",
       "│ …          ┆            ┆           ┆ f70…      ┆   ┆        ┆           ┆           ┆           │\n",
       "│ 0_0eaeef5d ┆ 12         ┆ 20        ┆ t_94c1dd3 ┆ … ┆ summer ┆ afternoon ┆ 5         ┆ 0         │\n",
       "│ -25e9-4429 ┆            ┆           ┆ 1-2410-41 ┆   ┆        ┆           ┆           ┆           │\n",
       "│ -bd55-af15 ┆            ┆           ┆ 67-a75b-d ┆   ┆        ┆           ┆           ┆           │\n",
       "│ …          ┆            ┆           ┆ 643…      ┆   ┆        ┆           ┆           ┆           │\n",
       "│ 0_0eaeef5d ┆ 13         ┆ 20        ┆ t_bda3bb6 ┆ … ┆ summer ┆ afternoon ┆ 1         ┆ 2         │\n",
       "│ -25e9-4429 ┆            ┆           ┆ 2-b717-47 ┆   ┆        ┆           ┆           ┆           │\n",
       "│ -bd55-af15 ┆            ┆           ┆ 66-b417-4 ┆   ┆        ┆           ┆           ┆           │\n",
       "│ …          ┆            ┆           ┆ e7b…      ┆   ┆        ┆           ┆           ┆           │\n",
       "│ 0_0eaeef5d ┆ 14         ┆ 20        ┆ t_f80ee4d ┆ … ┆ summer ┆ afternoon ┆ 5         ┆ 0         │\n",
       "│ -25e9-4429 ┆            ┆           ┆ b-b284-4e ┆   ┆        ┆           ┆           ┆           │\n",
       "│ -bd55-af15 ┆            ┆           ┆ f7-bdde-6 ┆   ┆        ┆           ┆           ┆           │\n",
       "│ …          ┆            ┆           ┆ 04e…      ┆   ┆        ┆           ┆           ┆           │\n",
       "│ 0_0eaeef5d ┆ 15         ┆ 20        ┆ t_e76ba59 ┆ … ┆ summer ┆ afternoon ┆ 5         ┆ 0         │\n",
       "│ -25e9-4429 ┆            ┆           ┆ 4-cebd-47 ┆   ┆        ┆           ┆           ┆           │\n",
       "│ -bd55-af15 ┆            ┆           ┆ 2d-a2da-4 ┆   ┆        ┆           ┆           ┆           │\n",
       "│ …          ┆            ┆           ┆ 835…      ┆   ┆        ┆           ┆           ┆           │\n",
       "│ 0_0eaeef5d ┆ 16         ┆ 20        ┆ t_360910e ┆ … ┆ summer ┆ afternoon ┆ 5         ┆ 0         │\n",
       "│ -25e9-4429 ┆            ┆           ┆ 8-2a84-42 ┆   ┆        ┆           ┆           ┆           │\n",
       "│ -bd55-af15 ┆            ┆           ┆ b0-baf1-5 ┆   ┆        ┆           ┆           ┆           │\n",
       "│ …          ┆            ┆           ┆ 9ab…      ┆   ┆        ┆           ┆           ┆           │\n",
       "│ 0_0eaeef5d ┆ 17         ┆ 20        ┆ t_aa2fff7 ┆ … ┆ summer ┆ afternoon ┆ 5         ┆ 0         │\n",
       "│ -25e9-4429 ┆            ┆           ┆ 7-9b0a-4f ┆   ┆        ┆           ┆           ┆           │\n",
       "│ -bd55-af15 ┆            ┆           ┆ a3-a685-e ┆   ┆        ┆           ┆           ┆           │\n",
       "│ …          ┆            ┆           ┆ cef…      ┆   ┆        ┆           ┆           ┆           │\n",
       "│ 0_0eaeef5d ┆ 18         ┆ 20        ┆ t_f673e1b ┆ … ┆ summer ┆ afternoon ┆ 5         ┆ 0         │\n",
       "│ -25e9-4429 ┆            ┆           ┆ 7-4ebe-4f ┆   ┆        ┆           ┆           ┆           │\n",
       "│ -bd55-af15 ┆            ┆           ┆ c1-ac24-a ┆   ┆        ┆           ┆           ┆           │\n",
       "│ …          ┆            ┆           ┆ 9f2…      ┆   ┆        ┆           ┆           ┆           │\n",
       "│ 0_0eaeef5d ┆ 19         ┆ 20        ┆ t_e172e8e ┆ … ┆ summer ┆ afternoon ┆ 5         ┆ 0         │\n",
       "│ -25e9-4429 ┆            ┆           ┆ 7-7161-42 ┆   ┆        ┆           ┆           ┆           │\n",
       "│ -bd55-af15 ┆            ┆           ┆ a9-acb0-d ┆   ┆        ┆           ┆           ┆           │\n",
       "│ …          ┆            ┆           ┆ 606…      ┆   ┆        ┆           ┆           ┆           │\n",
       "│ 0_0eaeef5d ┆ 20         ┆ 20        ┆ t_77977dd ┆ … ┆ summer ┆ afternoon ┆ 5         ┆ 0         │\n",
       "│ -25e9-4429 ┆            ┆           ┆ 6-597e-44 ┆   ┆        ┆           ┆           ┆           │\n",
       "│ -bd55-af15 ┆            ┆           ┆ 25-8f8f-4 ┆   ┆        ┆           ┆           ┆           │\n",
       "│ …          ┆            ┆           ┆ efb…      ┆   ┆        ┆           ┆           ┆           │\n",
       "└────────────┴────────────┴───────────┴───────────┴───┴────────┴───────────┴───────────┴───────────┘"
      ]
     },
     "execution_count": 25,
     "metadata": {},
     "output_type": "execute_result"
    }
   ],
   "source": [
    "df_sessions.tail(10)"
   ]
  },
  {
   "cell_type": "code",
   "execution_count": 5,
   "metadata": {},
   "outputs": [
    {
     "data": {
      "text/html": [
       "<div><style>\n",
       ".dataframe > thead > tr,\n",
       ".dataframe > tbody > tr {\n",
       "  text-align: right;\n",
       "  white-space: pre-wrap;\n",
       "}\n",
       "</style>\n",
       "<small>shape: (12, 3)</small><table border=\"1\" class=\"dataframe\"><thead><tr><th>context_type</th><th>premium</th><th>count</th></tr><tr><td>str</td><td>bool</td><td>u32</td></tr></thead><tbody><tr><td>&quot;catalog&quot;</td><td>false</td><td>6662</td></tr><tr><td>&quot;catalog&quot;</td><td>true</td><td>31601</td></tr><tr><td>&quot;charts&quot;</td><td>false</td><td>307</td></tr><tr><td>&quot;charts&quot;</td><td>true</td><td>2134</td></tr><tr><td>&quot;editorial_playlist&quot;</td><td>false</td><td>7291</td></tr><tr><td>&hellip;</td><td>&hellip;</td><td>&hellip;</td></tr><tr><td>&quot;personalized_playlist&quot;</td><td>false</td><td>290</td></tr><tr><td>&quot;radio&quot;</td><td>false</td><td>2662</td></tr><tr><td>&quot;radio&quot;</td><td>true</td><td>18445</td></tr><tr><td>&quot;user_collection&quot;</td><td>false</td><td>14615</td></tr><tr><td>&quot;user_collection&quot;</td><td>true</td><td>52815</td></tr></tbody></table></div>"
      ],
      "text/plain": [
       "shape: (12, 3)\n",
       "┌───────────────────────┬─────────┬───────┐\n",
       "│ context_type          ┆ premium ┆ count │\n",
       "│ ---                   ┆ ---     ┆ ---   │\n",
       "│ str                   ┆ bool    ┆ u32   │\n",
       "╞═══════════════════════╪═════════╪═══════╡\n",
       "│ catalog               ┆ false   ┆ 6662  │\n",
       "│ catalog               ┆ true    ┆ 31601 │\n",
       "│ charts                ┆ false   ┆ 307   │\n",
       "│ charts                ┆ true    ┆ 2134  │\n",
       "│ editorial_playlist    ┆ false   ┆ 7291  │\n",
       "│ …                     ┆ …       ┆ …     │\n",
       "│ personalized_playlist ┆ false   ┆ 290   │\n",
       "│ radio                 ┆ false   ┆ 2662  │\n",
       "│ radio                 ┆ true    ┆ 18445 │\n",
       "│ user_collection       ┆ false   ┆ 14615 │\n",
       "│ user_collection       ┆ true    ┆ 52815 │\n",
       "└───────────────────────┴─────────┴───────┘"
      ]
     },
     "execution_count": 5,
     "metadata": {},
     "output_type": "execute_result"
    }
   ],
   "source": [
    "(df_sessions\n",
    "    .group_by(\"context_type\", \"premium\")\n",
    "    .agg(pl.len().alias(\"count\"))\n",
    "    .sort(\"context_type\")\n",
    ")"
   ]
  },
  {
   "cell_type": "code",
   "execution_count": 7,
   "metadata": {},
   "outputs": [
    {
     "data": {
      "text/html": [
       "\n",
       "<style>\n",
       "  #altair-viz-8f031fa4bd524bd8bb2713426d049704.vega-embed {\n",
       "    width: 100%;\n",
       "    display: flex;\n",
       "  }\n",
       "\n",
       "  #altair-viz-8f031fa4bd524bd8bb2713426d049704.vega-embed details,\n",
       "  #altair-viz-8f031fa4bd524bd8bb2713426d049704.vega-embed details summary {\n",
       "    position: relative;\n",
       "  }\n",
       "</style>\n",
       "<div id=\"altair-viz-8f031fa4bd524bd8bb2713426d049704\"></div>\n",
       "<script type=\"text/javascript\">\n",
       "  var VEGA_DEBUG = (typeof VEGA_DEBUG == \"undefined\") ? {} : VEGA_DEBUG;\n",
       "  (function(spec, embedOpt){\n",
       "    let outputDiv = document.currentScript.previousElementSibling;\n",
       "    if (outputDiv.id !== \"altair-viz-8f031fa4bd524bd8bb2713426d049704\") {\n",
       "      outputDiv = document.getElementById(\"altair-viz-8f031fa4bd524bd8bb2713426d049704\");\n",
       "    }\n",
       "\n",
       "    const paths = {\n",
       "      \"vega\": \"https://cdn.jsdelivr.net/npm/vega@5?noext\",\n",
       "      \"vega-lib\": \"https://cdn.jsdelivr.net/npm/vega-lib?noext\",\n",
       "      \"vega-lite\": \"https://cdn.jsdelivr.net/npm/vega-lite@5.20.1?noext\",\n",
       "      \"vega-embed\": \"https://cdn.jsdelivr.net/npm/vega-embed@6?noext\",\n",
       "    };\n",
       "\n",
       "    function maybeLoadScript(lib, version) {\n",
       "      var key = `${lib.replace(\"-\", \"\")}_version`;\n",
       "      return (VEGA_DEBUG[key] == version) ?\n",
       "        Promise.resolve(paths[lib]) :\n",
       "        new Promise(function(resolve, reject) {\n",
       "          var s = document.createElement('script');\n",
       "          document.getElementsByTagName(\"head\")[0].appendChild(s);\n",
       "          s.async = true;\n",
       "          s.onload = () => {\n",
       "            VEGA_DEBUG[key] = version;\n",
       "            return resolve(paths[lib]);\n",
       "          };\n",
       "          s.onerror = () => reject(`Error loading script: ${paths[lib]}`);\n",
       "          s.src = paths[lib];\n",
       "        });\n",
       "    }\n",
       "\n",
       "    function showError(err) {\n",
       "      outputDiv.innerHTML = `<div class=\"error\" style=\"color:red;\">${err}</div>`;\n",
       "      throw err;\n",
       "    }\n",
       "\n",
       "    function displayChart(vegaEmbed) {\n",
       "      vegaEmbed(outputDiv, spec, embedOpt)\n",
       "        .catch(err => showError(`Javascript Error: ${err.message}<br>This usually means there's a typo in your chart specification. See the javascript console for the full traceback.`));\n",
       "    }\n",
       "\n",
       "    if(typeof define === \"function\" && define.amd) {\n",
       "      requirejs.config({paths});\n",
       "      let deps = [\"vega-embed\"];\n",
       "      require(deps, displayChart, err => showError(`Error loading script: ${err.message}`));\n",
       "    } else {\n",
       "      maybeLoadScript(\"vega\", \"5\")\n",
       "        .then(() => maybeLoadScript(\"vega-lite\", \"5.20.1\"))\n",
       "        .then(() => maybeLoadScript(\"vega-embed\", \"6\"))\n",
       "        .catch(showError)\n",
       "        .then(() => displayChart(vegaEmbed));\n",
       "    }\n",
       "  })({\"config\": {\"view\": {\"continuousWidth\": 300, \"continuousHeight\": 300}}, \"data\": {\"name\": \"data-3139190fd1c49ddbf76aa79b1f1aa5e2\"}, \"mark\": {\"type\": \"bar\"}, \"encoding\": {\"x\": {\"axis\": {\"labelAngle\": 0}, \"field\": \"session_length\", \"title\": \"Session Length\", \"type\": \"nominal\"}, \"y\": {\"axis\": {\"format\": \".0%\"}, \"field\": \"Percent\", \"title\": \"Percentage\", \"type\": \"quantitative\"}}, \"height\": 400, \"title\": \"Session Length Distribution\", \"transform\": [{\"joinaggregate\": [{\"op\": \"sum\", \"field\": \"count\", \"as\": \"TotalSessions\"}]}, {\"calculate\": \"datum.count / datum.TotalSessions\", \"as\": \"Percent\"}], \"width\": 600, \"$schema\": \"https://vega.github.io/schema/vega-lite/v5.20.1.json\", \"datasets\": {\"data-3139190fd1c49ddbf76aa79b1f1aa5e2\": [{\"session_length\": 10, \"count\": 8190}, {\"session_length\": 11, \"count\": 8272}, {\"session_length\": 12, \"count\": 7752}, {\"session_length\": 13, \"count\": 7111}, {\"session_length\": 14, \"count\": 6426}, {\"session_length\": 15, \"count\": 6525}, {\"session_length\": 16, \"count\": 5424}, {\"session_length\": 17, \"count\": 5440}, {\"session_length\": 18, \"count\": 5454}, {\"session_length\": 19, \"count\": 5966}, {\"session_length\": 20, \"count\": 101320}]}}, {\"mode\": \"vega-lite\"});\n",
       "</script>"
      ],
      "text/plain": [
       "alt.Chart(...)"
      ]
     },
     "execution_count": 7,
     "metadata": {},
     "output_type": "execute_result"
    }
   ],
   "source": [
    "import altair as alt\n",
    "\n",
    "# Group and convert to pandas\n",
    "session_counts = (\n",
    "    df_sessions\n",
    "    .group_by(\"session_length\")\n",
    "    .agg(pl.len().alias(\"count\"))\n",
    "    .sort(\"session_length\")\n",
    ")\n",
    "\n",
    "# Create chart with percentage transformation\n",
    "chart = alt.Chart(session_counts).transform_joinaggregate(\n",
    "    TotalSessions='sum(count)'\n",
    ").transform_calculate(\n",
    "    Percent='datum.count / datum.TotalSessions'\n",
    ").mark_bar().encode(\n",
    "    x=alt.X('session_length:N', title='Session Length', axis=alt.Axis(labelAngle=0)),\n",
    "    y=alt.Y('Percent:Q', title='Percentage', axis=alt.Axis(format='.0%'))\n",
    ").properties(\n",
    "    title=\"Session Length Distribution\",\n",
    "    width=600,\n",
    "    height=400\n",
    ")\n",
    "\n",
    "chart\n"
   ]
  },
  {
   "cell_type": "code",
   "execution_count": 20,
   "metadata": {},
   "outputs": [
    {
     "data": {
      "text/html": [
       "\n",
       "<style>\n",
       "  #altair-viz-a7993744ce5945ddb2850f13066ea451.vega-embed {\n",
       "    width: 100%;\n",
       "    display: flex;\n",
       "  }\n",
       "\n",
       "  #altair-viz-a7993744ce5945ddb2850f13066ea451.vega-embed details,\n",
       "  #altair-viz-a7993744ce5945ddb2850f13066ea451.vega-embed details summary {\n",
       "    position: relative;\n",
       "  }\n",
       "</style>\n",
       "<div id=\"altair-viz-a7993744ce5945ddb2850f13066ea451\"></div>\n",
       "<script type=\"text/javascript\">\n",
       "  var VEGA_DEBUG = (typeof VEGA_DEBUG == \"undefined\") ? {} : VEGA_DEBUG;\n",
       "  (function(spec, embedOpt){\n",
       "    let outputDiv = document.currentScript.previousElementSibling;\n",
       "    if (outputDiv.id !== \"altair-viz-a7993744ce5945ddb2850f13066ea451\") {\n",
       "      outputDiv = document.getElementById(\"altair-viz-a7993744ce5945ddb2850f13066ea451\");\n",
       "    }\n",
       "\n",
       "    const paths = {\n",
       "      \"vega\": \"https://cdn.jsdelivr.net/npm/vega@5?noext\",\n",
       "      \"vega-lib\": \"https://cdn.jsdelivr.net/npm/vega-lib?noext\",\n",
       "      \"vega-lite\": \"https://cdn.jsdelivr.net/npm/vega-lite@5.20.1?noext\",\n",
       "      \"vega-embed\": \"https://cdn.jsdelivr.net/npm/vega-embed@6?noext\",\n",
       "    };\n",
       "\n",
       "    function maybeLoadScript(lib, version) {\n",
       "      var key = `${lib.replace(\"-\", \"\")}_version`;\n",
       "      return (VEGA_DEBUG[key] == version) ?\n",
       "        Promise.resolve(paths[lib]) :\n",
       "        new Promise(function(resolve, reject) {\n",
       "          var s = document.createElement('script');\n",
       "          document.getElementsByTagName(\"head\")[0].appendChild(s);\n",
       "          s.async = true;\n",
       "          s.onload = () => {\n",
       "            VEGA_DEBUG[key] = version;\n",
       "            return resolve(paths[lib]);\n",
       "          };\n",
       "          s.onerror = () => reject(`Error loading script: ${paths[lib]}`);\n",
       "          s.src = paths[lib];\n",
       "        });\n",
       "    }\n",
       "\n",
       "    function showError(err) {\n",
       "      outputDiv.innerHTML = `<div class=\"error\" style=\"color:red;\">${err}</div>`;\n",
       "      throw err;\n",
       "    }\n",
       "\n",
       "    function displayChart(vegaEmbed) {\n",
       "      vegaEmbed(outputDiv, spec, embedOpt)\n",
       "        .catch(err => showError(`Javascript Error: ${err.message}<br>This usually means there's a typo in your chart specification. See the javascript console for the full traceback.`));\n",
       "    }\n",
       "\n",
       "    if(typeof define === \"function\" && define.amd) {\n",
       "      requirejs.config({paths});\n",
       "      let deps = [\"vega-embed\"];\n",
       "      require(deps, displayChart, err => showError(`Error loading script: ${err.message}`));\n",
       "    } else {\n",
       "      maybeLoadScript(\"vega\", \"5\")\n",
       "        .then(() => maybeLoadScript(\"vega-lite\", \"5.20.1\"))\n",
       "        .then(() => maybeLoadScript(\"vega-embed\", \"6\"))\n",
       "        .catch(showError)\n",
       "        .then(() => displayChart(vegaEmbed));\n",
       "    }\n",
       "  })({\"config\": {\"view\": {\"continuousWidth\": 300, \"continuousHeight\": 300}}, \"data\": {\"name\": \"data-559d0ec7be3685e1de0b170fde5dcf4d\"}, \"mark\": {\"type\": \"bar\"}, \"encoding\": {\"color\": {\"field\": \"time_of_day\", \"scale\": {\"scheme\": \"tableau10\"}, \"title\": \"Time of Day\", \"type\": \"nominal\"}, \"x\": {\"axis\": {\"labelAngle\": 0}, \"field\": \"hour_of_day\", \"title\": \"Hour of Day\", \"type\": \"nominal\"}, \"y\": {\"axis\": {\"format\": \".0%\"}, \"field\": \"Percent\", \"title\": \"Percentage\", \"type\": \"quantitative\"}}, \"height\": 400, \"title\": \"Hour of Day Distribution\", \"transform\": [{\"joinaggregate\": [{\"op\": \"sum\", \"field\": \"count\", \"as\": \"TotalSessions\"}]}, {\"calculate\": \"datum.count / datum.TotalSessions\", \"as\": \"Percent\"}], \"width\": 600, \"$schema\": \"https://vega.github.io/schema/vega-lite/v5.20.1.json\", \"datasets\": {\"data-559d0ec7be3685e1de0b170fde5dcf4d\": [{\"hour_of_day\": 0, \"time_of_day\": \"night\", \"count\": 5694}, {\"hour_of_day\": 1, \"time_of_day\": \"night\", \"count\": 4127}, {\"hour_of_day\": 2, \"time_of_day\": \"night\", \"count\": 2964}, {\"hour_of_day\": 3, \"time_of_day\": \"night\", \"count\": 2284}, {\"hour_of_day\": 4, \"time_of_day\": \"night\", \"count\": 1563}, {\"hour_of_day\": 5, \"time_of_day\": \"night\", \"count\": 1303}, {\"hour_of_day\": 6, \"time_of_day\": \"morning\", \"count\": 1733}, {\"hour_of_day\": 7, \"time_of_day\": \"morning\", \"count\": 2366}, {\"hour_of_day\": 8, \"time_of_day\": \"morning\", \"count\": 3397}, {\"hour_of_day\": 9, \"time_of_day\": \"morning\", \"count\": 5555}, {\"hour_of_day\": 10, \"time_of_day\": \"morning\", \"count\": 7483}, {\"hour_of_day\": 11, \"time_of_day\": \"morning\", \"count\": 8320}, {\"hour_of_day\": 12, \"time_of_day\": \"afternoon\", \"count\": 9696}, {\"hour_of_day\": 13, \"time_of_day\": \"afternoon\", \"count\": 10687}, {\"hour_of_day\": 14, \"time_of_day\": \"afternoon\", \"count\": 11590}, {\"hour_of_day\": 15, \"time_of_day\": \"afternoon\", \"count\": 11443}, {\"hour_of_day\": 16, \"time_of_day\": \"afternoon\", \"count\": 11636}, {\"hour_of_day\": 17, \"time_of_day\": \"afternoon\", \"count\": 10897}, {\"hour_of_day\": 18, \"time_of_day\": \"evening\", \"count\": 10319}, {\"hour_of_day\": 19, \"time_of_day\": \"evening\", \"count\": 9487}, {\"hour_of_day\": 20, \"time_of_day\": \"evening\", \"count\": 9366}, {\"hour_of_day\": 21, \"time_of_day\": \"evening\", \"count\": 9918}, {\"hour_of_day\": 22, \"time_of_day\": \"evening\", \"count\": 8822}, {\"hour_of_day\": 23, \"time_of_day\": \"evening\", \"count\": 7230}]}}, {\"mode\": \"vega-lite\"});\n",
       "</script>"
      ],
      "text/plain": [
       "alt.Chart(...)"
      ]
     },
     "execution_count": 20,
     "metadata": {},
     "output_type": "execute_result"
    }
   ],
   "source": [
    "import altair as alt\n",
    "\n",
    "# Group by 'hour_of_day' and get count of each hour\n",
    "hour_counts = (\n",
    "    df_sessions\n",
    "    .group_by(\"hour_of_day\", \"time_of_day\")\n",
    "    .agg(pl.len().alias(\"count\"))\n",
    "    .sort(\"hour_of_day\")\n",
    ")\n",
    "\n",
    "# Create chart with percentage transformation\n",
    "chart = alt.Chart(hour_counts).transform_joinaggregate(\n",
    "    TotalSessions='sum(count)'\n",
    ").transform_calculate(\n",
    "    Percent='datum.count / datum.TotalSessions'\n",
    ").mark_bar().encode(\n",
    "    x=alt.X('hour_of_day:N', title='Hour of Day', axis=alt.Axis(labelAngle=0)),\n",
    "    y=alt.Y('Percent:Q', title='Percentage', axis=alt.Axis(format='.0%')),\n",
    "    color=alt.Color('time_of_day:N', title=\"Time of Day\", scale=alt.Scale(scheme='tableau10'))\n",
    ").properties(\n",
    "    title=\"Hour of Day Distribution\",\n",
    "    width=600,\n",
    "    height=400\n",
    ")\n",
    "\n",
    "chart\n"
   ]
  },
  {
   "cell_type": "markdown",
   "metadata": {},
   "source": [
    "### Markov Chains"
   ]
  },
  {
   "cell_type": "code",
   "execution_count": 20,
   "metadata": {},
   "outputs": [
    {
     "data": {
      "text/html": [
       "<div><style>\n",
       ".dataframe > thead > tr,\n",
       ".dataframe > tbody > tr {\n",
       "  text-align: right;\n",
       "  white-space: pre-wrap;\n",
       "}\n",
       "</style>\n",
       "<small>shape: (9, 8)</small><table border=\"1\" class=\"dataframe\"><thead><tr><th>hist_user_behavior_reason_start</th><th>logout</th><th>endplay</th><th>trackdone</th><th>remote</th><th>fwdbtn</th><th>backbtn</th><th>clickrow</th></tr><tr><td>str</td><td>f64</td><td>f64</td><td>f64</td><td>f64</td><td>f64</td><td>f64</td><td>f64</td></tr></thead><tbody><tr><td>&quot;clickrow&quot;</td><td>0.0</td><td>0.045</td><td>0.041</td><td>0.0</td><td>0.016</td><td>0.001</td><td>0.0</td></tr><tr><td>&quot;fwdbtn&quot;</td><td>0.001</td><td>0.017</td><td>0.07</td><td>0.0</td><td>0.366</td><td>0.022</td><td>null</td></tr><tr><td>&quot;endplay&quot;</td><td>null</td><td>null</td><td>0.0</td><td>0.0</td><td>0.0</td><td>0.0</td><td>null</td></tr><tr><td>&quot;backbtn&quot;</td><td>0.0</td><td>0.003</td><td>0.018</td><td>0.0</td><td>0.014</td><td>0.042</td><td>null</td></tr><tr><td>&quot;remote&quot;</td><td>0.0</td><td>0.0</td><td>0.0</td><td>0.0</td><td>0.0</td><td>0.0</td><td>null</td></tr><tr><td>&quot;trackdone&quot;</td><td>0.002</td><td>0.02</td><td>0.208</td><td>0.001</td><td>0.084</td><td>0.012</td><td>0.0</td></tr><tr><td>&quot;playbtn&quot;</td><td>0.0</td><td>0.0</td><td>0.0</td><td>0.0</td><td>0.0</td><td>null</td><td>null</td></tr><tr><td>&quot;trackerror&quot;</td><td>null</td><td>0.0</td><td>0.0</td><td>null</td><td>0.0</td><td>0.0</td><td>null</td></tr><tr><td>&quot;appload&quot;</td><td>0.0</td><td>0.002</td><td>0.005</td><td>0.0</td><td>0.003</td><td>0.001</td><td>null</td></tr></tbody></table></div>"
      ],
      "text/plain": [
       "shape: (9, 8)\n",
       "┌────────────────────────────┬────────┬─────────┬───────────┬────────┬────────┬─────────┬──────────┐\n",
       "│ hist_user_behavior_reason_ ┆ logout ┆ endplay ┆ trackdone ┆ remote ┆ fwdbtn ┆ backbtn ┆ clickrow │\n",
       "│ star…                      ┆ ---    ┆ ---     ┆ ---       ┆ ---    ┆ ---    ┆ ---     ┆ ---      │\n",
       "│ ---                        ┆ f64    ┆ f64     ┆ f64       ┆ f64    ┆ f64    ┆ f64     ┆ f64      │\n",
       "│ str                        ┆        ┆         ┆           ┆        ┆        ┆         ┆          │\n",
       "╞════════════════════════════╪════════╪═════════╪═══════════╪════════╪════════╪═════════╪══════════╡\n",
       "│ clickrow                   ┆ 0.0    ┆ 0.045   ┆ 0.041     ┆ 0.0    ┆ 0.016  ┆ 0.001   ┆ 0.0      │\n",
       "│ fwdbtn                     ┆ 0.001  ┆ 0.017   ┆ 0.07      ┆ 0.0    ┆ 0.366  ┆ 0.022   ┆ null     │\n",
       "│ endplay                    ┆ null   ┆ null    ┆ 0.0       ┆ 0.0    ┆ 0.0    ┆ 0.0     ┆ null     │\n",
       "│ backbtn                    ┆ 0.0    ┆ 0.003   ┆ 0.018     ┆ 0.0    ┆ 0.014  ┆ 0.042   ┆ null     │\n",
       "│ remote                     ┆ 0.0    ┆ 0.0     ┆ 0.0       ┆ 0.0    ┆ 0.0    ┆ 0.0     ┆ null     │\n",
       "│ trackdone                  ┆ 0.002  ┆ 0.02    ┆ 0.208     ┆ 0.001  ┆ 0.084  ┆ 0.012   ┆ 0.0      │\n",
       "│ playbtn                    ┆ 0.0    ┆ 0.0     ┆ 0.0       ┆ 0.0    ┆ 0.0    ┆ null    ┆ null     │\n",
       "│ trackerror                 ┆ null   ┆ 0.0     ┆ 0.0       ┆ null   ┆ 0.0    ┆ 0.0     ┆ null     │\n",
       "│ appload                    ┆ 0.0    ┆ 0.002   ┆ 0.005     ┆ 0.0    ┆ 0.003  ┆ 0.001   ┆ null     │\n",
       "└────────────────────────────┴────────┴─────────┴───────────┴────────┴────────┴─────────┴──────────┘"
      ]
     },
     "execution_count": 20,
     "metadata": {},
     "output_type": "execute_result"
    }
   ],
   "source": [
    "transition_matrix = (\n",
    "    df_sessions\n",
    "    .group_by([\"hist_user_behavior_reason_start\", \"hist_user_behavior_reason_end\"])\n",
    "    .agg(pl.len().alias(\"count\"))\n",
    "    .with_columns([\n",
    "        pl.col(\"count\")\n",
    "        .sum()\n",
    "        .alias(\"total\")\n",
    "    ])\n",
    "    .with_columns([\n",
    "        (pl.col(\"count\") / pl.col(\"total\")).round(3).alias(\"percentage\")\n",
    "    ])\n",
    "    .pivot(\n",
    "        index=\"hist_user_behavior_reason_start\",\n",
    "        on=\"hist_user_behavior_reason_end\",\n",
    "        values=\"percentage\"\n",
    "    )\n",
    ")\n",
    "\n",
    "transition_matrix\n"
   ]
  },
  {
   "cell_type": "code",
   "execution_count": 38,
   "metadata": {},
   "outputs": [
    {
     "name": "stderr",
     "output_type": "stream",
     "text": [
      "/var/folders/xp/fzgbnn8531bd91fm5jkp8bgh0000gn/T/ipykernel_78651/55546933.py:18: DeprecationWarning: The argument `columns` for `DataFrame.pivot` is deprecated. It has been renamed to `on`.\n",
      "  .pivot(\n"
     ]
    },
    {
     "data": {
      "text/html": [
       "<div><style>\n",
       ".dataframe > thead > tr,\n",
       ".dataframe > tbody > tr {\n",
       "  text-align: right;\n",
       "  white-space: pre-wrap;\n",
       "}\n",
       "</style>\n",
       "<small>shape: (9, 8)</small><table border=\"1\" class=\"dataframe\"><thead><tr><th>hist_user_behavior_reason_start</th><th>logout</th><th>fwdbtn</th><th>remote</th><th>clickrow</th><th>endplay</th><th>backbtn</th><th>trackdone</th></tr><tr><td>str</td><td>f64</td><td>f64</td><td>f64</td><td>f64</td><td>f64</td><td>f64</td><td>f64</td></tr></thead><tbody><tr><td>&quot;playbtn&quot;</td><td>0.0</td><td>0.0</td><td>0.0</td><td>null</td><td>0.0</td><td>null</td><td>0.0</td></tr><tr><td>&quot;backbtn&quot;</td><td>0.0</td><td>0.014</td><td>0.0</td><td>null</td><td>0.003</td><td>0.042</td><td>0.018</td></tr><tr><td>&quot;clickrow&quot;</td><td>0.0</td><td>0.016</td><td>0.0</td><td>0.0</td><td>0.045</td><td>0.001</td><td>0.041</td></tr><tr><td>&quot;trackerror&quot;</td><td>null</td><td>0.0</td><td>null</td><td>null</td><td>0.0</td><td>0.0</td><td>0.0</td></tr><tr><td>&quot;endplay&quot;</td><td>null</td><td>0.0</td><td>0.0</td><td>null</td><td>null</td><td>0.0</td><td>0.0</td></tr><tr><td>&quot;trackdone&quot;</td><td>0.002</td><td>0.084</td><td>0.001</td><td>0.0</td><td>0.02</td><td>0.012</td><td>0.208</td></tr><tr><td>&quot;appload&quot;</td><td>0.0</td><td>0.003</td><td>0.0</td><td>null</td><td>0.002</td><td>0.001</td><td>0.005</td></tr><tr><td>&quot;remote&quot;</td><td>0.0</td><td>0.0</td><td>0.0</td><td>null</td><td>0.0</td><td>0.0</td><td>0.0</td></tr><tr><td>&quot;fwdbtn&quot;</td><td>0.001</td><td>0.366</td><td>0.0</td><td>null</td><td>0.017</td><td>0.022</td><td>0.07</td></tr></tbody></table></div>"
      ],
      "text/plain": [
       "shape: (9, 8)\n",
       "┌────────────────────────────┬────────┬────────┬────────┬──────────┬─────────┬─────────┬───────────┐\n",
       "│ hist_user_behavior_reason_ ┆ logout ┆ fwdbtn ┆ remote ┆ clickrow ┆ endplay ┆ backbtn ┆ trackdone │\n",
       "│ star…                      ┆ ---    ┆ ---    ┆ ---    ┆ ---      ┆ ---     ┆ ---     ┆ ---       │\n",
       "│ ---                        ┆ f64    ┆ f64    ┆ f64    ┆ f64      ┆ f64     ┆ f64     ┆ f64       │\n",
       "│ str                        ┆        ┆        ┆        ┆          ┆         ┆         ┆           │\n",
       "╞════════════════════════════╪════════╪════════╪════════╪══════════╪═════════╪═════════╪═══════════╡\n",
       "│ playbtn                    ┆ 0.0    ┆ 0.0    ┆ 0.0    ┆ null     ┆ 0.0     ┆ null    ┆ 0.0       │\n",
       "│ backbtn                    ┆ 0.0    ┆ 0.014  ┆ 0.0    ┆ null     ┆ 0.003   ┆ 0.042   ┆ 0.018     │\n",
       "│ clickrow                   ┆ 0.0    ┆ 0.016  ┆ 0.0    ┆ 0.0      ┆ 0.045   ┆ 0.001   ┆ 0.041     │\n",
       "│ trackerror                 ┆ null   ┆ 0.0    ┆ null   ┆ null     ┆ 0.0     ┆ 0.0     ┆ 0.0       │\n",
       "│ endplay                    ┆ null   ┆ 0.0    ┆ 0.0    ┆ null     ┆ null    ┆ 0.0     ┆ 0.0       │\n",
       "│ trackdone                  ┆ 0.002  ┆ 0.084  ┆ 0.001  ┆ 0.0      ┆ 0.02    ┆ 0.012   ┆ 0.208     │\n",
       "│ appload                    ┆ 0.0    ┆ 0.003  ┆ 0.0    ┆ null     ┆ 0.002   ┆ 0.001   ┆ 0.005     │\n",
       "│ remote                     ┆ 0.0    ┆ 0.0    ┆ 0.0    ┆ null     ┆ 0.0     ┆ 0.0     ┆ 0.0       │\n",
       "│ fwdbtn                     ┆ 0.001  ┆ 0.366  ┆ 0.0    ┆ null     ┆ 0.017   ┆ 0.022   ┆ 0.07      │\n",
       "└────────────────────────────┴────────┴────────┴────────┴──────────┴─────────┴─────────┴───────────┘"
      ]
     },
     "execution_count": 38,
     "metadata": {},
     "output_type": "execute_result"
    }
   ],
   "source": [
    "import polars as pl\n",
    "\n",
    "# Compute transition matrix (as row-wise normalized probabilities, rounded to 3 decimals)\n",
    "transition_matrix = (\n",
    "    df_sessions\n",
    "    .with_columns([\n",
    "        pl.col(\"hist_user_behavior_reason_start\")\n",
    "          .shift(-1)\n",
    "          .over(\"session_id\")\n",
    "          .alias(\"hist_user_behavior_reason_start_next\")\n",
    "    ])\n",
    "    .group_by([\"hist_user_behavior_reason_start\", \"hist_user_behavior_reason_end\"])\n",
    "    .agg(pl.len().alias(\"count\"))\n",
    "    .with_columns([\n",
    "        # Total outgoing transitions per start reason\n",
    "        pl.col(\"count\").sum().over(\"hist_user_behavior_reason_start\").alias(\"total_start\"),\n",
    "        pl.col(\"count\").sum().over(\"hist_user_behavior_reason_end\").alias(\"total_end\"),\n",
    "        pl.col(\"count\").sum().alias(\"total\")\n",
    "    ])\n",
    "    .with_columns([\n",
    "        # Normalize to percentages\n",
    "        (pl.col(\"count\") / pl.col(\"total\")).round(3).alias(\"percentage\")\n",
    "    ])\n",
    "    .pivot(\n",
    "        index=\"hist_user_behavior_reason_start\",\n",
    "        columns=\"hist_user_behavior_reason_end\",\n",
    "        values=\"percentage\"\n",
    "    )\n",
    ")\n",
    "\n",
    "transition_matrix\n"
   ]
  },
  {
   "cell_type": "code",
   "execution_count": 50,
   "metadata": {},
   "outputs": [
    {
     "data": {
      "text/html": [
       "<div><style>\n",
       ".dataframe > thead > tr,\n",
       ".dataframe > tbody > tr {\n",
       "  text-align: right;\n",
       "  white-space: pre-wrap;\n",
       "}\n",
       "</style>\n",
       "<small>shape: (51, 5)</small><table border=\"1\" class=\"dataframe\"><thead><tr><th>hist_user_behavior_reason_start</th><th>hist_user_behavior_reason_end</th><th>count</th><th>transition_percentage</th><th>marginal_end_probability</th></tr><tr><td>str</td><td>str</td><td>u32</td><td>f64</td><td>f64</td></tr></thead><tbody><tr><td>&quot;appload&quot;</td><td>&quot;backbtn&quot;</td><td>126</td><td>0.065</td><td>0.078</td></tr><tr><td>&quot;appload&quot;</td><td>&quot;endplay&quot;</td><td>408</td><td>0.21</td><td>0.088</td></tr><tr><td>&quot;appload&quot;</td><td>&quot;fwdbtn&quot;</td><td>585</td><td>0.301</td><td>0.485</td></tr><tr><td>&quot;appload&quot;</td><td>&quot;logout&quot;</td><td>12</td><td>0.006</td><td>0.003</td></tr><tr><td>&quot;appload&quot;</td><td>&quot;remote&quot;</td><td>6</td><td>0.003</td><td>0.002</td></tr><tr><td>&quot;appload&quot;</td><td>&quot;trackdone&quot;</td><td>805</td><td>0.415</td><td>0.344</td></tr><tr><td>&quot;backbtn&quot;</td><td>&quot;backbtn&quot;</td><td>7121</td><td>0.546</td><td>0.078</td></tr><tr><td>&quot;backbtn&quot;</td><td>&quot;endplay&quot;</td><td>468</td><td>0.036</td><td>0.088</td></tr><tr><td>&quot;backbtn&quot;</td><td>&quot;fwdbtn&quot;</td><td>2378</td><td>0.182</td><td>0.485</td></tr><tr><td>&quot;backbtn&quot;</td><td>&quot;logout&quot;</td><td>39</td><td>0.003</td><td>0.003</td></tr><tr><td>&quot;backbtn&quot;</td><td>&quot;remote&quot;</td><td>14</td><td>0.001</td><td>0.002</td></tr><tr><td>&quot;backbtn&quot;</td><td>&quot;trackdone&quot;</td><td>3014</td><td>0.231</td><td>0.344</td></tr><tr><td>&quot;clickrow&quot;</td><td>&quot;backbtn&quot;</td><td>133</td><td>0.008</td><td>0.078</td></tr><tr><td>&quot;clickrow&quot;</td><td>&quot;clickrow&quot;</td><td>7</td><td>0.0</td><td>0.0</td></tr><tr><td>&quot;clickrow&quot;</td><td>&quot;endplay&quot;</td><td>7564</td><td>0.432</td><td>0.088</td></tr><tr><td>&quot;clickrow&quot;</td><td>&quot;fwdbtn&quot;</td><td>2743</td><td>0.157</td><td>0.485</td></tr><tr><td>&quot;clickrow&quot;</td><td>&quot;logout&quot;</td><td>79</td><td>0.005</td><td>0.003</td></tr><tr><td>&quot;clickrow&quot;</td><td>&quot;remote&quot;</td><td>66</td><td>0.004</td><td>0.002</td></tr><tr><td>&quot;clickrow&quot;</td><td>&quot;trackdone&quot;</td><td>6922</td><td>0.395</td><td>0.344</td></tr><tr><td>&quot;endplay&quot;</td><td>&quot;backbtn&quot;</td><td>1</td><td>0.05</td><td>0.078</td></tr><tr><td>&quot;endplay&quot;</td><td>&quot;fwdbtn&quot;</td><td>5</td><td>0.25</td><td>0.485</td></tr><tr><td>&quot;endplay&quot;</td><td>&quot;remote&quot;</td><td>1</td><td>0.05</td><td>0.002</td></tr><tr><td>&quot;endplay&quot;</td><td>&quot;trackdone&quot;</td><td>13</td><td>0.65</td><td>0.344</td></tr><tr><td>&quot;fwdbtn&quot;</td><td>&quot;backbtn&quot;</td><td>3647</td><td>0.046</td><td>0.078</td></tr><tr><td>&quot;fwdbtn&quot;</td><td>&quot;endplay&quot;</td><td>2862</td><td>0.036</td><td>0.088</td></tr><tr><td>&quot;fwdbtn&quot;</td><td>&quot;fwdbtn&quot;</td><td>61403</td><td>0.768</td><td>0.485</td></tr><tr><td>&quot;fwdbtn&quot;</td><td>&quot;logout&quot;</td><td>130</td><td>0.002</td><td>0.003</td></tr><tr><td>&quot;fwdbtn&quot;</td><td>&quot;remote&quot;</td><td>52</td><td>0.001</td><td>0.002</td></tr><tr><td>&quot;fwdbtn&quot;</td><td>&quot;trackdone&quot;</td><td>11818</td><td>0.148</td><td>0.344</td></tr><tr><td>&quot;playbtn&quot;</td><td>&quot;endplay&quot;</td><td>47</td><td>0.303</td><td>0.088</td></tr><tr><td>&quot;playbtn&quot;</td><td>&quot;fwdbtn&quot;</td><td>54</td><td>0.348</td><td>0.485</td></tr><tr><td>&quot;playbtn&quot;</td><td>&quot;logout&quot;</td><td>1</td><td>0.006</td><td>0.003</td></tr><tr><td>&quot;playbtn&quot;</td><td>&quot;remote&quot;</td><td>2</td><td>0.013</td><td>0.002</td></tr><tr><td>&quot;playbtn&quot;</td><td>&quot;trackdone&quot;</td><td>51</td><td>0.329</td><td>0.344</td></tr><tr><td>&quot;remote&quot;</td><td>&quot;backbtn&quot;</td><td>6</td><td>0.044</td><td>0.078</td></tr><tr><td>&quot;remote&quot;</td><td>&quot;endplay&quot;</td><td>35</td><td>0.257</td><td>0.088</td></tr><tr><td>&quot;remote&quot;</td><td>&quot;fwdbtn&quot;</td><td>23</td><td>0.169</td><td>0.485</td></tr><tr><td>&quot;remote&quot;</td><td>&quot;logout&quot;</td><td>2</td><td>0.015</td><td>0.003</td></tr><tr><td>&quot;remote&quot;</td><td>&quot;remote&quot;</td><td>23</td><td>0.169</td><td>0.002</td></tr><tr><td>&quot;remote&quot;</td><td>&quot;trackdone&quot;</td><td>47</td><td>0.346</td><td>0.344</td></tr><tr><td>&quot;trackdone&quot;</td><td>&quot;backbtn&quot;</td><td>2090</td><td>0.038</td><td>0.078</td></tr><tr><td>&quot;trackdone&quot;</td><td>&quot;clickrow&quot;</td><td>1</td><td>0.0</td><td>0.0</td></tr><tr><td>&quot;trackdone&quot;</td><td>&quot;endplay&quot;</td><td>3435</td><td>0.062</td><td>0.088</td></tr><tr><td>&quot;trackdone&quot;</td><td>&quot;fwdbtn&quot;</td><td>14152</td><td>0.257</td><td>0.485</td></tr><tr><td>&quot;trackdone&quot;</td><td>&quot;logout&quot;</td><td>300</td><td>0.005</td><td>0.003</td></tr><tr><td>&quot;trackdone&quot;</td><td>&quot;remote&quot;</td><td>103</td><td>0.002</td><td>0.002</td></tr><tr><td>&quot;trackdone&quot;</td><td>&quot;trackdone&quot;</td><td>34994</td><td>0.635</td><td>0.344</td></tr><tr><td>&quot;trackerror&quot;</td><td>&quot;backbtn&quot;</td><td>5</td><td>0.054</td><td>0.078</td></tr><tr><td>&quot;trackerror&quot;</td><td>&quot;endplay&quot;</td><td>4</td><td>0.043</td><td>0.088</td></tr><tr><td>&quot;trackerror&quot;</td><td>&quot;fwdbtn&quot;</td><td>46</td><td>0.5</td><td>0.485</td></tr><tr><td>&quot;trackerror&quot;</td><td>&quot;trackdone&quot;</td><td>37</td><td>0.402</td><td>0.344</td></tr></tbody></table></div>"
      ],
      "text/plain": [
       "shape: (51, 5)\n",
       "┌──────────────────────┬──────────────────────┬───────┬──────────────────────┬─────────────────────┐\n",
       "│ hist_user_behavior_r ┆ hist_user_behavior_r ┆ count ┆ transition_percentag ┆ marginal_end_probab │\n",
       "│ eason_star…          ┆ eason_end            ┆ ---   ┆ e                    ┆ ility               │\n",
       "│ ---                  ┆ ---                  ┆ u32   ┆ ---                  ┆ ---                 │\n",
       "│ str                  ┆ str                  ┆       ┆ f64                  ┆ f64                 │\n",
       "╞══════════════════════╪══════════════════════╪═══════╪══════════════════════╪═════════════════════╡\n",
       "│ appload              ┆ backbtn              ┆ 126   ┆ 0.065                ┆ 0.078               │\n",
       "│ appload              ┆ endplay              ┆ 408   ┆ 0.21                 ┆ 0.088               │\n",
       "│ appload              ┆ fwdbtn               ┆ 585   ┆ 0.301                ┆ 0.485               │\n",
       "│ appload              ┆ logout               ┆ 12    ┆ 0.006                ┆ 0.003               │\n",
       "│ appload              ┆ remote               ┆ 6     ┆ 0.003                ┆ 0.002               │\n",
       "│ appload              ┆ trackdone            ┆ 805   ┆ 0.415                ┆ 0.344               │\n",
       "│ backbtn              ┆ backbtn              ┆ 7121  ┆ 0.546                ┆ 0.078               │\n",
       "│ backbtn              ┆ endplay              ┆ 468   ┆ 0.036                ┆ 0.088               │\n",
       "│ backbtn              ┆ fwdbtn               ┆ 2378  ┆ 0.182                ┆ 0.485               │\n",
       "│ backbtn              ┆ logout               ┆ 39    ┆ 0.003                ┆ 0.003               │\n",
       "│ backbtn              ┆ remote               ┆ 14    ┆ 0.001                ┆ 0.002               │\n",
       "│ backbtn              ┆ trackdone            ┆ 3014  ┆ 0.231                ┆ 0.344               │\n",
       "│ clickrow             ┆ backbtn              ┆ 133   ┆ 0.008                ┆ 0.078               │\n",
       "│ clickrow             ┆ clickrow             ┆ 7     ┆ 0.0                  ┆ 0.0                 │\n",
       "│ clickrow             ┆ endplay              ┆ 7564  ┆ 0.432                ┆ 0.088               │\n",
       "│ clickrow             ┆ fwdbtn               ┆ 2743  ┆ 0.157                ┆ 0.485               │\n",
       "│ clickrow             ┆ logout               ┆ 79    ┆ 0.005                ┆ 0.003               │\n",
       "│ clickrow             ┆ remote               ┆ 66    ┆ 0.004                ┆ 0.002               │\n",
       "│ clickrow             ┆ trackdone            ┆ 6922  ┆ 0.395                ┆ 0.344               │\n",
       "│ endplay              ┆ backbtn              ┆ 1     ┆ 0.05                 ┆ 0.078               │\n",
       "│ endplay              ┆ fwdbtn               ┆ 5     ┆ 0.25                 ┆ 0.485               │\n",
       "│ endplay              ┆ remote               ┆ 1     ┆ 0.05                 ┆ 0.002               │\n",
       "│ endplay              ┆ trackdone            ┆ 13    ┆ 0.65                 ┆ 0.344               │\n",
       "│ fwdbtn               ┆ backbtn              ┆ 3647  ┆ 0.046                ┆ 0.078               │\n",
       "│ fwdbtn               ┆ endplay              ┆ 2862  ┆ 0.036                ┆ 0.088               │\n",
       "│ fwdbtn               ┆ fwdbtn               ┆ 61403 ┆ 0.768                ┆ 0.485               │\n",
       "│ fwdbtn               ┆ logout               ┆ 130   ┆ 0.002                ┆ 0.003               │\n",
       "│ fwdbtn               ┆ remote               ┆ 52    ┆ 0.001                ┆ 0.002               │\n",
       "│ fwdbtn               ┆ trackdone            ┆ 11818 ┆ 0.148                ┆ 0.344               │\n",
       "│ playbtn              ┆ endplay              ┆ 47    ┆ 0.303                ┆ 0.088               │\n",
       "│ playbtn              ┆ fwdbtn               ┆ 54    ┆ 0.348                ┆ 0.485               │\n",
       "│ playbtn              ┆ logout               ┆ 1     ┆ 0.006                ┆ 0.003               │\n",
       "│ playbtn              ┆ remote               ┆ 2     ┆ 0.013                ┆ 0.002               │\n",
       "│ playbtn              ┆ trackdone            ┆ 51    ┆ 0.329                ┆ 0.344               │\n",
       "│ remote               ┆ backbtn              ┆ 6     ┆ 0.044                ┆ 0.078               │\n",
       "│ remote               ┆ endplay              ┆ 35    ┆ 0.257                ┆ 0.088               │\n",
       "│ remote               ┆ fwdbtn               ┆ 23    ┆ 0.169                ┆ 0.485               │\n",
       "│ remote               ┆ logout               ┆ 2     ┆ 0.015                ┆ 0.003               │\n",
       "│ remote               ┆ remote               ┆ 23    ┆ 0.169                ┆ 0.002               │\n",
       "│ remote               ┆ trackdone            ┆ 47    ┆ 0.346                ┆ 0.344               │\n",
       "│ trackdone            ┆ backbtn              ┆ 2090  ┆ 0.038                ┆ 0.078               │\n",
       "│ trackdone            ┆ clickrow             ┆ 1     ┆ 0.0                  ┆ 0.0                 │\n",
       "│ trackdone            ┆ endplay              ┆ 3435  ┆ 0.062                ┆ 0.088               │\n",
       "│ trackdone            ┆ fwdbtn               ┆ 14152 ┆ 0.257                ┆ 0.485               │\n",
       "│ trackdone            ┆ logout               ┆ 300   ┆ 0.005                ┆ 0.003               │\n",
       "│ trackdone            ┆ remote               ┆ 103   ┆ 0.002                ┆ 0.002               │\n",
       "│ trackdone            ┆ trackdone            ┆ 34994 ┆ 0.635                ┆ 0.344               │\n",
       "│ trackerror           ┆ backbtn              ┆ 5     ┆ 0.054                ┆ 0.078               │\n",
       "│ trackerror           ┆ endplay              ┆ 4     ┆ 0.043                ┆ 0.088               │\n",
       "│ trackerror           ┆ fwdbtn               ┆ 46    ┆ 0.5                  ┆ 0.485               │\n",
       "│ trackerror           ┆ trackdone            ┆ 37    ┆ 0.402                ┆ 0.344               │\n",
       "└──────────────────────┴──────────────────────┴───────┴──────────────────────┴─────────────────────┘"
      ]
     },
     "execution_count": 50,
     "metadata": {},
     "output_type": "execute_result"
    }
   ],
   "source": [
    "transition_stats = (\n",
    "    df_sessions\n",
    "    .group_by([\"hist_user_behavior_reason_start\", \"hist_user_behavior_reason_end\"])\n",
    "    .agg(pl.len().alias(\"count\"))\n",
    "    .with_columns([\n",
    "        # Total outgoing transitions from each start reason\n",
    "        pl.col(\"count\").sum().over(\"hist_user_behavior_reason_start\").alias(\"total_reason_start\"),\n",
    "        \n",
    "        # Total incoming transitions to each end reason\n",
    "        pl.col(\"count\").sum().over(\"hist_user_behavior_reason_end\").alias(\"total_reason_end\"),\n",
    "        pl.col(\"count\").sum().alias(\"total\")\n",
    "        \n",
    "    ])\n",
    "    .with_columns([\n",
    "        # Normalize in both directions\n",
    "        (pl.col(\"count\") / pl.col(\"total_reason_start\")).round(3).alias(\"transition_percentage\"),\n",
    "        (pl.col(\"total_reason_end\") / pl.col(\"total\")).round(3).alias(\"marginal_end_probability\")\n",
    "    ]).select([\"hist_user_behavior_reason_start\", \"hist_user_behavior_reason_end\", \"count\", \"transition_percentage\", \"marginal_end_probability\"])\n",
    "    .sort(\"hist_user_behavior_reason_start\", \"hist_user_behavior_reason_end\") \n",
    ")\n",
    "\n",
    "transition_stats"
   ]
  },
  {
   "cell_type": "code",
   "execution_count": 77,
   "metadata": {},
   "outputs": [
    {
     "data": {
      "text/html": [
       "<div><style>\n",
       ".dataframe > thead > tr,\n",
       ".dataframe > tbody > tr {\n",
       "  text-align: right;\n",
       "  white-space: pre-wrap;\n",
       "}\n",
       "</style>\n",
       "<small>shape: (20, 19)</small><table border=\"1\" class=\"dataframe\"><thead><tr><th>session_id</th><th>session_position</th><th>session_length</th><th>track_id_clean</th><th>context_switch</th><th>hist_user_behavior_n_seekfwd</th><th>hist_user_behavior_n_seekback</th><th>hist_user_behavior_is_shuffle</th><th>hour_of_day</th><th>date</th><th>premium</th><th>context_type</th><th>hist_user_behavior_reason_start</th><th>hist_user_behavior_reason_end</th><th>is_weekend</th><th>season</th><th>time_of_day</th><th>song_completion</th><th>pause_length_before_play</th></tr><tr><td>str</td><td>i64</td><td>i64</td><td>str</td><td>i64</td><td>i64</td><td>i64</td><td>bool</td><td>i64</td><td>date</td><td>bool</td><td>str</td><td>str</td><td>str</td><td>i8</td><td>str</td><td>str</td><td>i32</td><td>i32</td></tr></thead><tbody><tr><td>&quot;0_00db8f5e-e71f-44c5-a7e3-0b35…</td><td>1</td><td>20</td><td>&quot;t_204562f8-e089-4305-be51-1991…</td><td>0</td><td>0</td><td>0</td><td>true</td><td>22</td><td>2018-07-14</td><td>true</td><td>&quot;user_collection&quot;</td><td>&quot;clickrow&quot;</td><td>&quot;fwdbtn&quot;</td><td>1</td><td>&quot;summer&quot;</td><td>&quot;evening&quot;</td><td>4</td><td>3</td></tr><tr><td>&quot;0_00db8f5e-e71f-44c5-a7e3-0b35…</td><td>2</td><td>20</td><td>&quot;t_6d21a6b7-bdac-46cc-bc45-9c73…</td><td>0</td><td>0</td><td>0</td><td>true</td><td>22</td><td>2018-07-14</td><td>true</td><td>&quot;user_collection&quot;</td><td>&quot;fwdbtn&quot;</td><td>&quot;fwdbtn&quot;</td><td>1</td><td>&quot;summer&quot;</td><td>&quot;evening&quot;</td><td>4</td><td>0</td></tr><tr><td>&quot;0_00db8f5e-e71f-44c5-a7e3-0b35…</td><td>3</td><td>20</td><td>&quot;t_338cb0f3-0035-418f-ab2d-3f93…</td><td>0</td><td>0</td><td>0</td><td>true</td><td>22</td><td>2018-07-14</td><td>true</td><td>&quot;user_collection&quot;</td><td>&quot;fwdbtn&quot;</td><td>&quot;fwdbtn&quot;</td><td>1</td><td>&quot;summer&quot;</td><td>&quot;evening&quot;</td><td>4</td><td>0</td></tr><tr><td>&quot;0_00db8f5e-e71f-44c5-a7e3-0b35…</td><td>4</td><td>20</td><td>&quot;t_297efa33-b070-4e5d-bb42-1112…</td><td>0</td><td>0</td><td>0</td><td>true</td><td>22</td><td>2018-07-14</td><td>true</td><td>&quot;user_collection&quot;</td><td>&quot;fwdbtn&quot;</td><td>&quot;fwdbtn&quot;</td><td>1</td><td>&quot;summer&quot;</td><td>&quot;evening&quot;</td><td>4</td><td>0</td></tr><tr><td>&quot;0_00db8f5e-e71f-44c5-a7e3-0b35…</td><td>5</td><td>20</td><td>&quot;t_9a31436c-a57a-4d7a-9bbc-50f0…</td><td>0</td><td>0</td><td>0</td><td>true</td><td>22</td><td>2018-07-14</td><td>true</td><td>&quot;user_collection&quot;</td><td>&quot;fwdbtn&quot;</td><td>&quot;fwdbtn&quot;</td><td>1</td><td>&quot;summer&quot;</td><td>&quot;evening&quot;</td><td>4</td><td>0</td></tr><tr><td>&quot;0_00db8f5e-e71f-44c5-a7e3-0b35…</td><td>6</td><td>20</td><td>&quot;t_e9901b0e-dc9d-429c-a8a9-dde6…</td><td>0</td><td>0</td><td>0</td><td>true</td><td>22</td><td>2018-07-14</td><td>true</td><td>&quot;user_collection&quot;</td><td>&quot;fwdbtn&quot;</td><td>&quot;fwdbtn&quot;</td><td>1</td><td>&quot;summer&quot;</td><td>&quot;evening&quot;</td><td>4</td><td>0</td></tr><tr><td>&quot;0_00db8f5e-e71f-44c5-a7e3-0b35…</td><td>7</td><td>20</td><td>&quot;t_f5205a27-c6b0-4c4d-b45f-3127…</td><td>0</td><td>0</td><td>0</td><td>true</td><td>22</td><td>2018-07-14</td><td>true</td><td>&quot;user_collection&quot;</td><td>&quot;fwdbtn&quot;</td><td>&quot;trackdone&quot;</td><td>1</td><td>&quot;summer&quot;</td><td>&quot;evening&quot;</td><td>4</td><td>0</td></tr><tr><td>&quot;0_00db8f5e-e71f-44c5-a7e3-0b35…</td><td>8</td><td>20</td><td>&quot;t_e8308b79-41cf-4b31-b159-df09…</td><td>0</td><td>0</td><td>0</td><td>true</td><td>22</td><td>2018-07-14</td><td>true</td><td>&quot;user_collection&quot;</td><td>&quot;trackdone&quot;</td><td>&quot;fwdbtn&quot;</td><td>1</td><td>&quot;summer&quot;</td><td>&quot;evening&quot;</td><td>4</td><td>1</td></tr><tr><td>&quot;0_00db8f5e-e71f-44c5-a7e3-0b35…</td><td>9</td><td>20</td><td>&quot;t_fb493d48-c98a-4101-8091-70d3…</td><td>0</td><td>0</td><td>0</td><td>true</td><td>23</td><td>2018-07-14</td><td>true</td><td>&quot;user_collection&quot;</td><td>&quot;fwdbtn&quot;</td><td>&quot;trackdone&quot;</td><td>1</td><td>&quot;summer&quot;</td><td>&quot;evening&quot;</td><td>4</td><td>0</td></tr><tr><td>&quot;0_00db8f5e-e71f-44c5-a7e3-0b35…</td><td>10</td><td>20</td><td>&quot;t_2fd6279a-06cd-4d5d-9e54-1912…</td><td>0</td><td>0</td><td>0</td><td>true</td><td>23</td><td>2018-07-14</td><td>true</td><td>&quot;user_collection&quot;</td><td>&quot;trackdone&quot;</td><td>&quot;trackdone&quot;</td><td>1</td><td>&quot;summer&quot;</td><td>&quot;evening&quot;</td><td>4</td><td>0</td></tr><tr><td>&quot;0_00db8f5e-e71f-44c5-a7e3-0b35…</td><td>11</td><td>20</td><td>&quot;t_0ef6d2c8-faf9-4ebe-ac75-2bad…</td><td>0</td><td>0</td><td>0</td><td>true</td><td>23</td><td>2018-07-14</td><td>true</td><td>&quot;user_collection&quot;</td><td>&quot;trackdone&quot;</td><td>&quot;trackdone&quot;</td><td>1</td><td>&quot;summer&quot;</td><td>&quot;evening&quot;</td><td>4</td><td>0</td></tr><tr><td>&quot;0_00db8f5e-e71f-44c5-a7e3-0b35…</td><td>12</td><td>20</td><td>&quot;t_4319026b-d2b5-478d-bf37-8f28…</td><td>0</td><td>0</td><td>0</td><td>true</td><td>23</td><td>2018-07-14</td><td>true</td><td>&quot;user_collection&quot;</td><td>&quot;trackdone&quot;</td><td>&quot;trackdone&quot;</td><td>1</td><td>&quot;summer&quot;</td><td>&quot;evening&quot;</td><td>4</td><td>0</td></tr><tr><td>&quot;0_00db8f5e-e71f-44c5-a7e3-0b35…</td><td>13</td><td>20</td><td>&quot;t_de860a61-bb57-4386-9d5a-6ba1…</td><td>0</td><td>0</td><td>0</td><td>true</td><td>23</td><td>2018-07-14</td><td>true</td><td>&quot;user_collection&quot;</td><td>&quot;trackdone&quot;</td><td>&quot;endplay&quot;</td><td>1</td><td>&quot;summer&quot;</td><td>&quot;evening&quot;</td><td>4</td><td>1</td></tr><tr><td>&quot;0_00db8f5e-e71f-44c5-a7e3-0b35…</td><td>14</td><td>20</td><td>&quot;t_98e73634-8f33-4275-b544-3451…</td><td>0</td><td>0</td><td>0</td><td>false</td><td>23</td><td>2018-07-14</td><td>true</td><td>&quot;user_collection&quot;</td><td>&quot;clickrow&quot;</td><td>&quot;trackdone&quot;</td><td>1</td><td>&quot;summer&quot;</td><td>&quot;evening&quot;</td><td>4</td><td>0</td></tr><tr><td>&quot;0_00db8f5e-e71f-44c5-a7e3-0b35…</td><td>15</td><td>20</td><td>&quot;t_8c4d29b1-e0bf-464c-88f7-ac19…</td><td>0</td><td>0</td><td>0</td><td>false</td><td>23</td><td>2018-07-14</td><td>true</td><td>&quot;user_collection&quot;</td><td>&quot;trackdone&quot;</td><td>&quot;endplay&quot;</td><td>1</td><td>&quot;summer&quot;</td><td>&quot;evening&quot;</td><td>4</td><td>1</td></tr><tr><td>&quot;0_00db8f5e-e71f-44c5-a7e3-0b35…</td><td>16</td><td>20</td><td>&quot;t_7c8d4b4b-af60-4d10-82c5-a048…</td><td>1</td><td>0</td><td>0</td><td>false</td><td>23</td><td>2018-07-14</td><td>true</td><td>&quot;catalog&quot;</td><td>&quot;clickrow&quot;</td><td>&quot;trackdone&quot;</td><td>1</td><td>&quot;summer&quot;</td><td>&quot;evening&quot;</td><td>4</td><td>0</td></tr><tr><td>&quot;0_00db8f5e-e71f-44c5-a7e3-0b35…</td><td>17</td><td>20</td><td>&quot;t_06d73d42-e69d-4463-aec6-d41b…</td><td>0</td><td>0</td><td>0</td><td>false</td><td>23</td><td>2018-07-14</td><td>true</td><td>&quot;catalog&quot;</td><td>&quot;trackdone&quot;</td><td>&quot;trackdone&quot;</td><td>1</td><td>&quot;summer&quot;</td><td>&quot;evening&quot;</td><td>4</td><td>0</td></tr><tr><td>&quot;0_00db8f5e-e71f-44c5-a7e3-0b35…</td><td>18</td><td>20</td><td>&quot;t_a82a3d5d-8799-4dd2-8c22-ca33…</td><td>1</td><td>0</td><td>0</td><td>false</td><td>23</td><td>2018-07-14</td><td>true</td><td>&quot;radio&quot;</td><td>&quot;clickrow&quot;</td><td>&quot;trackdone&quot;</td><td>1</td><td>&quot;summer&quot;</td><td>&quot;evening&quot;</td><td>4</td><td>0</td></tr><tr><td>&quot;0_00db8f5e-e71f-44c5-a7e3-0b35…</td><td>19</td><td>20</td><td>&quot;t_b905c13c-670f-4ae1-a139-84b9…</td><td>0</td><td>0</td><td>0</td><td>false</td><td>23</td><td>2018-07-14</td><td>true</td><td>&quot;radio&quot;</td><td>&quot;trackdone&quot;</td><td>&quot;trackdone&quot;</td><td>1</td><td>&quot;summer&quot;</td><td>&quot;evening&quot;</td><td>4</td><td>0</td></tr><tr><td>&quot;0_00db8f5e-e71f-44c5-a7e3-0b35…</td><td>20</td><td>20</td><td>&quot;t_c8459230-00b1-4e93-9d66-34b2…</td><td>0</td><td>0</td><td>0</td><td>false</td><td>23</td><td>2018-07-14</td><td>true</td><td>&quot;radio&quot;</td><td>&quot;trackdone&quot;</td><td>&quot;fwdbtn&quot;</td><td>1</td><td>&quot;summer&quot;</td><td>&quot;evening&quot;</td><td>4</td><td>1</td></tr></tbody></table></div>"
      ],
      "text/plain": [
       "shape: (20, 19)\n",
       "┌────────────┬────────────┬───────────┬───────────┬───┬────────┬───────────┬───────────┬───────────┐\n",
       "│ session_id ┆ session_po ┆ session_l ┆ track_id_ ┆ … ┆ season ┆ time_of_d ┆ song_comp ┆ pause_len │\n",
       "│ ---        ┆ sition     ┆ ength     ┆ clean     ┆   ┆ ---    ┆ ay        ┆ letion    ┆ gth_befor │\n",
       "│ str        ┆ ---        ┆ ---       ┆ ---       ┆   ┆ str    ┆ ---       ┆ ---       ┆ e_play    │\n",
       "│            ┆ i64        ┆ i64       ┆ str       ┆   ┆        ┆ str       ┆ i32       ┆ ---       │\n",
       "│            ┆            ┆           ┆           ┆   ┆        ┆           ┆           ┆ i32       │\n",
       "╞════════════╪════════════╪═══════════╪═══════════╪═══╪════════╪═══════════╪═══════════╪═══════════╡\n",
       "│ 0_00db8f5e ┆ 1          ┆ 20        ┆ t_204562f ┆ … ┆ summer ┆ evening   ┆ 4         ┆ 3         │\n",
       "│ -e71f-44c5 ┆            ┆           ┆ 8-e089-43 ┆   ┆        ┆           ┆           ┆           │\n",
       "│ -a7e3-0b35 ┆            ┆           ┆ 05-be51-1 ┆   ┆        ┆           ┆           ┆           │\n",
       "│ …          ┆            ┆           ┆ 991…      ┆   ┆        ┆           ┆           ┆           │\n",
       "│ 0_00db8f5e ┆ 2          ┆ 20        ┆ t_6d21a6b ┆ … ┆ summer ┆ evening   ┆ 4         ┆ 0         │\n",
       "│ -e71f-44c5 ┆            ┆           ┆ 7-bdac-46 ┆   ┆        ┆           ┆           ┆           │\n",
       "│ -a7e3-0b35 ┆            ┆           ┆ cc-bc45-9 ┆   ┆        ┆           ┆           ┆           │\n",
       "│ …          ┆            ┆           ┆ c73…      ┆   ┆        ┆           ┆           ┆           │\n",
       "│ 0_00db8f5e ┆ 3          ┆ 20        ┆ t_338cb0f ┆ … ┆ summer ┆ evening   ┆ 4         ┆ 0         │\n",
       "│ -e71f-44c5 ┆            ┆           ┆ 3-0035-41 ┆   ┆        ┆           ┆           ┆           │\n",
       "│ -a7e3-0b35 ┆            ┆           ┆ 8f-ab2d-3 ┆   ┆        ┆           ┆           ┆           │\n",
       "│ …          ┆            ┆           ┆ f93…      ┆   ┆        ┆           ┆           ┆           │\n",
       "│ 0_00db8f5e ┆ 4          ┆ 20        ┆ t_297efa3 ┆ … ┆ summer ┆ evening   ┆ 4         ┆ 0         │\n",
       "│ -e71f-44c5 ┆            ┆           ┆ 3-b070-4e ┆   ┆        ┆           ┆           ┆           │\n",
       "│ -a7e3-0b35 ┆            ┆           ┆ 5d-bb42-1 ┆   ┆        ┆           ┆           ┆           │\n",
       "│ …          ┆            ┆           ┆ 112…      ┆   ┆        ┆           ┆           ┆           │\n",
       "│ 0_00db8f5e ┆ 5          ┆ 20        ┆ t_9a31436 ┆ … ┆ summer ┆ evening   ┆ 4         ┆ 0         │\n",
       "│ -e71f-44c5 ┆            ┆           ┆ c-a57a-4d ┆   ┆        ┆           ┆           ┆           │\n",
       "│ -a7e3-0b35 ┆            ┆           ┆ 7a-9bbc-5 ┆   ┆        ┆           ┆           ┆           │\n",
       "│ …          ┆            ┆           ┆ 0f0…      ┆   ┆        ┆           ┆           ┆           │\n",
       "│ 0_00db8f5e ┆ 6          ┆ 20        ┆ t_e9901b0 ┆ … ┆ summer ┆ evening   ┆ 4         ┆ 0         │\n",
       "│ -e71f-44c5 ┆            ┆           ┆ e-dc9d-42 ┆   ┆        ┆           ┆           ┆           │\n",
       "│ -a7e3-0b35 ┆            ┆           ┆ 9c-a8a9-d ┆   ┆        ┆           ┆           ┆           │\n",
       "│ …          ┆            ┆           ┆ de6…      ┆   ┆        ┆           ┆           ┆           │\n",
       "│ 0_00db8f5e ┆ 7          ┆ 20        ┆ t_f5205a2 ┆ … ┆ summer ┆ evening   ┆ 4         ┆ 0         │\n",
       "│ -e71f-44c5 ┆            ┆           ┆ 7-c6b0-4c ┆   ┆        ┆           ┆           ┆           │\n",
       "│ -a7e3-0b35 ┆            ┆           ┆ 4d-b45f-3 ┆   ┆        ┆           ┆           ┆           │\n",
       "│ …          ┆            ┆           ┆ 127…      ┆   ┆        ┆           ┆           ┆           │\n",
       "│ 0_00db8f5e ┆ 8          ┆ 20        ┆ t_e8308b7 ┆ … ┆ summer ┆ evening   ┆ 4         ┆ 1         │\n",
       "│ -e71f-44c5 ┆            ┆           ┆ 9-41cf-4b ┆   ┆        ┆           ┆           ┆           │\n",
       "│ -a7e3-0b35 ┆            ┆           ┆ 31-b159-d ┆   ┆        ┆           ┆           ┆           │\n",
       "│ …          ┆            ┆           ┆ f09…      ┆   ┆        ┆           ┆           ┆           │\n",
       "│ 0_00db8f5e ┆ 9          ┆ 20        ┆ t_fb493d4 ┆ … ┆ summer ┆ evening   ┆ 4         ┆ 0         │\n",
       "│ -e71f-44c5 ┆            ┆           ┆ 8-c98a-41 ┆   ┆        ┆           ┆           ┆           │\n",
       "│ -a7e3-0b35 ┆            ┆           ┆ 01-8091-7 ┆   ┆        ┆           ┆           ┆           │\n",
       "│ …          ┆            ┆           ┆ 0d3…      ┆   ┆        ┆           ┆           ┆           │\n",
       "│ 0_00db8f5e ┆ 10         ┆ 20        ┆ t_2fd6279 ┆ … ┆ summer ┆ evening   ┆ 4         ┆ 0         │\n",
       "│ -e71f-44c5 ┆            ┆           ┆ a-06cd-4d ┆   ┆        ┆           ┆           ┆           │\n",
       "│ -a7e3-0b35 ┆            ┆           ┆ 5d-9e54-1 ┆   ┆        ┆           ┆           ┆           │\n",
       "│ …          ┆            ┆           ┆ 912…      ┆   ┆        ┆           ┆           ┆           │\n",
       "│ 0_00db8f5e ┆ 11         ┆ 20        ┆ t_0ef6d2c ┆ … ┆ summer ┆ evening   ┆ 4         ┆ 0         │\n",
       "│ -e71f-44c5 ┆            ┆           ┆ 8-faf9-4e ┆   ┆        ┆           ┆           ┆           │\n",
       "│ -a7e3-0b35 ┆            ┆           ┆ be-ac75-2 ┆   ┆        ┆           ┆           ┆           │\n",
       "│ …          ┆            ┆           ┆ bad…      ┆   ┆        ┆           ┆           ┆           │\n",
       "│ 0_00db8f5e ┆ 12         ┆ 20        ┆ t_4319026 ┆ … ┆ summer ┆ evening   ┆ 4         ┆ 0         │\n",
       "│ -e71f-44c5 ┆            ┆           ┆ b-d2b5-47 ┆   ┆        ┆           ┆           ┆           │\n",
       "│ -a7e3-0b35 ┆            ┆           ┆ 8d-bf37-8 ┆   ┆        ┆           ┆           ┆           │\n",
       "│ …          ┆            ┆           ┆ f28…      ┆   ┆        ┆           ┆           ┆           │\n",
       "│ 0_00db8f5e ┆ 13         ┆ 20        ┆ t_de860a6 ┆ … ┆ summer ┆ evening   ┆ 4         ┆ 1         │\n",
       "│ -e71f-44c5 ┆            ┆           ┆ 1-bb57-43 ┆   ┆        ┆           ┆           ┆           │\n",
       "│ -a7e3-0b35 ┆            ┆           ┆ 86-9d5a-6 ┆   ┆        ┆           ┆           ┆           │\n",
       "│ …          ┆            ┆           ┆ ba1…      ┆   ┆        ┆           ┆           ┆           │\n",
       "│ 0_00db8f5e ┆ 14         ┆ 20        ┆ t_98e7363 ┆ … ┆ summer ┆ evening   ┆ 4         ┆ 0         │\n",
       "│ -e71f-44c5 ┆            ┆           ┆ 4-8f33-42 ┆   ┆        ┆           ┆           ┆           │\n",
       "│ -a7e3-0b35 ┆            ┆           ┆ 75-b544-3 ┆   ┆        ┆           ┆           ┆           │\n",
       "│ …          ┆            ┆           ┆ 451…      ┆   ┆        ┆           ┆           ┆           │\n",
       "│ 0_00db8f5e ┆ 15         ┆ 20        ┆ t_8c4d29b ┆ … ┆ summer ┆ evening   ┆ 4         ┆ 1         │\n",
       "│ -e71f-44c5 ┆            ┆           ┆ 1-e0bf-46 ┆   ┆        ┆           ┆           ┆           │\n",
       "│ -a7e3-0b35 ┆            ┆           ┆ 4c-88f7-a ┆   ┆        ┆           ┆           ┆           │\n",
       "│ …          ┆            ┆           ┆ c19…      ┆   ┆        ┆           ┆           ┆           │\n",
       "│ 0_00db8f5e ┆ 16         ┆ 20        ┆ t_7c8d4b4 ┆ … ┆ summer ┆ evening   ┆ 4         ┆ 0         │\n",
       "│ -e71f-44c5 ┆            ┆           ┆ b-af60-4d ┆   ┆        ┆           ┆           ┆           │\n",
       "│ -a7e3-0b35 ┆            ┆           ┆ 10-82c5-a ┆   ┆        ┆           ┆           ┆           │\n",
       "│ …          ┆            ┆           ┆ 048…      ┆   ┆        ┆           ┆           ┆           │\n",
       "│ 0_00db8f5e ┆ 17         ┆ 20        ┆ t_06d73d4 ┆ … ┆ summer ┆ evening   ┆ 4         ┆ 0         │\n",
       "│ -e71f-44c5 ┆            ┆           ┆ 2-e69d-44 ┆   ┆        ┆           ┆           ┆           │\n",
       "│ -a7e3-0b35 ┆            ┆           ┆ 63-aec6-d ┆   ┆        ┆           ┆           ┆           │\n",
       "│ …          ┆            ┆           ┆ 41b…      ┆   ┆        ┆           ┆           ┆           │\n",
       "│ 0_00db8f5e ┆ 18         ┆ 20        ┆ t_a82a3d5 ┆ … ┆ summer ┆ evening   ┆ 4         ┆ 0         │\n",
       "│ -e71f-44c5 ┆            ┆           ┆ d-8799-4d ┆   ┆        ┆           ┆           ┆           │\n",
       "│ -a7e3-0b35 ┆            ┆           ┆ d2-8c22-c ┆   ┆        ┆           ┆           ┆           │\n",
       "│ …          ┆            ┆           ┆ a33…      ┆   ┆        ┆           ┆           ┆           │\n",
       "│ 0_00db8f5e ┆ 19         ┆ 20        ┆ t_b905c13 ┆ … ┆ summer ┆ evening   ┆ 4         ┆ 0         │\n",
       "│ -e71f-44c5 ┆            ┆           ┆ c-670f-4a ┆   ┆        ┆           ┆           ┆           │\n",
       "│ -a7e3-0b35 ┆            ┆           ┆ e1-a139-8 ┆   ┆        ┆           ┆           ┆           │\n",
       "│ …          ┆            ┆           ┆ 4b9…      ┆   ┆        ┆           ┆           ┆           │\n",
       "│ 0_00db8f5e ┆ 20         ┆ 20        ┆ t_c845923 ┆ … ┆ summer ┆ evening   ┆ 4         ┆ 1         │\n",
       "│ -e71f-44c5 ┆            ┆           ┆ 0-00b1-4e ┆   ┆        ┆           ┆           ┆           │\n",
       "│ -a7e3-0b35 ┆            ┆           ┆ 93-9d66-3 ┆   ┆        ┆           ┆           ┆           │\n",
       "│ …          ┆            ┆           ┆ 4b2…      ┆   ┆        ┆           ┆           ┆           │\n",
       "└────────────┴────────────┴───────────┴───────────┴───┴────────┴───────────┴───────────┴───────────┘"
      ]
     },
     "execution_count": 77,
     "metadata": {},
     "output_type": "execute_result"
    }
   ],
   "source": [
    "id = df_sessions.filter(pl.col(\"hist_user_behavior_reason_start\") == 'clickrow').sample(n=1).select(\"session_id\").to_numpy()[0][0]\n",
    "df_sessions.filter(pl.col(\"session_id\") == id)"
   ]
  }
 ],
 "metadata": {
  "kernelspec": {
   "display_name": "Python 3 (ipykernel)",
   "language": "python",
   "name": "python3"
  },
  "language_info": {
   "codemirror_mode": {
    "name": "ipython",
    "version": 3
   },
   "file_extension": ".py",
   "mimetype": "text/x-python",
   "name": "python",
   "nbconvert_exporter": "python",
   "pygments_lexer": "ipython3",
   "version": "3.11.7"
  }
 },
 "nbformat": 4,
 "nbformat_minor": 4
}
