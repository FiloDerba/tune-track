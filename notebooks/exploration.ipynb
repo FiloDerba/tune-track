{
 "cells": [
  {
   "cell_type": "code",
   "execution_count": 1,
   "metadata": {},
   "outputs": [],
   "source": [
    "import os\n",
    "os.chdir(\"/Users/admin/Documents/Github/tune-track\")  "
   ]
  },
  {
   "cell_type": "code",
   "execution_count": 2,
   "metadata": {
    "pycharm": {
     "is_executing": true
    }
   },
   "outputs": [],
   "source": [
    "import polars as pl\n",
    "import altair as alt\n",
    "from data_preparation.functions import process_original_columns\n",
    "import plotly.express as px"
   ]
  },
  {
   "cell_type": "code",
   "execution_count": 3,
   "metadata": {
    "collapsed": false,
    "jupyter": {
     "outputs_hidden": false
    }
   },
   "outputs": [],
   "source": [
    "df_sessions = pl.read_csv(\"data/log.csv\")"
   ]
  },
  {
   "cell_type": "markdown",
   "metadata": {},
   "source": [
    "### Basic Data Exploration"
   ]
  },
  {
   "cell_type": "code",
   "execution_count": 4,
   "metadata": {},
   "outputs": [
    {
     "data": {
      "text/html": [
       "<div><style>\n",
       ".dataframe > thead > tr,\n",
       ".dataframe > tbody > tr {\n",
       "  text-align: right;\n",
       "  white-space: pre-wrap;\n",
       "}\n",
       "</style>\n",
       "<small>shape: (1, 21)</small><table border=\"1\" class=\"dataframe\"><thead><tr><th>session_id</th><th>session_position</th><th>session_length</th><th>track_id_clean</th><th>skip_1</th><th>skip_2</th><th>skip_3</th><th>not_skipped</th><th>context_switch</th><th>no_pause_before_play</th><th>short_pause_before_play</th><th>long_pause_before_play</th><th>hist_user_behavior_n_seekfwd</th><th>hist_user_behavior_n_seekback</th><th>hist_user_behavior_is_shuffle</th><th>hour_of_day</th><th>date</th><th>premium</th><th>context_type</th><th>hist_user_behavior_reason_start</th><th>hist_user_behavior_reason_end</th></tr><tr><td>u32</td><td>u32</td><td>u32</td><td>u32</td><td>u32</td><td>u32</td><td>u32</td><td>u32</td><td>u32</td><td>u32</td><td>u32</td><td>u32</td><td>u32</td><td>u32</td><td>u32</td><td>u32</td><td>u32</td><td>u32</td><td>u32</td><td>u32</td><td>u32</td></tr></thead><tbody><tr><td>0</td><td>0</td><td>0</td><td>0</td><td>0</td><td>0</td><td>0</td><td>0</td><td>0</td><td>0</td><td>0</td><td>0</td><td>0</td><td>0</td><td>0</td><td>0</td><td>0</td><td>0</td><td>0</td><td>0</td><td>0</td></tr></tbody></table></div>"
      ],
      "text/plain": [
       "shape: (1, 21)\n",
       "┌────────────┬───────────┬───────────┬───────────┬───┬─────────┬───────────┬───────────┬───────────┐\n",
       "│ session_id ┆ session_p ┆ session_l ┆ track_id_ ┆ … ┆ premium ┆ context_t ┆ hist_user ┆ hist_user │\n",
       "│ ---        ┆ osition   ┆ ength     ┆ clean     ┆   ┆ ---     ┆ ype       ┆ _behavior ┆ _behavior │\n",
       "│ u32        ┆ ---       ┆ ---       ┆ ---       ┆   ┆ u32     ┆ ---       ┆ _reason_s ┆ _reason_e │\n",
       "│            ┆ u32       ┆ u32       ┆ u32       ┆   ┆         ┆ u32       ┆ tar…      ┆ nd        │\n",
       "│            ┆           ┆           ┆           ┆   ┆         ┆           ┆ ---       ┆ ---       │\n",
       "│            ┆           ┆           ┆           ┆   ┆         ┆           ┆ u32       ┆ u32       │\n",
       "╞════════════╪═══════════╪═══════════╪═══════════╪═══╪═════════╪═══════════╪═══════════╪═══════════╡\n",
       "│ 0          ┆ 0         ┆ 0         ┆ 0         ┆ … ┆ 0       ┆ 0         ┆ 0         ┆ 0         │\n",
       "└────────────┴───────────┴───────────┴───────────┴───┴─────────┴───────────┴───────────┴───────────┘"
      ]
     },
     "execution_count": 4,
     "metadata": {},
     "output_type": "execute_result"
    }
   ],
   "source": [
    "df_sessions.null_count()\n"
   ]
  },
  {
   "cell_type": "code",
   "execution_count": 5,
   "metadata": {},
   "outputs": [],
   "source": [
    "df_sessions = process_original_columns(df_sessions)"
   ]
  },
  {
   "cell_type": "code",
   "execution_count": 25,
   "metadata": {},
   "outputs": [
    {
     "data": {
      "text/html": [
       "<div><style>\n",
       ".dataframe > thead > tr,\n",
       ".dataframe > tbody > tr {\n",
       "  text-align: right;\n",
       "  white-space: pre-wrap;\n",
       "}\n",
       "</style>\n",
       "<small>shape: (10, 19)</small><table border=\"1\" class=\"dataframe\"><thead><tr><th>session_id</th><th>session_position</th><th>session_length</th><th>track_id_clean</th><th>context_switch</th><th>hist_user_behavior_n_seekfwd</th><th>hist_user_behavior_n_seekback</th><th>hist_user_behavior_is_shuffle</th><th>hour_of_day</th><th>date</th><th>premium</th><th>context_type</th><th>hist_user_behavior_reason_start</th><th>hist_user_behavior_reason_end</th><th>is_weekend</th><th>season</th><th>time_of_day</th><th>song_completion</th><th>pause_length_before_play</th></tr><tr><td>str</td><td>i64</td><td>i64</td><td>str</td><td>i64</td><td>i64</td><td>i64</td><td>bool</td><td>i64</td><td>date</td><td>bool</td><td>str</td><td>str</td><td>str</td><td>i8</td><td>str</td><td>str</td><td>i32</td><td>i32</td></tr></thead><tbody><tr><td>&quot;0_0eaeef5d-25e9-4429-bd55-af15…</td><td>11</td><td>20</td><td>&quot;t_773a9f8f-2d00-4467-965a-df70…</td><td>0</td><td>0</td><td>0</td><td>false</td><td>13</td><td>2018-07-15</td><td>true</td><td>&quot;user_collection&quot;</td><td>&quot;trackdone&quot;</td><td>&quot;trackdone&quot;</td><td>1</td><td>&quot;summer&quot;</td><td>&quot;afternoon&quot;</td><td>5</td><td>0</td></tr><tr><td>&quot;0_0eaeef5d-25e9-4429-bd55-af15…</td><td>12</td><td>20</td><td>&quot;t_94c1dd31-2410-4167-a75b-d643…</td><td>0</td><td>0</td><td>0</td><td>false</td><td>13</td><td>2018-07-15</td><td>true</td><td>&quot;user_collection&quot;</td><td>&quot;trackdone&quot;</td><td>&quot;trackdone&quot;</td><td>1</td><td>&quot;summer&quot;</td><td>&quot;afternoon&quot;</td><td>5</td><td>0</td></tr><tr><td>&quot;0_0eaeef5d-25e9-4429-bd55-af15…</td><td>13</td><td>20</td><td>&quot;t_bda3bb62-b717-4766-b417-4e7b…</td><td>0</td><td>0</td><td>0</td><td>false</td><td>13</td><td>2018-07-15</td><td>true</td><td>&quot;user_collection&quot;</td><td>&quot;trackdone&quot;</td><td>&quot;fwdbtn&quot;</td><td>1</td><td>&quot;summer&quot;</td><td>&quot;afternoon&quot;</td><td>1</td><td>2</td></tr><tr><td>&quot;0_0eaeef5d-25e9-4429-bd55-af15…</td><td>14</td><td>20</td><td>&quot;t_f80ee4db-b284-4ef7-bdde-604e…</td><td>0</td><td>0</td><td>0</td><td>false</td><td>13</td><td>2018-07-15</td><td>true</td><td>&quot;user_collection&quot;</td><td>&quot;fwdbtn&quot;</td><td>&quot;trackdone&quot;</td><td>1</td><td>&quot;summer&quot;</td><td>&quot;afternoon&quot;</td><td>5</td><td>0</td></tr><tr><td>&quot;0_0eaeef5d-25e9-4429-bd55-af15…</td><td>15</td><td>20</td><td>&quot;t_e76ba594-cebd-472d-a2da-4835…</td><td>0</td><td>0</td><td>0</td><td>false</td><td>13</td><td>2018-07-15</td><td>true</td><td>&quot;user_collection&quot;</td><td>&quot;trackdone&quot;</td><td>&quot;trackdone&quot;</td><td>1</td><td>&quot;summer&quot;</td><td>&quot;afternoon&quot;</td><td>5</td><td>0</td></tr><tr><td>&quot;0_0eaeef5d-25e9-4429-bd55-af15…</td><td>16</td><td>20</td><td>&quot;t_360910e8-2a84-42b0-baf1-59ab…</td><td>0</td><td>0</td><td>0</td><td>false</td><td>13</td><td>2018-07-15</td><td>true</td><td>&quot;user_collection&quot;</td><td>&quot;trackdone&quot;</td><td>&quot;trackdone&quot;</td><td>1</td><td>&quot;summer&quot;</td><td>&quot;afternoon&quot;</td><td>5</td><td>0</td></tr><tr><td>&quot;0_0eaeef5d-25e9-4429-bd55-af15…</td><td>17</td><td>20</td><td>&quot;t_aa2fff77-9b0a-4fa3-a685-ecef…</td><td>0</td><td>0</td><td>0</td><td>false</td><td>13</td><td>2018-07-15</td><td>true</td><td>&quot;user_collection&quot;</td><td>&quot;trackdone&quot;</td><td>&quot;trackdone&quot;</td><td>1</td><td>&quot;summer&quot;</td><td>&quot;afternoon&quot;</td><td>5</td><td>0</td></tr><tr><td>&quot;0_0eaeef5d-25e9-4429-bd55-af15…</td><td>18</td><td>20</td><td>&quot;t_f673e1b7-4ebe-4fc1-ac24-a9f2…</td><td>0</td><td>0</td><td>0</td><td>false</td><td>13</td><td>2018-07-15</td><td>true</td><td>&quot;user_collection&quot;</td><td>&quot;trackdone&quot;</td><td>&quot;trackdone&quot;</td><td>1</td><td>&quot;summer&quot;</td><td>&quot;afternoon&quot;</td><td>5</td><td>0</td></tr><tr><td>&quot;0_0eaeef5d-25e9-4429-bd55-af15…</td><td>19</td><td>20</td><td>&quot;t_e172e8e7-7161-42a9-acb0-d606…</td><td>0</td><td>0</td><td>0</td><td>false</td><td>13</td><td>2018-07-15</td><td>true</td><td>&quot;user_collection&quot;</td><td>&quot;trackdone&quot;</td><td>&quot;trackdone&quot;</td><td>1</td><td>&quot;summer&quot;</td><td>&quot;afternoon&quot;</td><td>5</td><td>0</td></tr><tr><td>&quot;0_0eaeef5d-25e9-4429-bd55-af15…</td><td>20</td><td>20</td><td>&quot;t_77977dd6-597e-4425-8f8f-4efb…</td><td>0</td><td>0</td><td>0</td><td>false</td><td>13</td><td>2018-07-15</td><td>true</td><td>&quot;user_collection&quot;</td><td>&quot;trackdone&quot;</td><td>&quot;trackdone&quot;</td><td>1</td><td>&quot;summer&quot;</td><td>&quot;afternoon&quot;</td><td>5</td><td>0</td></tr></tbody></table></div>"
      ],
      "text/plain": [
       "shape: (10, 19)\n",
       "┌────────────┬────────────┬───────────┬───────────┬───┬────────┬───────────┬───────────┬───────────┐\n",
       "│ session_id ┆ session_po ┆ session_l ┆ track_id_ ┆ … ┆ season ┆ time_of_d ┆ song_comp ┆ pause_len │\n",
       "│ ---        ┆ sition     ┆ ength     ┆ clean     ┆   ┆ ---    ┆ ay        ┆ letion    ┆ gth_befor │\n",
       "│ str        ┆ ---        ┆ ---       ┆ ---       ┆   ┆ str    ┆ ---       ┆ ---       ┆ e_play    │\n",
       "│            ┆ i64        ┆ i64       ┆ str       ┆   ┆        ┆ str       ┆ i32       ┆ ---       │\n",
       "│            ┆            ┆           ┆           ┆   ┆        ┆           ┆           ┆ i32       │\n",
       "╞════════════╪════════════╪═══════════╪═══════════╪═══╪════════╪═══════════╪═══════════╪═══════════╡\n",
       "│ 0_0eaeef5d ┆ 11         ┆ 20        ┆ t_773a9f8 ┆ … ┆ summer ┆ afternoon ┆ 5         ┆ 0         │\n",
       "│ -25e9-4429 ┆            ┆           ┆ f-2d00-44 ┆   ┆        ┆           ┆           ┆           │\n",
       "│ -bd55-af15 ┆            ┆           ┆ 67-965a-d ┆   ┆        ┆           ┆           ┆           │\n",
       "│ …          ┆            ┆           ┆ f70…      ┆   ┆        ┆           ┆           ┆           │\n",
       "│ 0_0eaeef5d ┆ 12         ┆ 20        ┆ t_94c1dd3 ┆ … ┆ summer ┆ afternoon ┆ 5         ┆ 0         │\n",
       "│ -25e9-4429 ┆            ┆           ┆ 1-2410-41 ┆   ┆        ┆           ┆           ┆           │\n",
       "│ -bd55-af15 ┆            ┆           ┆ 67-a75b-d ┆   ┆        ┆           ┆           ┆           │\n",
       "│ …          ┆            ┆           ┆ 643…      ┆   ┆        ┆           ┆           ┆           │\n",
       "│ 0_0eaeef5d ┆ 13         ┆ 20        ┆ t_bda3bb6 ┆ … ┆ summer ┆ afternoon ┆ 1         ┆ 2         │\n",
       "│ -25e9-4429 ┆            ┆           ┆ 2-b717-47 ┆   ┆        ┆           ┆           ┆           │\n",
       "│ -bd55-af15 ┆            ┆           ┆ 66-b417-4 ┆   ┆        ┆           ┆           ┆           │\n",
       "│ …          ┆            ┆           ┆ e7b…      ┆   ┆        ┆           ┆           ┆           │\n",
       "│ 0_0eaeef5d ┆ 14         ┆ 20        ┆ t_f80ee4d ┆ … ┆ summer ┆ afternoon ┆ 5         ┆ 0         │\n",
       "│ -25e9-4429 ┆            ┆           ┆ b-b284-4e ┆   ┆        ┆           ┆           ┆           │\n",
       "│ -bd55-af15 ┆            ┆           ┆ f7-bdde-6 ┆   ┆        ┆           ┆           ┆           │\n",
       "│ …          ┆            ┆           ┆ 04e…      ┆   ┆        ┆           ┆           ┆           │\n",
       "│ 0_0eaeef5d ┆ 15         ┆ 20        ┆ t_e76ba59 ┆ … ┆ summer ┆ afternoon ┆ 5         ┆ 0         │\n",
       "│ -25e9-4429 ┆            ┆           ┆ 4-cebd-47 ┆   ┆        ┆           ┆           ┆           │\n",
       "│ -bd55-af15 ┆            ┆           ┆ 2d-a2da-4 ┆   ┆        ┆           ┆           ┆           │\n",
       "│ …          ┆            ┆           ┆ 835…      ┆   ┆        ┆           ┆           ┆           │\n",
       "│ 0_0eaeef5d ┆ 16         ┆ 20        ┆ t_360910e ┆ … ┆ summer ┆ afternoon ┆ 5         ┆ 0         │\n",
       "│ -25e9-4429 ┆            ┆           ┆ 8-2a84-42 ┆   ┆        ┆           ┆           ┆           │\n",
       "│ -bd55-af15 ┆            ┆           ┆ b0-baf1-5 ┆   ┆        ┆           ┆           ┆           │\n",
       "│ …          ┆            ┆           ┆ 9ab…      ┆   ┆        ┆           ┆           ┆           │\n",
       "│ 0_0eaeef5d ┆ 17         ┆ 20        ┆ t_aa2fff7 ┆ … ┆ summer ┆ afternoon ┆ 5         ┆ 0         │\n",
       "│ -25e9-4429 ┆            ┆           ┆ 7-9b0a-4f ┆   ┆        ┆           ┆           ┆           │\n",
       "│ -bd55-af15 ┆            ┆           ┆ a3-a685-e ┆   ┆        ┆           ┆           ┆           │\n",
       "│ …          ┆            ┆           ┆ cef…      ┆   ┆        ┆           ┆           ┆           │\n",
       "│ 0_0eaeef5d ┆ 18         ┆ 20        ┆ t_f673e1b ┆ … ┆ summer ┆ afternoon ┆ 5         ┆ 0         │\n",
       "│ -25e9-4429 ┆            ┆           ┆ 7-4ebe-4f ┆   ┆        ┆           ┆           ┆           │\n",
       "│ -bd55-af15 ┆            ┆           ┆ c1-ac24-a ┆   ┆        ┆           ┆           ┆           │\n",
       "│ …          ┆            ┆           ┆ 9f2…      ┆   ┆        ┆           ┆           ┆           │\n",
       "│ 0_0eaeef5d ┆ 19         ┆ 20        ┆ t_e172e8e ┆ … ┆ summer ┆ afternoon ┆ 5         ┆ 0         │\n",
       "│ -25e9-4429 ┆            ┆           ┆ 7-7161-42 ┆   ┆        ┆           ┆           ┆           │\n",
       "│ -bd55-af15 ┆            ┆           ┆ a9-acb0-d ┆   ┆        ┆           ┆           ┆           │\n",
       "│ …          ┆            ┆           ┆ 606…      ┆   ┆        ┆           ┆           ┆           │\n",
       "│ 0_0eaeef5d ┆ 20         ┆ 20        ┆ t_77977dd ┆ … ┆ summer ┆ afternoon ┆ 5         ┆ 0         │\n",
       "│ -25e9-4429 ┆            ┆           ┆ 6-597e-44 ┆   ┆        ┆           ┆           ┆           │\n",
       "│ -bd55-af15 ┆            ┆           ┆ 25-8f8f-4 ┆   ┆        ┆           ┆           ┆           │\n",
       "│ …          ┆            ┆           ┆ efb…      ┆   ┆        ┆           ┆           ┆           │\n",
       "└────────────┴────────────┴───────────┴───────────┴───┴────────┴───────────┴───────────┴───────────┘"
      ]
     },
     "execution_count": 25,
     "metadata": {},
     "output_type": "execute_result"
    }
   ],
   "source": [
    "df_sessions.tail(10)"
   ]
  },
  {
   "cell_type": "code",
   "execution_count": 23,
   "metadata": {},
   "outputs": [
    {
     "data": {
      "text/html": [
       "<div><style>\n",
       ".dataframe > thead > tr,\n",
       ".dataframe > tbody > tr {\n",
       "  text-align: right;\n",
       "  white-space: pre-wrap;\n",
       "}\n",
       "</style>\n",
       "<small>shape: (12, 3)</small><table border=\"1\" class=\"dataframe\"><thead><tr><th>context_type</th><th>premium</th><th>count</th></tr><tr><td>str</td><td>bool</td><td>u32</td></tr></thead><tbody><tr><td>&quot;catalog&quot;</td><td>false</td><td>6662</td></tr><tr><td>&quot;catalog&quot;</td><td>true</td><td>31601</td></tr><tr><td>&quot;charts&quot;</td><td>false</td><td>307</td></tr><tr><td>&quot;charts&quot;</td><td>true</td><td>2134</td></tr><tr><td>&quot;editorial_playlist&quot;</td><td>false</td><td>7291</td></tr><tr><td>&hellip;</td><td>&hellip;</td><td>&hellip;</td></tr><tr><td>&quot;personalized_playlist&quot;</td><td>false</td><td>290</td></tr><tr><td>&quot;radio&quot;</td><td>false</td><td>2662</td></tr><tr><td>&quot;radio&quot;</td><td>true</td><td>18445</td></tr><tr><td>&quot;user_collection&quot;</td><td>false</td><td>14615</td></tr><tr><td>&quot;user_collection&quot;</td><td>true</td><td>52815</td></tr></tbody></table></div>"
      ],
      "text/plain": [
       "shape: (12, 3)\n",
       "┌───────────────────────┬─────────┬───────┐\n",
       "│ context_type          ┆ premium ┆ count │\n",
       "│ ---                   ┆ ---     ┆ ---   │\n",
       "│ str                   ┆ bool    ┆ u32   │\n",
       "╞═══════════════════════╪═════════╪═══════╡\n",
       "│ catalog               ┆ false   ┆ 6662  │\n",
       "│ catalog               ┆ true    ┆ 31601 │\n",
       "│ charts                ┆ false   ┆ 307   │\n",
       "│ charts                ┆ true    ┆ 2134  │\n",
       "│ editorial_playlist    ┆ false   ┆ 7291  │\n",
       "│ …                     ┆ …       ┆ …     │\n",
       "│ personalized_playlist ┆ false   ┆ 290   │\n",
       "│ radio                 ┆ false   ┆ 2662  │\n",
       "│ radio                 ┆ true    ┆ 18445 │\n",
       "│ user_collection       ┆ false   ┆ 14615 │\n",
       "│ user_collection       ┆ true    ┆ 52815 │\n",
       "└───────────────────────┴─────────┴───────┘"
      ]
     },
     "execution_count": 23,
     "metadata": {},
     "output_type": "execute_result"
    }
   ],
   "source": [
    "(df_sessions\n",
    "    .group_by(\"context_type\", \"premium\")\n",
    "    .agg(pl.len().alias(\"count\"))\n",
    "    .sort(\"context_type\")\n",
    ")"
   ]
  },
  {
   "cell_type": "code",
   "execution_count": 7,
   "metadata": {},
   "outputs": [
    {
     "data": {
      "text/html": [
       "\n",
       "<style>\n",
       "  #altair-viz-33f9631e0167429b9122dac89c1d1c1b.vega-embed {\n",
       "    width: 100%;\n",
       "    display: flex;\n",
       "  }\n",
       "\n",
       "  #altair-viz-33f9631e0167429b9122dac89c1d1c1b.vega-embed details,\n",
       "  #altair-viz-33f9631e0167429b9122dac89c1d1c1b.vega-embed details summary {\n",
       "    position: relative;\n",
       "  }\n",
       "</style>\n",
       "<div id=\"altair-viz-33f9631e0167429b9122dac89c1d1c1b\"></div>\n",
       "<script type=\"text/javascript\">\n",
       "  var VEGA_DEBUG = (typeof VEGA_DEBUG == \"undefined\") ? {} : VEGA_DEBUG;\n",
       "  (function(spec, embedOpt){\n",
       "    let outputDiv = document.currentScript.previousElementSibling;\n",
       "    if (outputDiv.id !== \"altair-viz-33f9631e0167429b9122dac89c1d1c1b\") {\n",
       "      outputDiv = document.getElementById(\"altair-viz-33f9631e0167429b9122dac89c1d1c1b\");\n",
       "    }\n",
       "\n",
       "    const paths = {\n",
       "      \"vega\": \"https://cdn.jsdelivr.net/npm/vega@5?noext\",\n",
       "      \"vega-lib\": \"https://cdn.jsdelivr.net/npm/vega-lib?noext\",\n",
       "      \"vega-lite\": \"https://cdn.jsdelivr.net/npm/vega-lite@5.20.1?noext\",\n",
       "      \"vega-embed\": \"https://cdn.jsdelivr.net/npm/vega-embed@6?noext\",\n",
       "    };\n",
       "\n",
       "    function maybeLoadScript(lib, version) {\n",
       "      var key = `${lib.replace(\"-\", \"\")}_version`;\n",
       "      return (VEGA_DEBUG[key] == version) ?\n",
       "        Promise.resolve(paths[lib]) :\n",
       "        new Promise(function(resolve, reject) {\n",
       "          var s = document.createElement('script');\n",
       "          document.getElementsByTagName(\"head\")[0].appendChild(s);\n",
       "          s.async = true;\n",
       "          s.onload = () => {\n",
       "            VEGA_DEBUG[key] = version;\n",
       "            return resolve(paths[lib]);\n",
       "          };\n",
       "          s.onerror = () => reject(`Error loading script: ${paths[lib]}`);\n",
       "          s.src = paths[lib];\n",
       "        });\n",
       "    }\n",
       "\n",
       "    function showError(err) {\n",
       "      outputDiv.innerHTML = `<div class=\"error\" style=\"color:red;\">${err}</div>`;\n",
       "      throw err;\n",
       "    }\n",
       "\n",
       "    function displayChart(vegaEmbed) {\n",
       "      vegaEmbed(outputDiv, spec, embedOpt)\n",
       "        .catch(err => showError(`Javascript Error: ${err.message}<br>This usually means there's a typo in your chart specification. See the javascript console for the full traceback.`));\n",
       "    }\n",
       "\n",
       "    if(typeof define === \"function\" && define.amd) {\n",
       "      requirejs.config({paths});\n",
       "      let deps = [\"vega-embed\"];\n",
       "      require(deps, displayChart, err => showError(`Error loading script: ${err.message}`));\n",
       "    } else {\n",
       "      maybeLoadScript(\"vega\", \"5\")\n",
       "        .then(() => maybeLoadScript(\"vega-lite\", \"5.20.1\"))\n",
       "        .then(() => maybeLoadScript(\"vega-embed\", \"6\"))\n",
       "        .catch(showError)\n",
       "        .then(() => displayChart(vegaEmbed));\n",
       "    }\n",
       "  })({\"config\": {\"view\": {\"continuousWidth\": 300, \"continuousHeight\": 300}}, \"data\": {\"name\": \"data-3139190fd1c49ddbf76aa79b1f1aa5e2\"}, \"mark\": {\"type\": \"bar\"}, \"encoding\": {\"x\": {\"axis\": {\"labelAngle\": 0}, \"field\": \"session_length\", \"title\": \"Session Length\", \"type\": \"nominal\"}, \"y\": {\"axis\": {\"format\": \".0%\"}, \"field\": \"Percent\", \"title\": \"Percentage\", \"type\": \"quantitative\"}}, \"height\": 400, \"title\": \"Session Length Distribution\", \"transform\": [{\"joinaggregate\": [{\"op\": \"sum\", \"field\": \"count\", \"as\": \"TotalSessions\"}]}, {\"calculate\": \"datum.count / datum.TotalSessions\", \"as\": \"Percent\"}], \"width\": 600, \"$schema\": \"https://vega.github.io/schema/vega-lite/v5.20.1.json\", \"datasets\": {\"data-3139190fd1c49ddbf76aa79b1f1aa5e2\": [{\"session_length\": 10, \"count\": 8190}, {\"session_length\": 11, \"count\": 8272}, {\"session_length\": 12, \"count\": 7752}, {\"session_length\": 13, \"count\": 7111}, {\"session_length\": 14, \"count\": 6426}, {\"session_length\": 15, \"count\": 6525}, {\"session_length\": 16, \"count\": 5424}, {\"session_length\": 17, \"count\": 5440}, {\"session_length\": 18, \"count\": 5454}, {\"session_length\": 19, \"count\": 5966}, {\"session_length\": 20, \"count\": 101320}]}}, {\"mode\": \"vega-lite\"});\n",
       "</script>"
      ],
      "text/plain": [
       "alt.Chart(...)"
      ]
     },
     "execution_count": 7,
     "metadata": {},
     "output_type": "execute_result"
    }
   ],
   "source": [
    "import altair as alt\n",
    "\n",
    "# Group and convert to pandas\n",
    "session_counts = (\n",
    "    df_sessions\n",
    "    .group_by(\"session_length\")\n",
    "    .agg(pl.len().alias(\"count\"))\n",
    "    .sort(\"session_length\")\n",
    ")\n",
    "\n",
    "# Create chart with percentage transformation\n",
    "chart = alt.Chart(session_counts).transform_joinaggregate(\n",
    "    TotalSessions='sum(count)'\n",
    ").transform_calculate(\n",
    "    Percent='datum.count / datum.TotalSessions'\n",
    ").mark_bar().encode(\n",
    "    x=alt.X('session_length:N', title='Session Length', axis=alt.Axis(labelAngle=0)),\n",
    "    y=alt.Y('Percent:Q', title='Percentage', axis=alt.Axis(format='.0%'))\n",
    ").properties(\n",
    "    title=\"Session Length Distribution\",\n",
    "    width=600,\n",
    "    height=400\n",
    ")\n",
    "\n",
    "chart\n"
   ]
  },
  {
   "cell_type": "code",
   "execution_count": 20,
   "metadata": {},
   "outputs": [
    {
     "data": {
      "text/html": [
       "\n",
       "<style>\n",
       "  #altair-viz-a7993744ce5945ddb2850f13066ea451.vega-embed {\n",
       "    width: 100%;\n",
       "    display: flex;\n",
       "  }\n",
       "\n",
       "  #altair-viz-a7993744ce5945ddb2850f13066ea451.vega-embed details,\n",
       "  #altair-viz-a7993744ce5945ddb2850f13066ea451.vega-embed details summary {\n",
       "    position: relative;\n",
       "  }\n",
       "</style>\n",
       "<div id=\"altair-viz-a7993744ce5945ddb2850f13066ea451\"></div>\n",
       "<script type=\"text/javascript\">\n",
       "  var VEGA_DEBUG = (typeof VEGA_DEBUG == \"undefined\") ? {} : VEGA_DEBUG;\n",
       "  (function(spec, embedOpt){\n",
       "    let outputDiv = document.currentScript.previousElementSibling;\n",
       "    if (outputDiv.id !== \"altair-viz-a7993744ce5945ddb2850f13066ea451\") {\n",
       "      outputDiv = document.getElementById(\"altair-viz-a7993744ce5945ddb2850f13066ea451\");\n",
       "    }\n",
       "\n",
       "    const paths = {\n",
       "      \"vega\": \"https://cdn.jsdelivr.net/npm/vega@5?noext\",\n",
       "      \"vega-lib\": \"https://cdn.jsdelivr.net/npm/vega-lib?noext\",\n",
       "      \"vega-lite\": \"https://cdn.jsdelivr.net/npm/vega-lite@5.20.1?noext\",\n",
       "      \"vega-embed\": \"https://cdn.jsdelivr.net/npm/vega-embed@6?noext\",\n",
       "    };\n",
       "\n",
       "    function maybeLoadScript(lib, version) {\n",
       "      var key = `${lib.replace(\"-\", \"\")}_version`;\n",
       "      return (VEGA_DEBUG[key] == version) ?\n",
       "        Promise.resolve(paths[lib]) :\n",
       "        new Promise(function(resolve, reject) {\n",
       "          var s = document.createElement('script');\n",
       "          document.getElementsByTagName(\"head\")[0].appendChild(s);\n",
       "          s.async = true;\n",
       "          s.onload = () => {\n",
       "            VEGA_DEBUG[key] = version;\n",
       "            return resolve(paths[lib]);\n",
       "          };\n",
       "          s.onerror = () => reject(`Error loading script: ${paths[lib]}`);\n",
       "          s.src = paths[lib];\n",
       "        });\n",
       "    }\n",
       "\n",
       "    function showError(err) {\n",
       "      outputDiv.innerHTML = `<div class=\"error\" style=\"color:red;\">${err}</div>`;\n",
       "      throw err;\n",
       "    }\n",
       "\n",
       "    function displayChart(vegaEmbed) {\n",
       "      vegaEmbed(outputDiv, spec, embedOpt)\n",
       "        .catch(err => showError(`Javascript Error: ${err.message}<br>This usually means there's a typo in your chart specification. See the javascript console for the full traceback.`));\n",
       "    }\n",
       "\n",
       "    if(typeof define === \"function\" && define.amd) {\n",
       "      requirejs.config({paths});\n",
       "      let deps = [\"vega-embed\"];\n",
       "      require(deps, displayChart, err => showError(`Error loading script: ${err.message}`));\n",
       "    } else {\n",
       "      maybeLoadScript(\"vega\", \"5\")\n",
       "        .then(() => maybeLoadScript(\"vega-lite\", \"5.20.1\"))\n",
       "        .then(() => maybeLoadScript(\"vega-embed\", \"6\"))\n",
       "        .catch(showError)\n",
       "        .then(() => displayChart(vegaEmbed));\n",
       "    }\n",
       "  })({\"config\": {\"view\": {\"continuousWidth\": 300, \"continuousHeight\": 300}}, \"data\": {\"name\": \"data-559d0ec7be3685e1de0b170fde5dcf4d\"}, \"mark\": {\"type\": \"bar\"}, \"encoding\": {\"color\": {\"field\": \"time_of_day\", \"scale\": {\"scheme\": \"tableau10\"}, \"title\": \"Time of Day\", \"type\": \"nominal\"}, \"x\": {\"axis\": {\"labelAngle\": 0}, \"field\": \"hour_of_day\", \"title\": \"Hour of Day\", \"type\": \"nominal\"}, \"y\": {\"axis\": {\"format\": \".0%\"}, \"field\": \"Percent\", \"title\": \"Percentage\", \"type\": \"quantitative\"}}, \"height\": 400, \"title\": \"Hour of Day Distribution\", \"transform\": [{\"joinaggregate\": [{\"op\": \"sum\", \"field\": \"count\", \"as\": \"TotalSessions\"}]}, {\"calculate\": \"datum.count / datum.TotalSessions\", \"as\": \"Percent\"}], \"width\": 600, \"$schema\": \"https://vega.github.io/schema/vega-lite/v5.20.1.json\", \"datasets\": {\"data-559d0ec7be3685e1de0b170fde5dcf4d\": [{\"hour_of_day\": 0, \"time_of_day\": \"night\", \"count\": 5694}, {\"hour_of_day\": 1, \"time_of_day\": \"night\", \"count\": 4127}, {\"hour_of_day\": 2, \"time_of_day\": \"night\", \"count\": 2964}, {\"hour_of_day\": 3, \"time_of_day\": \"night\", \"count\": 2284}, {\"hour_of_day\": 4, \"time_of_day\": \"night\", \"count\": 1563}, {\"hour_of_day\": 5, \"time_of_day\": \"night\", \"count\": 1303}, {\"hour_of_day\": 6, \"time_of_day\": \"morning\", \"count\": 1733}, {\"hour_of_day\": 7, \"time_of_day\": \"morning\", \"count\": 2366}, {\"hour_of_day\": 8, \"time_of_day\": \"morning\", \"count\": 3397}, {\"hour_of_day\": 9, \"time_of_day\": \"morning\", \"count\": 5555}, {\"hour_of_day\": 10, \"time_of_day\": \"morning\", \"count\": 7483}, {\"hour_of_day\": 11, \"time_of_day\": \"morning\", \"count\": 8320}, {\"hour_of_day\": 12, \"time_of_day\": \"afternoon\", \"count\": 9696}, {\"hour_of_day\": 13, \"time_of_day\": \"afternoon\", \"count\": 10687}, {\"hour_of_day\": 14, \"time_of_day\": \"afternoon\", \"count\": 11590}, {\"hour_of_day\": 15, \"time_of_day\": \"afternoon\", \"count\": 11443}, {\"hour_of_day\": 16, \"time_of_day\": \"afternoon\", \"count\": 11636}, {\"hour_of_day\": 17, \"time_of_day\": \"afternoon\", \"count\": 10897}, {\"hour_of_day\": 18, \"time_of_day\": \"evening\", \"count\": 10319}, {\"hour_of_day\": 19, \"time_of_day\": \"evening\", \"count\": 9487}, {\"hour_of_day\": 20, \"time_of_day\": \"evening\", \"count\": 9366}, {\"hour_of_day\": 21, \"time_of_day\": \"evening\", \"count\": 9918}, {\"hour_of_day\": 22, \"time_of_day\": \"evening\", \"count\": 8822}, {\"hour_of_day\": 23, \"time_of_day\": \"evening\", \"count\": 7230}]}}, {\"mode\": \"vega-lite\"});\n",
       "</script>"
      ],
      "text/plain": [
       "alt.Chart(...)"
      ]
     },
     "execution_count": 20,
     "metadata": {},
     "output_type": "execute_result"
    }
   ],
   "source": [
    "import altair as alt\n",
    "\n",
    "# Group by 'hour_of_day' and get count of each hour\n",
    "hour_counts = (\n",
    "    df_sessions\n",
    "    .group_by(\"hour_of_day\", \"time_of_day\")\n",
    "    .agg(pl.len().alias(\"count\"))\n",
    "    .sort(\"hour_of_day\")\n",
    ")\n",
    "\n",
    "# Create chart with percentage transformation\n",
    "chart = alt.Chart(hour_counts).transform_joinaggregate(\n",
    "    TotalSessions='sum(count)'\n",
    ").transform_calculate(\n",
    "    Percent='datum.count / datum.TotalSessions'\n",
    ").mark_bar().encode(\n",
    "    x=alt.X('hour_of_day:N', title='Hour of Day', axis=alt.Axis(labelAngle=0)),\n",
    "    y=alt.Y('Percent:Q', title='Percentage', axis=alt.Axis(format='.0%')),\n",
    "    color=alt.Color('time_of_day:N', title=\"Time of Day\", scale=alt.Scale(scheme='tableau10'))\n",
    ").properties(\n",
    "    title=\"Hour of Day Distribution\",\n",
    "    width=600,\n",
    "    height=400\n",
    ")\n",
    "\n",
    "chart\n"
   ]
  }
 ],
 "metadata": {
  "kernelspec": {
   "display_name": "Python 3 (ipykernel)",
   "language": "python",
   "name": "python3"
  },
  "language_info": {
   "codemirror_mode": {
    "name": "ipython",
    "version": 3
   },
   "file_extension": ".py",
   "mimetype": "text/x-python",
   "name": "python",
   "nbconvert_exporter": "python",
   "pygments_lexer": "ipython3",
   "version": "3.11.7"
  }
 },
 "nbformat": 4,
 "nbformat_minor": 4
}
