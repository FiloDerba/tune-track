{
 "cells": [
  {
   "cell_type": "code",
   "execution_count": 2,
   "metadata": {},
   "outputs": [],
   "source": [
    "import os\n",
    "os.chdir(\"/Users/admin/Documents/Github/tune-track\")  "
   ]
  },
  {
   "cell_type": "code",
   "execution_count": 5,
   "metadata": {
    "pycharm": {
     "is_executing": true
    }
   },
   "outputs": [],
   "source": [
    "import polars as pl\n"
   ]
  },
  {
   "cell_type": "code",
   "execution_count": 58,
   "metadata": {
    "collapsed": false,
    "jupyter": {
     "outputs_hidden": false
    }
   },
   "outputs": [],
   "source": [
    "df_sessions = pl.read_csv(\"data/log.csv\")"
   ]
  },
  {
   "cell_type": "markdown",
   "metadata": {},
   "source": [
    "### Basic Data Exploration"
   ]
  },
  {
   "cell_type": "code",
   "execution_count": 15,
   "metadata": {},
   "outputs": [
    {
     "data": {
      "text/html": [
       "<div><style>\n",
       ".dataframe > thead > tr,\n",
       ".dataframe > tbody > tr {\n",
       "  text-align: right;\n",
       "  white-space: pre-wrap;\n",
       "}\n",
       "</style>\n",
       "<small>shape: (1, 21)</small><table border=\"1\" class=\"dataframe\"><thead><tr><th>session_id</th><th>session_position</th><th>session_length</th><th>track_id_clean</th><th>skip_1</th><th>skip_2</th><th>skip_3</th><th>not_skipped</th><th>context_switch</th><th>no_pause_before_play</th><th>short_pause_before_play</th><th>long_pause_before_play</th><th>hist_user_behavior_n_seekfwd</th><th>hist_user_behavior_n_seekback</th><th>hist_user_behavior_is_shuffle</th><th>hour_of_day</th><th>date</th><th>premium</th><th>context_type</th><th>hist_user_behavior_reason_start</th><th>hist_user_behavior_reason_end</th></tr><tr><td>u32</td><td>u32</td><td>u32</td><td>u32</td><td>u32</td><td>u32</td><td>u32</td><td>u32</td><td>u32</td><td>u32</td><td>u32</td><td>u32</td><td>u32</td><td>u32</td><td>u32</td><td>u32</td><td>u32</td><td>u32</td><td>u32</td><td>u32</td><td>u32</td></tr></thead><tbody><tr><td>0</td><td>0</td><td>0</td><td>0</td><td>0</td><td>0</td><td>0</td><td>0</td><td>0</td><td>0</td><td>0</td><td>0</td><td>0</td><td>0</td><td>0</td><td>0</td><td>0</td><td>0</td><td>0</td><td>0</td><td>0</td></tr></tbody></table></div>"
      ],
      "text/plain": [
       "shape: (1, 21)\n",
       "┌────────────┬───────────┬───────────┬───────────┬───┬─────────┬───────────┬───────────┬───────────┐\n",
       "│ session_id ┆ session_p ┆ session_l ┆ track_id_ ┆ … ┆ premium ┆ context_t ┆ hist_user ┆ hist_user │\n",
       "│ ---        ┆ osition   ┆ ength     ┆ clean     ┆   ┆ ---     ┆ ype       ┆ _behavior ┆ _behavior │\n",
       "│ u32        ┆ ---       ┆ ---       ┆ ---       ┆   ┆ u32     ┆ ---       ┆ _reason_s ┆ _reason_e │\n",
       "│            ┆ u32       ┆ u32       ┆ u32       ┆   ┆         ┆ u32       ┆ tar…      ┆ nd        │\n",
       "│            ┆           ┆           ┆           ┆   ┆         ┆           ┆ ---       ┆ ---       │\n",
       "│            ┆           ┆           ┆           ┆   ┆         ┆           ┆ u32       ┆ u32       │\n",
       "╞════════════╪═══════════╪═══════════╪═══════════╪═══╪═════════╪═══════════╪═══════════╪═══════════╡\n",
       "│ 0          ┆ 0         ┆ 0         ┆ 0         ┆ … ┆ 0       ┆ 0         ┆ 0         ┆ 0         │\n",
       "└────────────┴───────────┴───────────┴───────────┴───┴─────────┴───────────┴───────────┴───────────┘"
      ]
     },
     "execution_count": 15,
     "metadata": {},
     "output_type": "execute_result"
    }
   ],
   "source": [
    "df_sessions.null_count()\n"
   ]
  },
  {
   "cell_type": "code",
   "execution_count": 64,
   "metadata": {},
   "outputs": [
    {
     "data": {
      "text/html": [
       "<div><style>\n",
       ".dataframe > thead > tr,\n",
       ".dataframe > tbody > tr {\n",
       "  text-align: right;\n",
       "  white-space: pre-wrap;\n",
       "}\n",
       "</style>\n",
       "<small>shape: (5, 24)</small><table border=\"1\" class=\"dataframe\"><thead><tr><th>session_id</th><th>session_position</th><th>session_length</th><th>track_id_clean</th><th>skip_1</th><th>skip_2</th><th>skip_3</th><th>not_skipped</th><th>context_switch</th><th>no_pause_before_play</th><th>short_pause_before_play</th><th>long_pause_before_play</th><th>hist_user_behavior_n_seekfwd</th><th>hist_user_behavior_n_seekback</th><th>hist_user_behavior_is_shuffle</th><th>hour_of_day</th><th>date</th><th>premium</th><th>context_type</th><th>hist_user_behavior_reason_start</th><th>hist_user_behavior_reason_end</th><th>is_weekend</th><th>season</th><th>time_of_day</th></tr><tr><td>str</td><td>i64</td><td>i64</td><td>str</td><td>bool</td><td>bool</td><td>bool</td><td>bool</td><td>i64</td><td>i64</td><td>i64</td><td>i64</td><td>i64</td><td>i64</td><td>bool</td><td>i64</td><td>date</td><td>bool</td><td>str</td><td>str</td><td>str</td><td>i8</td><td>str</td><td>str</td></tr></thead><tbody><tr><td>&quot;0_00006f66-33e5-4de7-a324-2d18…</td><td>1</td><td>20</td><td>&quot;t_0479f24c-27d2-46d6-a00c-7ec9…</td><td>false</td><td>false</td><td>false</td><td>true</td><td>0</td><td>0</td><td>0</td><td>0</td><td>0</td><td>0</td><td>true</td><td>16</td><td>2018-07-15</td><td>true</td><td>&quot;editorial_playlist&quot;</td><td>&quot;trackdone&quot;</td><td>&quot;trackdone&quot;</td><td>1</td><td>&quot;summer&quot;</td><td>&quot;afternoon&quot;</td></tr><tr><td>&quot;0_00006f66-33e5-4de7-a324-2d18…</td><td>2</td><td>20</td><td>&quot;t_9099cd7b-c238-47b7-9381-f23f…</td><td>false</td><td>false</td><td>false</td><td>true</td><td>0</td><td>1</td><td>0</td><td>0</td><td>0</td><td>0</td><td>true</td><td>16</td><td>2018-07-15</td><td>true</td><td>&quot;editorial_playlist&quot;</td><td>&quot;trackdone&quot;</td><td>&quot;trackdone&quot;</td><td>1</td><td>&quot;summer&quot;</td><td>&quot;afternoon&quot;</td></tr><tr><td>&quot;0_00006f66-33e5-4de7-a324-2d18…</td><td>3</td><td>20</td><td>&quot;t_fc5df5ba-5396-49a7-8b29-35d0…</td><td>false</td><td>false</td><td>false</td><td>true</td><td>0</td><td>1</td><td>0</td><td>0</td><td>0</td><td>0</td><td>true</td><td>16</td><td>2018-07-15</td><td>true</td><td>&quot;editorial_playlist&quot;</td><td>&quot;trackdone&quot;</td><td>&quot;trackdone&quot;</td><td>1</td><td>&quot;summer&quot;</td><td>&quot;afternoon&quot;</td></tr><tr><td>&quot;0_00006f66-33e5-4de7-a324-2d18…</td><td>4</td><td>20</td><td>&quot;t_23cff8d6-d874-4b20-83dc-94e4…</td><td>false</td><td>false</td><td>false</td><td>true</td><td>0</td><td>1</td><td>0</td><td>0</td><td>0</td><td>0</td><td>true</td><td>16</td><td>2018-07-15</td><td>true</td><td>&quot;editorial_playlist&quot;</td><td>&quot;trackdone&quot;</td><td>&quot;trackdone&quot;</td><td>1</td><td>&quot;summer&quot;</td><td>&quot;afternoon&quot;</td></tr><tr><td>&quot;0_00006f66-33e5-4de7-a324-2d18…</td><td>5</td><td>20</td><td>&quot;t_64f3743c-f624-46bb-a579-0f3f…</td><td>false</td><td>false</td><td>false</td><td>true</td><td>0</td><td>1</td><td>0</td><td>0</td><td>0</td><td>0</td><td>true</td><td>16</td><td>2018-07-15</td><td>true</td><td>&quot;editorial_playlist&quot;</td><td>&quot;trackdone&quot;</td><td>&quot;trackdone&quot;</td><td>1</td><td>&quot;summer&quot;</td><td>&quot;afternoon&quot;</td></tr></tbody></table></div>"
      ],
      "text/plain": [
       "shape: (5, 24)\n",
       "┌────────────┬────────────┬───────────┬───────────┬───┬───────────┬───────────┬────────┬───────────┐\n",
       "│ session_id ┆ session_po ┆ session_l ┆ track_id_ ┆ … ┆ hist_user ┆ is_weeken ┆ season ┆ time_of_d │\n",
       "│ ---        ┆ sition     ┆ ength     ┆ clean     ┆   ┆ _behavior ┆ d         ┆ ---    ┆ ay        │\n",
       "│ str        ┆ ---        ┆ ---       ┆ ---       ┆   ┆ _reason_e ┆ ---       ┆ str    ┆ ---       │\n",
       "│            ┆ i64        ┆ i64       ┆ str       ┆   ┆ nd        ┆ i8        ┆        ┆ str       │\n",
       "│            ┆            ┆           ┆           ┆   ┆ ---       ┆           ┆        ┆           │\n",
       "│            ┆            ┆           ┆           ┆   ┆ str       ┆           ┆        ┆           │\n",
       "╞════════════╪════════════╪═══════════╪═══════════╪═══╪═══════════╪═══════════╪════════╪═══════════╡\n",
       "│ 0_00006f66 ┆ 1          ┆ 20        ┆ t_0479f24 ┆ … ┆ trackdone ┆ 1         ┆ summer ┆ afternoon │\n",
       "│ -33e5-4de7 ┆            ┆           ┆ c-27d2-46 ┆   ┆           ┆           ┆        ┆           │\n",
       "│ -a324-2d18 ┆            ┆           ┆ d6-a00c-7 ┆   ┆           ┆           ┆        ┆           │\n",
       "│ …          ┆            ┆           ┆ ec9…      ┆   ┆           ┆           ┆        ┆           │\n",
       "│ 0_00006f66 ┆ 2          ┆ 20        ┆ t_9099cd7 ┆ … ┆ trackdone ┆ 1         ┆ summer ┆ afternoon │\n",
       "│ -33e5-4de7 ┆            ┆           ┆ b-c238-47 ┆   ┆           ┆           ┆        ┆           │\n",
       "│ -a324-2d18 ┆            ┆           ┆ b7-9381-f ┆   ┆           ┆           ┆        ┆           │\n",
       "│ …          ┆            ┆           ┆ 23f…      ┆   ┆           ┆           ┆        ┆           │\n",
       "│ 0_00006f66 ┆ 3          ┆ 20        ┆ t_fc5df5b ┆ … ┆ trackdone ┆ 1         ┆ summer ┆ afternoon │\n",
       "│ -33e5-4de7 ┆            ┆           ┆ a-5396-49 ┆   ┆           ┆           ┆        ┆           │\n",
       "│ -a324-2d18 ┆            ┆           ┆ a7-8b29-3 ┆   ┆           ┆           ┆        ┆           │\n",
       "│ …          ┆            ┆           ┆ 5d0…      ┆   ┆           ┆           ┆        ┆           │\n",
       "│ 0_00006f66 ┆ 4          ┆ 20        ┆ t_23cff8d ┆ … ┆ trackdone ┆ 1         ┆ summer ┆ afternoon │\n",
       "│ -33e5-4de7 ┆            ┆           ┆ 6-d874-4b ┆   ┆           ┆           ┆        ┆           │\n",
       "│ -a324-2d18 ┆            ┆           ┆ 20-83dc-9 ┆   ┆           ┆           ┆        ┆           │\n",
       "│ …          ┆            ┆           ┆ 4e4…      ┆   ┆           ┆           ┆        ┆           │\n",
       "│ 0_00006f66 ┆ 5          ┆ 20        ┆ t_64f3743 ┆ … ┆ trackdone ┆ 1         ┆ summer ┆ afternoon │\n",
       "│ -33e5-4de7 ┆            ┆           ┆ c-f624-46 ┆   ┆           ┆           ┆        ┆           │\n",
       "│ -a324-2d18 ┆            ┆           ┆ bb-a579-0 ┆   ┆           ┆           ┆        ┆           │\n",
       "│ …          ┆            ┆           ┆ f3f…      ┆   ┆           ┆           ┆        ┆           │\n",
       "└────────────┴────────────┴───────────┴───────────┴───┴───────────┴───────────┴────────┴───────────┘"
      ]
     },
     "execution_count": 64,
     "metadata": {},
     "output_type": "execute_result"
    }
   ],
   "source": [
    "df_sessions.head()"
   ]
  },
  {
   "cell_type": "code",
   "execution_count": 96,
   "metadata": {},
   "outputs": [],
   "source": [
    "df_sessions = pl.read_csv(\"data/log.csv\")\n",
    "df_sessions = df_sessions.with_columns(pl.col(\"date\").str.strptime(pl.Date, format=\"%Y-%m-%d\").alias(\"date\")).with_columns(\n",
    "    [        \n",
    "        # Create the 'is_weekend' column based on the weekday\n",
    "        pl.col(\"date\").dt.weekday().gt(4).cast(pl.Int8).alias(\"is_weekend\"),\n",
    "        \n",
    "        # Create the 'season' column based on the month\n",
    "        pl.when(pl.col(\"date\").dt.month().is_in([12, 1, 2])).then(pl.lit(\"winter\"))\n",
    "        .when(pl.col(\"date\").dt.month().is_in([3, 4, 5])).then(pl.lit(\"spring\"))\n",
    "        .when(pl.col(\"date\").dt.month().is_in([6, 7, 8])).then(pl.lit(\"summer\"))\n",
    "        .when(pl.col(\"date\").dt.month().is_in([9, 10, 11])).then(pl.lit(\"autumn\"))\n",
    "        .alias(\"season\"),\n",
    "\n",
    "        # Create time of day based on the hour\n",
    "        pl.when(pl.col(\"hour_of_day\").is_between(6, 11)).then(pl.lit(\"morning\"))\n",
    "        .when(pl.col(\"hour_of_day\").is_between(12, 17)).then(pl.lit(\"afternoon\"))\n",
    "        .when(pl.col(\"hour_of_day\").is_between(18, 23)).then(pl.lit(\"evening\"))\n",
    "        .when(pl.col(\"hour_of_day\").is_between(0, 5)).then(pl.lit(\"night\"))\n",
    "        .alias(\"time_of_day\"),\n",
    "\n",
    "        # Create indicator for how long the song was played (1 very briefly to 5 fully)\n",
    "        pl.when(pl.col(\"skip_1\") == True).then(1)\n",
    "        .when(pl.col(\"skip_2\") == True).then(2)\n",
    "        .when(pl.col(\"skip_3\") == True).then(3)\n",
    "        .when(pl.col(\"not_skipped\") == True).then(5)\n",
    "        .otherwise(4)\n",
    "        .alias(\"song_completion\"),\n",
    "\n",
    "        # Create indicator for how long the user paused before play (0 no pause to 3 very long pause)\n",
    "        pl.when(pl.col(\"no_pause_before_play\") == 1).then(0)\n",
    "        .when(pl.col(\"short_pause_before_play\") == 1).then(1)\n",
    "        .when(pl.col(\"long_pause_before_play\") == 1).then(2)\n",
    "        .otherwise(3)\n",
    "        .alias(\"pause_length_before_play\")\n",
    "    ]\n",
    ").drop([\"hour_of_day\", \"date\", \"skip_1\", \"skip_2\", \"skip_3\", \"not_skipped\", \"no_pause_before_play\", \"short_pause_before_play\", \"long_pause_before_play\"])"
   ]
  },
  {
   "cell_type": "code",
   "execution_count": 98,
   "metadata": {},
   "outputs": [
    {
     "data": {
      "text/html": [
       "<div><style>\n",
       ".dataframe > thead > tr,\n",
       ".dataframe > tbody > tr {\n",
       "  text-align: right;\n",
       "  white-space: pre-wrap;\n",
       "}\n",
       "</style>\n",
       "<small>shape: (1, 17)</small><table border=\"1\" class=\"dataframe\"><thead><tr><th>session_id</th><th>session_position</th><th>session_length</th><th>track_id_clean</th><th>context_switch</th><th>hist_user_behavior_n_seekfwd</th><th>hist_user_behavior_n_seekback</th><th>hist_user_behavior_is_shuffle</th><th>premium</th><th>context_type</th><th>hist_user_behavior_reason_start</th><th>hist_user_behavior_reason_end</th><th>is_weekend</th><th>season</th><th>time_of_day</th><th>song_completion</th><th>pause_length_before_play</th></tr><tr><td>str</td><td>i64</td><td>i64</td><td>str</td><td>i64</td><td>i64</td><td>i64</td><td>bool</td><td>bool</td><td>str</td><td>str</td><td>str</td><td>i8</td><td>str</td><td>str</td><td>i32</td><td>i32</td></tr></thead><tbody><tr><td>&quot;0_080e0e75-1a3e-4f7f-931f-a030…</td><td>10</td><td>20</td><td>&quot;t_02da00fc-a369-4541-8af9-7236…</td><td>0</td><td>0</td><td>0</td><td>true</td><td>false</td><td>&quot;user_collection&quot;</td><td>&quot;fwdbtn&quot;</td><td>&quot;fwdbtn&quot;</td><td>1</td><td>&quot;summer&quot;</td><td>&quot;morning&quot;</td><td>1</td><td>1</td></tr></tbody></table></div>"
      ],
      "text/plain": [
       "shape: (1, 17)\n",
       "┌────────────┬────────────┬───────────┬───────────┬───┬────────┬───────────┬───────────┬───────────┐\n",
       "│ session_id ┆ session_po ┆ session_l ┆ track_id_ ┆ … ┆ season ┆ time_of_d ┆ song_comp ┆ pause_len │\n",
       "│ ---        ┆ sition     ┆ ength     ┆ clean     ┆   ┆ ---    ┆ ay        ┆ letion    ┆ gth_befor │\n",
       "│ str        ┆ ---        ┆ ---       ┆ ---       ┆   ┆ str    ┆ ---       ┆ ---       ┆ e_play    │\n",
       "│            ┆ i64        ┆ i64       ┆ str       ┆   ┆        ┆ str       ┆ i32       ┆ ---       │\n",
       "│            ┆            ┆           ┆           ┆   ┆        ┆           ┆           ┆ i32       │\n",
       "╞════════════╪════════════╪═══════════╪═══════════╪═══╪════════╪═══════════╪═══════════╪═══════════╡\n",
       "│ 0_080e0e75 ┆ 10         ┆ 20        ┆ t_02da00f ┆ … ┆ summer ┆ morning   ┆ 1         ┆ 1         │\n",
       "│ -1a3e-4f7f ┆            ┆           ┆ c-a369-45 ┆   ┆        ┆           ┆           ┆           │\n",
       "│ -931f-a030 ┆            ┆           ┆ 41-8af9-7 ┆   ┆        ┆           ┆           ┆           │\n",
       "│ …          ┆            ┆           ┆ 236…      ┆   ┆        ┆           ┆           ┆           │\n",
       "└────────────┴────────────┴───────────┴───────────┴───┴────────┴───────────┴───────────┴───────────┘"
      ]
     },
     "execution_count": 98,
     "metadata": {},
     "output_type": "execute_result"
    }
   ],
   "source": [
    "df_sessions.sample()"
   ]
  }
 ],
 "metadata": {
  "kernelspec": {
   "display_name": "Python 3 (ipykernel)",
   "language": "python",
   "name": "python3"
  },
  "language_info": {
   "codemirror_mode": {
    "name": "ipython",
    "version": 3
   },
   "file_extension": ".py",
   "mimetype": "text/x-python",
   "name": "python",
   "nbconvert_exporter": "python",
   "pygments_lexer": "ipython3",
   "version": "3.11.7"
  }
 },
 "nbformat": 4,
 "nbformat_minor": 4
}
