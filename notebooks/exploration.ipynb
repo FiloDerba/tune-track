{
 "cells": [
  {
   "cell_type": "code",
   "execution_count": 2,
   "metadata": {},
   "outputs": [],
   "source": [
    "import os\n",
    "os.chdir(\"/Users/admin/Documents/Github/tune-track\")  "
   ]
  },
  {
   "cell_type": "code",
   "execution_count": 3,
   "metadata": {
    "pycharm": {
     "is_executing": true
    }
   },
   "outputs": [],
   "source": [
    "import polars as pl\n"
   ]
  },
  {
   "cell_type": "code",
   "execution_count": 4,
   "metadata": {
    "collapsed": false,
    "jupyter": {
     "outputs_hidden": false
    }
   },
   "outputs": [],
   "source": [
    "df = pl.read_csv(\"data/log.csv\")"
   ]
  },
  {
   "cell_type": "code",
   "execution_count": 5,
   "metadata": {},
   "outputs": [
    {
     "data": {
      "text/html": [
       "<div><style>\n",
       ".dataframe > thead > tr,\n",
       ".dataframe > tbody > tr {\n",
       "  text-align: right;\n",
       "  white-space: pre-wrap;\n",
       "}\n",
       "</style>\n",
       "<small>shape: (5, 21)</small><table border=\"1\" class=\"dataframe\"><thead><tr><th>session_id</th><th>session_position</th><th>session_length</th><th>track_id_clean</th><th>skip_1</th><th>skip_2</th><th>skip_3</th><th>not_skipped</th><th>context_switch</th><th>no_pause_before_play</th><th>short_pause_before_play</th><th>long_pause_before_play</th><th>hist_user_behavior_n_seekfwd</th><th>hist_user_behavior_n_seekback</th><th>hist_user_behavior_is_shuffle</th><th>hour_of_day</th><th>date</th><th>premium</th><th>context_type</th><th>hist_user_behavior_reason_start</th><th>hist_user_behavior_reason_end</th></tr><tr><td>str</td><td>i64</td><td>i64</td><td>str</td><td>bool</td><td>bool</td><td>bool</td><td>bool</td><td>i64</td><td>i64</td><td>i64</td><td>i64</td><td>i64</td><td>i64</td><td>bool</td><td>i64</td><td>str</td><td>bool</td><td>str</td><td>str</td><td>str</td></tr></thead><tbody><tr><td>&quot;0_00006f66-33e5-4de7-a324-2d18…</td><td>1</td><td>20</td><td>&quot;t_0479f24c-27d2-46d6-a00c-7ec9…</td><td>false</td><td>false</td><td>false</td><td>true</td><td>0</td><td>0</td><td>0</td><td>0</td><td>0</td><td>0</td><td>true</td><td>16</td><td>&quot;2018-07-15&quot;</td><td>true</td><td>&quot;editorial_playlist&quot;</td><td>&quot;trackdone&quot;</td><td>&quot;trackdone&quot;</td></tr><tr><td>&quot;0_00006f66-33e5-4de7-a324-2d18…</td><td>2</td><td>20</td><td>&quot;t_9099cd7b-c238-47b7-9381-f23f…</td><td>false</td><td>false</td><td>false</td><td>true</td><td>0</td><td>1</td><td>0</td><td>0</td><td>0</td><td>0</td><td>true</td><td>16</td><td>&quot;2018-07-15&quot;</td><td>true</td><td>&quot;editorial_playlist&quot;</td><td>&quot;trackdone&quot;</td><td>&quot;trackdone&quot;</td></tr><tr><td>&quot;0_00006f66-33e5-4de7-a324-2d18…</td><td>3</td><td>20</td><td>&quot;t_fc5df5ba-5396-49a7-8b29-35d0…</td><td>false</td><td>false</td><td>false</td><td>true</td><td>0</td><td>1</td><td>0</td><td>0</td><td>0</td><td>0</td><td>true</td><td>16</td><td>&quot;2018-07-15&quot;</td><td>true</td><td>&quot;editorial_playlist&quot;</td><td>&quot;trackdone&quot;</td><td>&quot;trackdone&quot;</td></tr><tr><td>&quot;0_00006f66-33e5-4de7-a324-2d18…</td><td>4</td><td>20</td><td>&quot;t_23cff8d6-d874-4b20-83dc-94e4…</td><td>false</td><td>false</td><td>false</td><td>true</td><td>0</td><td>1</td><td>0</td><td>0</td><td>0</td><td>0</td><td>true</td><td>16</td><td>&quot;2018-07-15&quot;</td><td>true</td><td>&quot;editorial_playlist&quot;</td><td>&quot;trackdone&quot;</td><td>&quot;trackdone&quot;</td></tr><tr><td>&quot;0_00006f66-33e5-4de7-a324-2d18…</td><td>5</td><td>20</td><td>&quot;t_64f3743c-f624-46bb-a579-0f3f…</td><td>false</td><td>false</td><td>false</td><td>true</td><td>0</td><td>1</td><td>0</td><td>0</td><td>0</td><td>0</td><td>true</td><td>16</td><td>&quot;2018-07-15&quot;</td><td>true</td><td>&quot;editorial_playlist&quot;</td><td>&quot;trackdone&quot;</td><td>&quot;trackdone&quot;</td></tr></tbody></table></div>"
      ],
      "text/plain": [
       "shape: (5, 21)\n",
       "┌────────────┬───────────┬───────────┬───────────┬───┬─────────┬───────────┬───────────┬───────────┐\n",
       "│ session_id ┆ session_p ┆ session_l ┆ track_id_ ┆ … ┆ premium ┆ context_t ┆ hist_user ┆ hist_user │\n",
       "│ ---        ┆ osition   ┆ ength     ┆ clean     ┆   ┆ ---     ┆ ype       ┆ _behavior ┆ _behavior │\n",
       "│ str        ┆ ---       ┆ ---       ┆ ---       ┆   ┆ bool    ┆ ---       ┆ _reason_s ┆ _reason_e │\n",
       "│            ┆ i64       ┆ i64       ┆ str       ┆   ┆         ┆ str       ┆ tar…      ┆ nd        │\n",
       "│            ┆           ┆           ┆           ┆   ┆         ┆           ┆ ---       ┆ ---       │\n",
       "│            ┆           ┆           ┆           ┆   ┆         ┆           ┆ str       ┆ str       │\n",
       "╞════════════╪═══════════╪═══════════╪═══════════╪═══╪═════════╪═══════════╪═══════════╪═══════════╡\n",
       "│ 0_00006f66 ┆ 1         ┆ 20        ┆ t_0479f24 ┆ … ┆ true    ┆ editorial ┆ trackdone ┆ trackdone │\n",
       "│ -33e5-4de7 ┆           ┆           ┆ c-27d2-46 ┆   ┆         ┆ _playlist ┆           ┆           │\n",
       "│ -a324-2d18 ┆           ┆           ┆ d6-a00c-7 ┆   ┆         ┆           ┆           ┆           │\n",
       "│ …          ┆           ┆           ┆ ec9…      ┆   ┆         ┆           ┆           ┆           │\n",
       "│ 0_00006f66 ┆ 2         ┆ 20        ┆ t_9099cd7 ┆ … ┆ true    ┆ editorial ┆ trackdone ┆ trackdone │\n",
       "│ -33e5-4de7 ┆           ┆           ┆ b-c238-47 ┆   ┆         ┆ _playlist ┆           ┆           │\n",
       "│ -a324-2d18 ┆           ┆           ┆ b7-9381-f ┆   ┆         ┆           ┆           ┆           │\n",
       "│ …          ┆           ┆           ┆ 23f…      ┆   ┆         ┆           ┆           ┆           │\n",
       "│ 0_00006f66 ┆ 3         ┆ 20        ┆ t_fc5df5b ┆ … ┆ true    ┆ editorial ┆ trackdone ┆ trackdone │\n",
       "│ -33e5-4de7 ┆           ┆           ┆ a-5396-49 ┆   ┆         ┆ _playlist ┆           ┆           │\n",
       "│ -a324-2d18 ┆           ┆           ┆ a7-8b29-3 ┆   ┆         ┆           ┆           ┆           │\n",
       "│ …          ┆           ┆           ┆ 5d0…      ┆   ┆         ┆           ┆           ┆           │\n",
       "│ 0_00006f66 ┆ 4         ┆ 20        ┆ t_23cff8d ┆ … ┆ true    ┆ editorial ┆ trackdone ┆ trackdone │\n",
       "│ -33e5-4de7 ┆           ┆           ┆ 6-d874-4b ┆   ┆         ┆ _playlist ┆           ┆           │\n",
       "│ -a324-2d18 ┆           ┆           ┆ 20-83dc-9 ┆   ┆         ┆           ┆           ┆           │\n",
       "│ …          ┆           ┆           ┆ 4e4…      ┆   ┆         ┆           ┆           ┆           │\n",
       "│ 0_00006f66 ┆ 5         ┆ 20        ┆ t_64f3743 ┆ … ┆ true    ┆ editorial ┆ trackdone ┆ trackdone │\n",
       "│ -33e5-4de7 ┆           ┆           ┆ c-f624-46 ┆   ┆         ┆ _playlist ┆           ┆           │\n",
       "│ -a324-2d18 ┆           ┆           ┆ bb-a579-0 ┆   ┆         ┆           ┆           ┆           │\n",
       "│ …          ┆           ┆           ┆ f3f…      ┆   ┆         ┆           ┆           ┆           │\n",
       "└────────────┴───────────┴───────────┴───────────┴───┴─────────┴───────────┴───────────┴───────────┘"
      ]
     },
     "execution_count": 5,
     "metadata": {},
     "output_type": "execute_result"
    }
   ],
   "source": [
    "df.head()\n"
   ]
  },
  {
   "cell_type": "code",
   "execution_count": null,
   "outputs": [],
   "source": [
    "1+1"
   ],
   "metadata": {
    "collapsed": false,
    "pycharm": {
     "is_executing": true
    }
   }
  },
  {
   "cell_type": "code",
   "execution_count": null,
   "outputs": [],
   "source": [],
   "metadata": {
    "collapsed": false
   }
  }
 ],
 "metadata": {
  "kernelspec": {
   "display_name": "Python 3 (ipykernel)",
   "language": "python",
   "name": "python3"
  },
  "language_info": {
   "codemirror_mode": {
    "name": "ipython",
    "version": 3
   },
   "file_extension": ".py",
   "mimetype": "text/x-python",
   "name": "python",
   "nbconvert_exporter": "python",
   "pygments_lexer": "ipython3",
   "version": "3.11.7"
  }
 },
 "nbformat": 4,
 "nbformat_minor": 4
}
