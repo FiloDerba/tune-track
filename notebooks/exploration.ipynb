{
 "cells": [
  {
   "cell_type": "code",
   "execution_count": 1,
   "metadata": {},
   "outputs": [],
   "source": [
    "import os\n",
    "os.chdir(\"/Users/admin/Documents/Github/tune-track\")  "
   ]
  },
  {
   "cell_type": "code",
   "execution_count": 2,
   "metadata": {
    "pycharm": {
     "is_executing": true
    }
   },
   "outputs": [
    {
     "data": {
      "text/plain": [
       "polars.config.Config"
      ]
     },
     "execution_count": 2,
     "metadata": {},
     "output_type": "execute_result"
    }
   ],
   "source": [
    "import polars as pl\n",
    "import altair as alt\n",
    "from data_preparation.functions import process_original_columns\n",
    "import plotly.express as px\n",
    "from functools import reduce\n",
    "from sklearn.cluster import KMeans\n",
    "\n",
    "cfg = pl.Config()\n",
    "cfg.set_tbl_rows(10)"
   ]
  },
  {
   "cell_type": "code",
   "execution_count": 3,
   "metadata": {
    "collapsed": false,
    "jupyter": {
     "outputs_hidden": false
    }
   },
   "outputs": [],
   "source": [
    "df_sessions = pl.read_csv(\"data/log.csv\")\n",
    "\n",
    "df_sessions = process_original_columns(df_sessions)"
   ]
  },
  {
   "cell_type": "markdown",
   "metadata": {},
   "source": [
    "## EDA"
   ]
  },
  {
   "cell_type": "code",
   "execution_count": 4,
   "metadata": {},
   "outputs": [
    {
     "data": {
      "text/html": [
       "<div><style>\n",
       ".dataframe > thead > tr,\n",
       ".dataframe > tbody > tr {\n",
       "  text-align: right;\n",
       "  white-space: pre-wrap;\n",
       "}\n",
       "</style>\n",
       "<small>shape: (1, 21)</small><table border=\"1\" class=\"dataframe\"><thead><tr><th>session_id</th><th>session_position</th><th>session_length</th><th>track_id_clean</th><th>skip_1</th><th>skip_2</th><th>skip_3</th><th>not_skipped</th><th>context_switch</th><th>no_pause_before_play</th><th>short_pause_before_play</th><th>long_pause_before_play</th><th>hist_user_behavior_n_seekfwd</th><th>hist_user_behavior_n_seekback</th><th>hist_user_behavior_is_shuffle</th><th>hour_of_day</th><th>date</th><th>premium</th><th>context_type</th><th>hist_user_behavior_reason_start</th><th>hist_user_behavior_reason_end</th></tr><tr><td>u32</td><td>u32</td><td>u32</td><td>u32</td><td>u32</td><td>u32</td><td>u32</td><td>u32</td><td>u32</td><td>u32</td><td>u32</td><td>u32</td><td>u32</td><td>u32</td><td>u32</td><td>u32</td><td>u32</td><td>u32</td><td>u32</td><td>u32</td><td>u32</td></tr></thead><tbody><tr><td>0</td><td>0</td><td>0</td><td>0</td><td>0</td><td>0</td><td>0</td><td>0</td><td>0</td><td>0</td><td>0</td><td>0</td><td>0</td><td>0</td><td>0</td><td>0</td><td>0</td><td>0</td><td>0</td><td>0</td><td>0</td></tr></tbody></table></div>"
      ],
      "text/plain": [
       "shape: (1, 21)\n",
       "┌────────────┬───────────┬───────────┬───────────┬───┬─────────┬───────────┬───────────┬───────────┐\n",
       "│ session_id ┆ session_p ┆ session_l ┆ track_id_ ┆ … ┆ premium ┆ context_t ┆ hist_user ┆ hist_user │\n",
       "│ ---        ┆ osition   ┆ ength     ┆ clean     ┆   ┆ ---     ┆ ype       ┆ _behavior ┆ _behavior │\n",
       "│ u32        ┆ ---       ┆ ---       ┆ ---       ┆   ┆ u32     ┆ ---       ┆ _reason_s ┆ _reason_e │\n",
       "│            ┆ u32       ┆ u32       ┆ u32       ┆   ┆         ┆ u32       ┆ tar…      ┆ nd        │\n",
       "│            ┆           ┆           ┆           ┆   ┆         ┆           ┆ ---       ┆ ---       │\n",
       "│            ┆           ┆           ┆           ┆   ┆         ┆           ┆ u32       ┆ u32       │\n",
       "╞════════════╪═══════════╪═══════════╪═══════════╪═══╪═════════╪═══════════╪═══════════╪═══════════╡\n",
       "│ 0          ┆ 0         ┆ 0         ┆ 0         ┆ … ┆ 0       ┆ 0         ┆ 0         ┆ 0         │\n",
       "└────────────┴───────────┴───────────┴───────────┴───┴─────────┴───────────┴───────────┴───────────┘"
      ]
     },
     "execution_count": 4,
     "metadata": {},
     "output_type": "execute_result"
    }
   ],
   "source": [
    "df_sessions.null_count()\n"
   ]
  },
  {
   "cell_type": "code",
   "execution_count": 4,
   "metadata": {},
   "outputs": [
    {
     "data": {
      "text/html": [
       "<div><style>\n",
       ".dataframe > thead > tr,\n",
       ".dataframe > tbody > tr {\n",
       "  text-align: right;\n",
       "  white-space: pre-wrap;\n",
       "}\n",
       "</style>\n",
       "<small>shape: (1, 20)</small><table border=\"1\" class=\"dataframe\"><thead><tr><th>session_id</th><th>session_position</th><th>session_length</th><th>track_id_clean</th><th>not_skipped</th><th>context_switch</th><th>hist_user_behavior_n_seekfwd</th><th>hist_user_behavior_n_seekback</th><th>hist_user_behavior_is_shuffle</th><th>hour_of_day</th><th>date</th><th>premium</th><th>context_type</th><th>hist_user_behavior_reason_start</th><th>hist_user_behavior_reason_end</th><th>is_weekend</th><th>season</th><th>time_of_day</th><th>song_completion</th><th>pause_length_before_play</th></tr><tr><td>str</td><td>i64</td><td>i64</td><td>str</td><td>bool</td><td>i64</td><td>i64</td><td>i64</td><td>bool</td><td>i64</td><td>date</td><td>bool</td><td>str</td><td>str</td><td>str</td><td>i8</td><td>str</td><td>str</td><td>f64</td><td>i32</td></tr></thead><tbody><tr><td>&quot;0_00006f66-33e5-4de7-a324-2d18…</td><td>1</td><td>20</td><td>&quot;t_0479f24c-27d2-46d6-a00c-7ec9…</td><td>true</td><td>0</td><td>0</td><td>0</td><td>true</td><td>16</td><td>2018-07-15</td><td>true</td><td>&quot;editorial_playlist&quot;</td><td>&quot;trackdone&quot;</td><td>&quot;trackdone&quot;</td><td>1</td><td>&quot;summer&quot;</td><td>&quot;afternoon&quot;</td><td>1.0</td><td>3</td></tr></tbody></table></div>"
      ],
      "text/plain": [
       "shape: (1, 20)\n",
       "┌────────────┬────────────┬───────────┬───────────┬───┬────────┬───────────┬───────────┬───────────┐\n",
       "│ session_id ┆ session_po ┆ session_l ┆ track_id_ ┆ … ┆ season ┆ time_of_d ┆ song_comp ┆ pause_len │\n",
       "│ ---        ┆ sition     ┆ ength     ┆ clean     ┆   ┆ ---    ┆ ay        ┆ letion    ┆ gth_befor │\n",
       "│ str        ┆ ---        ┆ ---       ┆ ---       ┆   ┆ str    ┆ ---       ┆ ---       ┆ e_play    │\n",
       "│            ┆ i64        ┆ i64       ┆ str       ┆   ┆        ┆ str       ┆ f64       ┆ ---       │\n",
       "│            ┆            ┆           ┆           ┆   ┆        ┆           ┆           ┆ i32       │\n",
       "╞════════════╪════════════╪═══════════╪═══════════╪═══╪════════╪═══════════╪═══════════╪═══════════╡\n",
       "│ 0_00006f66 ┆ 1          ┆ 20        ┆ t_0479f24 ┆ … ┆ summer ┆ afternoon ┆ 1.0       ┆ 3         │\n",
       "│ -33e5-4de7 ┆            ┆           ┆ c-27d2-46 ┆   ┆        ┆           ┆           ┆           │\n",
       "│ -a324-2d18 ┆            ┆           ┆ d6-a00c-7 ┆   ┆        ┆           ┆           ┆           │\n",
       "│ …          ┆            ┆           ┆ ec9…      ┆   ┆        ┆           ┆           ┆           │\n",
       "└────────────┴────────────┴───────────┴───────────┴───┴────────┴───────────┴───────────┴───────────┘"
      ]
     },
     "execution_count": 4,
     "metadata": {},
     "output_type": "execute_result"
    }
   ],
   "source": [
    "df_sessions.head(1)"
   ]
  },
  {
   "cell_type": "code",
   "execution_count": 7,
   "metadata": {},
   "outputs": [
    {
     "data": {
      "text/html": [
       "<div><style>\n",
       ".dataframe > thead > tr,\n",
       ".dataframe > tbody > tr {\n",
       "  text-align: right;\n",
       "  white-space: pre-wrap;\n",
       "}\n",
       "</style>\n",
       "<small>shape: (12, 3)</small><table border=\"1\" class=\"dataframe\"><thead><tr><th>context_type</th><th>premium</th><th>count</th></tr><tr><td>str</td><td>bool</td><td>u32</td></tr></thead><tbody><tr><td>&quot;catalog&quot;</td><td>false</td><td>6662</td></tr><tr><td>&quot;catalog&quot;</td><td>true</td><td>31601</td></tr><tr><td>&quot;charts&quot;</td><td>true</td><td>2134</td></tr><tr><td>&quot;charts&quot;</td><td>false</td><td>307</td></tr><tr><td>&quot;editorial_playlist&quot;</td><td>false</td><td>7291</td></tr><tr><td>&quot;editorial_playlist&quot;</td><td>true</td><td>28372</td></tr><tr><td>&quot;personalized_playlist&quot;</td><td>false</td><td>290</td></tr><tr><td>&quot;personalized_playlist&quot;</td><td>true</td><td>2686</td></tr><tr><td>&quot;radio&quot;</td><td>false</td><td>2662</td></tr><tr><td>&quot;radio&quot;</td><td>true</td><td>18445</td></tr><tr><td>&quot;user_collection&quot;</td><td>false</td><td>14615</td></tr><tr><td>&quot;user_collection&quot;</td><td>true</td><td>52815</td></tr></tbody></table></div>"
      ],
      "text/plain": [
       "shape: (12, 3)\n",
       "┌───────────────────────┬─────────┬───────┐\n",
       "│ context_type          ┆ premium ┆ count │\n",
       "│ ---                   ┆ ---     ┆ ---   │\n",
       "│ str                   ┆ bool    ┆ u32   │\n",
       "╞═══════════════════════╪═════════╪═══════╡\n",
       "│ catalog               ┆ false   ┆ 6662  │\n",
       "│ catalog               ┆ true    ┆ 31601 │\n",
       "│ charts                ┆ true    ┆ 2134  │\n",
       "│ charts                ┆ false   ┆ 307   │\n",
       "│ editorial_playlist    ┆ false   ┆ 7291  │\n",
       "│ editorial_playlist    ┆ true    ┆ 28372 │\n",
       "│ personalized_playlist ┆ false   ┆ 290   │\n",
       "│ personalized_playlist ┆ true    ┆ 2686  │\n",
       "│ radio                 ┆ false   ┆ 2662  │\n",
       "│ radio                 ┆ true    ┆ 18445 │\n",
       "│ user_collection       ┆ false   ┆ 14615 │\n",
       "│ user_collection       ┆ true    ┆ 52815 │\n",
       "└───────────────────────┴─────────┴───────┘"
      ]
     },
     "execution_count": 7,
     "metadata": {},
     "output_type": "execute_result"
    }
   ],
   "source": [
    "(df_sessions\n",
    "    .group_by(\"context_type\", \"premium\")\n",
    "    .agg(pl.len().alias(\"count\"))\n",
    "    .sort(\"context_type\")\n",
    ")"
   ]
  },
  {
   "cell_type": "markdown",
   "metadata": {
    "jp-MarkdownHeadingCollapsed": true
   },
   "source": [
    "#### Descriptive Graphs"
   ]
  },
  {
   "cell_type": "code",
   "execution_count": 8,
   "metadata": {},
   "outputs": [
    {
     "data": {
      "text/html": [
       "\n",
       "<style>\n",
       "  #altair-viz-5153df5c2f75401fa6bfb1f2f77486d3.vega-embed {\n",
       "    width: 100%;\n",
       "    display: flex;\n",
       "  }\n",
       "\n",
       "  #altair-viz-5153df5c2f75401fa6bfb1f2f77486d3.vega-embed details,\n",
       "  #altair-viz-5153df5c2f75401fa6bfb1f2f77486d3.vega-embed details summary {\n",
       "    position: relative;\n",
       "  }\n",
       "</style>\n",
       "<div id=\"altair-viz-5153df5c2f75401fa6bfb1f2f77486d3\"></div>\n",
       "<script type=\"text/javascript\">\n",
       "  var VEGA_DEBUG = (typeof VEGA_DEBUG == \"undefined\") ? {} : VEGA_DEBUG;\n",
       "  (function(spec, embedOpt){\n",
       "    let outputDiv = document.currentScript.previousElementSibling;\n",
       "    if (outputDiv.id !== \"altair-viz-5153df5c2f75401fa6bfb1f2f77486d3\") {\n",
       "      outputDiv = document.getElementById(\"altair-viz-5153df5c2f75401fa6bfb1f2f77486d3\");\n",
       "    }\n",
       "\n",
       "    const paths = {\n",
       "      \"vega\": \"https://cdn.jsdelivr.net/npm/vega@5?noext\",\n",
       "      \"vega-lib\": \"https://cdn.jsdelivr.net/npm/vega-lib?noext\",\n",
       "      \"vega-lite\": \"https://cdn.jsdelivr.net/npm/vega-lite@5.20.1?noext\",\n",
       "      \"vega-embed\": \"https://cdn.jsdelivr.net/npm/vega-embed@6?noext\",\n",
       "    };\n",
       "\n",
       "    function maybeLoadScript(lib, version) {\n",
       "      var key = `${lib.replace(\"-\", \"\")}_version`;\n",
       "      return (VEGA_DEBUG[key] == version) ?\n",
       "        Promise.resolve(paths[lib]) :\n",
       "        new Promise(function(resolve, reject) {\n",
       "          var s = document.createElement('script');\n",
       "          document.getElementsByTagName(\"head\")[0].appendChild(s);\n",
       "          s.async = true;\n",
       "          s.onload = () => {\n",
       "            VEGA_DEBUG[key] = version;\n",
       "            return resolve(paths[lib]);\n",
       "          };\n",
       "          s.onerror = () => reject(`Error loading script: ${paths[lib]}`);\n",
       "          s.src = paths[lib];\n",
       "        });\n",
       "    }\n",
       "\n",
       "    function showError(err) {\n",
       "      outputDiv.innerHTML = `<div class=\"error\" style=\"color:red;\">${err}</div>`;\n",
       "      throw err;\n",
       "    }\n",
       "\n",
       "    function displayChart(vegaEmbed) {\n",
       "      vegaEmbed(outputDiv, spec, embedOpt)\n",
       "        .catch(err => showError(`Javascript Error: ${err.message}<br>This usually means there's a typo in your chart specification. See the javascript console for the full traceback.`));\n",
       "    }\n",
       "\n",
       "    if(typeof define === \"function\" && define.amd) {\n",
       "      requirejs.config({paths});\n",
       "      let deps = [\"vega-embed\"];\n",
       "      require(deps, displayChart, err => showError(`Error loading script: ${err.message}`));\n",
       "    } else {\n",
       "      maybeLoadScript(\"vega\", \"5\")\n",
       "        .then(() => maybeLoadScript(\"vega-lite\", \"5.20.1\"))\n",
       "        .then(() => maybeLoadScript(\"vega-embed\", \"6\"))\n",
       "        .catch(showError)\n",
       "        .then(() => displayChart(vegaEmbed));\n",
       "    }\n",
       "  })({\"config\": {\"view\": {\"continuousWidth\": 300, \"continuousHeight\": 300}}, \"data\": {\"name\": \"data-3139190fd1c49ddbf76aa79b1f1aa5e2\"}, \"mark\": {\"type\": \"bar\"}, \"encoding\": {\"x\": {\"axis\": {\"labelAngle\": 0}, \"field\": \"session_length\", \"title\": \"Session Length\", \"type\": \"nominal\"}, \"y\": {\"axis\": {\"format\": \".0%\"}, \"field\": \"Percent\", \"title\": \"Percentage\", \"type\": \"quantitative\"}}, \"height\": 400, \"title\": \"Session Length Distribution\", \"transform\": [{\"joinaggregate\": [{\"op\": \"sum\", \"field\": \"count\", \"as\": \"TotalSessions\"}]}, {\"calculate\": \"datum.count / datum.TotalSessions\", \"as\": \"Percent\"}], \"width\": 600, \"$schema\": \"https://vega.github.io/schema/vega-lite/v5.20.1.json\", \"datasets\": {\"data-3139190fd1c49ddbf76aa79b1f1aa5e2\": [{\"session_length\": 10, \"count\": 8190}, {\"session_length\": 11, \"count\": 8272}, {\"session_length\": 12, \"count\": 7752}, {\"session_length\": 13, \"count\": 7111}, {\"session_length\": 14, \"count\": 6426}, {\"session_length\": 15, \"count\": 6525}, {\"session_length\": 16, \"count\": 5424}, {\"session_length\": 17, \"count\": 5440}, {\"session_length\": 18, \"count\": 5454}, {\"session_length\": 19, \"count\": 5966}, {\"session_length\": 20, \"count\": 101320}]}}, {\"mode\": \"vega-lite\"});\n",
       "</script>"
      ],
      "text/plain": [
       "alt.Chart(...)"
      ]
     },
     "execution_count": 8,
     "metadata": {},
     "output_type": "execute_result"
    }
   ],
   "source": [
    "import altair as alt\n",
    "\n",
    "# Group and convert to pandas\n",
    "session_counts = (\n",
    "    df_sessions\n",
    "    .group_by(\"session_length\")\n",
    "    .agg(pl.len().alias(\"count\"))\n",
    "    .sort(\"session_length\")\n",
    ")\n",
    "\n",
    "# Create chart with percentage transformation\n",
    "chart = alt.Chart(session_counts).transform_joinaggregate(\n",
    "    TotalSessions='sum(count)'\n",
    ").transform_calculate(\n",
    "    Percent='datum.count / datum.TotalSessions'\n",
    ").mark_bar().encode(\n",
    "    x=alt.X('session_length:N', title='Session Length', axis=alt.Axis(labelAngle=0)),\n",
    "    y=alt.Y('Percent:Q', title='Percentage', axis=alt.Axis(format='.0%'))\n",
    ").properties(\n",
    "    title=\"Session Length Distribution\",\n",
    "    width=600,\n",
    "    height=400\n",
    ")\n",
    "\n",
    "chart\n"
   ]
  },
  {
   "cell_type": "code",
   "execution_count": 10,
   "metadata": {},
   "outputs": [
    {
     "data": {
      "text/html": [
       "\n",
       "<style>\n",
       "  #altair-viz-8708df87d88f463ca1509577330f908a.vega-embed {\n",
       "    width: 100%;\n",
       "    display: flex;\n",
       "  }\n",
       "\n",
       "  #altair-viz-8708df87d88f463ca1509577330f908a.vega-embed details,\n",
       "  #altair-viz-8708df87d88f463ca1509577330f908a.vega-embed details summary {\n",
       "    position: relative;\n",
       "  }\n",
       "</style>\n",
       "<div id=\"altair-viz-8708df87d88f463ca1509577330f908a\"></div>\n",
       "<script type=\"text/javascript\">\n",
       "  var VEGA_DEBUG = (typeof VEGA_DEBUG == \"undefined\") ? {} : VEGA_DEBUG;\n",
       "  (function(spec, embedOpt){\n",
       "    let outputDiv = document.currentScript.previousElementSibling;\n",
       "    if (outputDiv.id !== \"altair-viz-8708df87d88f463ca1509577330f908a\") {\n",
       "      outputDiv = document.getElementById(\"altair-viz-8708df87d88f463ca1509577330f908a\");\n",
       "    }\n",
       "\n",
       "    const paths = {\n",
       "      \"vega\": \"https://cdn.jsdelivr.net/npm/vega@5?noext\",\n",
       "      \"vega-lib\": \"https://cdn.jsdelivr.net/npm/vega-lib?noext\",\n",
       "      \"vega-lite\": \"https://cdn.jsdelivr.net/npm/vega-lite@5.20.1?noext\",\n",
       "      \"vega-embed\": \"https://cdn.jsdelivr.net/npm/vega-embed@6?noext\",\n",
       "    };\n",
       "\n",
       "    function maybeLoadScript(lib, version) {\n",
       "      var key = `${lib.replace(\"-\", \"\")}_version`;\n",
       "      return (VEGA_DEBUG[key] == version) ?\n",
       "        Promise.resolve(paths[lib]) :\n",
       "        new Promise(function(resolve, reject) {\n",
       "          var s = document.createElement('script');\n",
       "          document.getElementsByTagName(\"head\")[0].appendChild(s);\n",
       "          s.async = true;\n",
       "          s.onload = () => {\n",
       "            VEGA_DEBUG[key] = version;\n",
       "            return resolve(paths[lib]);\n",
       "          };\n",
       "          s.onerror = () => reject(`Error loading script: ${paths[lib]}`);\n",
       "          s.src = paths[lib];\n",
       "        });\n",
       "    }\n",
       "\n",
       "    function showError(err) {\n",
       "      outputDiv.innerHTML = `<div class=\"error\" style=\"color:red;\">${err}</div>`;\n",
       "      throw err;\n",
       "    }\n",
       "\n",
       "    function displayChart(vegaEmbed) {\n",
       "      vegaEmbed(outputDiv, spec, embedOpt)\n",
       "        .catch(err => showError(`Javascript Error: ${err.message}<br>This usually means there's a typo in your chart specification. See the javascript console for the full traceback.`));\n",
       "    }\n",
       "\n",
       "    if(typeof define === \"function\" && define.amd) {\n",
       "      requirejs.config({paths});\n",
       "      let deps = [\"vega-embed\"];\n",
       "      require(deps, displayChart, err => showError(`Error loading script: ${err.message}`));\n",
       "    } else {\n",
       "      maybeLoadScript(\"vega\", \"5\")\n",
       "        .then(() => maybeLoadScript(\"vega-lite\", \"5.20.1\"))\n",
       "        .then(() => maybeLoadScript(\"vega-embed\", \"6\"))\n",
       "        .catch(showError)\n",
       "        .then(() => displayChart(vegaEmbed));\n",
       "    }\n",
       "  })({\"config\": {\"view\": {\"continuousWidth\": 300, \"continuousHeight\": 300}}, \"data\": {\"name\": \"data-559d0ec7be3685e1de0b170fde5dcf4d\"}, \"mark\": {\"type\": \"bar\"}, \"encoding\": {\"color\": {\"field\": \"time_of_day\", \"scale\": {\"scheme\": \"tableau10\"}, \"title\": \"Time of Day\", \"type\": \"nominal\"}, \"x\": {\"axis\": {\"labelAngle\": 0}, \"field\": \"hour_of_day\", \"title\": \"Hour of Day\", \"type\": \"nominal\"}, \"y\": {\"axis\": {\"format\": \".0%\"}, \"field\": \"Percent\", \"title\": \"Percentage\", \"type\": \"quantitative\"}}, \"height\": 400, \"title\": \"Hour of Day Distribution\", \"transform\": [{\"joinaggregate\": [{\"op\": \"sum\", \"field\": \"count\", \"as\": \"TotalSessions\"}]}, {\"calculate\": \"datum.count / datum.TotalSessions\", \"as\": \"Percent\"}], \"width\": 600, \"$schema\": \"https://vega.github.io/schema/vega-lite/v5.20.1.json\", \"datasets\": {\"data-559d0ec7be3685e1de0b170fde5dcf4d\": [{\"hour_of_day\": 0, \"time_of_day\": \"night\", \"count\": 5694}, {\"hour_of_day\": 1, \"time_of_day\": \"night\", \"count\": 4127}, {\"hour_of_day\": 2, \"time_of_day\": \"night\", \"count\": 2964}, {\"hour_of_day\": 3, \"time_of_day\": \"night\", \"count\": 2284}, {\"hour_of_day\": 4, \"time_of_day\": \"night\", \"count\": 1563}, {\"hour_of_day\": 5, \"time_of_day\": \"night\", \"count\": 1303}, {\"hour_of_day\": 6, \"time_of_day\": \"morning\", \"count\": 1733}, {\"hour_of_day\": 7, \"time_of_day\": \"morning\", \"count\": 2366}, {\"hour_of_day\": 8, \"time_of_day\": \"morning\", \"count\": 3397}, {\"hour_of_day\": 9, \"time_of_day\": \"morning\", \"count\": 5555}, {\"hour_of_day\": 10, \"time_of_day\": \"morning\", \"count\": 7483}, {\"hour_of_day\": 11, \"time_of_day\": \"morning\", \"count\": 8320}, {\"hour_of_day\": 12, \"time_of_day\": \"afternoon\", \"count\": 9696}, {\"hour_of_day\": 13, \"time_of_day\": \"afternoon\", \"count\": 10687}, {\"hour_of_day\": 14, \"time_of_day\": \"afternoon\", \"count\": 11590}, {\"hour_of_day\": 15, \"time_of_day\": \"afternoon\", \"count\": 11443}, {\"hour_of_day\": 16, \"time_of_day\": \"afternoon\", \"count\": 11636}, {\"hour_of_day\": 17, \"time_of_day\": \"afternoon\", \"count\": 10897}, {\"hour_of_day\": 18, \"time_of_day\": \"evening\", \"count\": 10319}, {\"hour_of_day\": 19, \"time_of_day\": \"evening\", \"count\": 9487}, {\"hour_of_day\": 20, \"time_of_day\": \"evening\", \"count\": 9366}, {\"hour_of_day\": 21, \"time_of_day\": \"evening\", \"count\": 9918}, {\"hour_of_day\": 22, \"time_of_day\": \"evening\", \"count\": 8822}, {\"hour_of_day\": 23, \"time_of_day\": \"evening\", \"count\": 7230}]}}, {\"mode\": \"vega-lite\"});\n",
       "</script>"
      ],
      "text/plain": [
       "alt.Chart(...)"
      ]
     },
     "execution_count": 10,
     "metadata": {},
     "output_type": "execute_result"
    }
   ],
   "source": [
    "# Group by 'hour_of_day' and get count of each hour\n",
    "hour_counts = (\n",
    "    df_sessions\n",
    "    .group_by(\"hour_of_day\", \"time_of_day\")\n",
    "    .agg(pl.len().alias(\"count\"))\n",
    "    .sort(\"hour_of_day\")\n",
    ")\n",
    "\n",
    "# Create chart with percentage transformation\n",
    "chart = alt.Chart(hour_counts).transform_joinaggregate(\n",
    "    TotalSessions='sum(count)'\n",
    ").transform_calculate(\n",
    "    Percent='datum.count / datum.TotalSessions'\n",
    ").mark_bar().encode(\n",
    "    x=alt.X('hour_of_day:N', title='Hour of Day', axis=alt.Axis(labelAngle=0)),\n",
    "    y=alt.Y('Percent:Q', title='Percentage', axis=alt.Axis(format='.0%')),\n",
    "    color=alt.Color('time_of_day:N', title=\"Time of Day\", scale=alt.Scale(scheme='tableau10'))\n",
    ").properties(\n",
    "    title=\"Hour of Day Distribution\",\n",
    "    width=600,\n",
    "    height=400\n",
    ")\n",
    "\n",
    "chart\n"
   ]
  },
  {
   "cell_type": "markdown",
   "metadata": {},
   "source": [
    "## Markov Chains"
   ]
  },
  {
   "cell_type": "code",
   "execution_count": 4,
   "metadata": {},
   "outputs": [
    {
     "data": {
      "text/html": [
       "<div><style>\n",
       ".dataframe > thead > tr,\n",
       ".dataframe > tbody > tr {\n",
       "  text-align: right;\n",
       "  white-space: pre-wrap;\n",
       "}\n",
       "</style>\n",
       "<small>shape: (9, 8)</small><table border=\"1\" class=\"dataframe\"><thead><tr><th>hist_user_behavior_reason_start</th><th>fwdbtn</th><th>trackdone</th><th>backbtn</th><th>logout</th><th>remote</th><th>clickrow</th><th>endplay</th></tr><tr><td>str</td><td>f64</td><td>f64</td><td>f64</td><td>f64</td><td>f64</td><td>f64</td><td>f64</td></tr></thead><tbody><tr><td>&quot;backbtn&quot;</td><td>0.014</td><td>0.018</td><td>0.042</td><td>0.0</td><td>0.0</td><td>null</td><td>0.003</td></tr><tr><td>&quot;fwdbtn&quot;</td><td>0.366</td><td>0.07</td><td>0.022</td><td>0.001</td><td>0.0</td><td>null</td><td>0.017</td></tr><tr><td>&quot;endplay&quot;</td><td>0.0</td><td>0.0</td><td>0.0</td><td>null</td><td>0.0</td><td>null</td><td>null</td></tr><tr><td>&quot;trackerror&quot;</td><td>0.0</td><td>0.0</td><td>0.0</td><td>null</td><td>null</td><td>null</td><td>0.0</td></tr><tr><td>&quot;trackdone&quot;</td><td>0.084</td><td>0.208</td><td>0.012</td><td>0.002</td><td>0.001</td><td>0.0</td><td>0.02</td></tr><tr><td>&quot;remote&quot;</td><td>0.0</td><td>0.0</td><td>0.0</td><td>0.0</td><td>0.0</td><td>null</td><td>0.0</td></tr><tr><td>&quot;clickrow&quot;</td><td>0.016</td><td>0.041</td><td>0.001</td><td>0.0</td><td>0.0</td><td>0.0</td><td>0.045</td></tr><tr><td>&quot;appload&quot;</td><td>0.003</td><td>0.005</td><td>0.001</td><td>0.0</td><td>0.0</td><td>null</td><td>0.002</td></tr><tr><td>&quot;playbtn&quot;</td><td>0.0</td><td>0.0</td><td>null</td><td>0.0</td><td>0.0</td><td>null</td><td>0.0</td></tr></tbody></table></div>"
      ],
      "text/plain": [
       "shape: (9, 8)\n",
       "┌────────────────────────────┬────────┬───────────┬─────────┬────────┬────────┬──────────┬─────────┐\n",
       "│ hist_user_behavior_reason_ ┆ fwdbtn ┆ trackdone ┆ backbtn ┆ logout ┆ remote ┆ clickrow ┆ endplay │\n",
       "│ star…                      ┆ ---    ┆ ---       ┆ ---     ┆ ---    ┆ ---    ┆ ---      ┆ ---     │\n",
       "│ ---                        ┆ f64    ┆ f64       ┆ f64     ┆ f64    ┆ f64    ┆ f64      ┆ f64     │\n",
       "│ str                        ┆        ┆           ┆         ┆        ┆        ┆          ┆         │\n",
       "╞════════════════════════════╪════════╪═══════════╪═════════╪════════╪════════╪══════════╪═════════╡\n",
       "│ backbtn                    ┆ 0.014  ┆ 0.018     ┆ 0.042   ┆ 0.0    ┆ 0.0    ┆ null     ┆ 0.003   │\n",
       "│ fwdbtn                     ┆ 0.366  ┆ 0.07      ┆ 0.022   ┆ 0.001  ┆ 0.0    ┆ null     ┆ 0.017   │\n",
       "│ endplay                    ┆ 0.0    ┆ 0.0       ┆ 0.0     ┆ null   ┆ 0.0    ┆ null     ┆ null    │\n",
       "│ trackerror                 ┆ 0.0    ┆ 0.0       ┆ 0.0     ┆ null   ┆ null   ┆ null     ┆ 0.0     │\n",
       "│ trackdone                  ┆ 0.084  ┆ 0.208     ┆ 0.012   ┆ 0.002  ┆ 0.001  ┆ 0.0      ┆ 0.02    │\n",
       "│ remote                     ┆ 0.0    ┆ 0.0       ┆ 0.0     ┆ 0.0    ┆ 0.0    ┆ null     ┆ 0.0     │\n",
       "│ clickrow                   ┆ 0.016  ┆ 0.041     ┆ 0.001   ┆ 0.0    ┆ 0.0    ┆ 0.0      ┆ 0.045   │\n",
       "│ appload                    ┆ 0.003  ┆ 0.005     ┆ 0.001   ┆ 0.0    ┆ 0.0    ┆ null     ┆ 0.002   │\n",
       "│ playbtn                    ┆ 0.0    ┆ 0.0       ┆ null    ┆ 0.0    ┆ 0.0    ┆ null     ┆ 0.0     │\n",
       "└────────────────────────────┴────────┴───────────┴─────────┴────────┴────────┴──────────┴─────────┘"
      ]
     },
     "execution_count": 4,
     "metadata": {},
     "output_type": "execute_result"
    }
   ],
   "source": [
    "transition_matrix = (\n",
    "    df_sessions\n",
    "    .group_by([\"hist_user_behavior_reason_start\", \"hist_user_behavior_reason_end\"])\n",
    "    .agg(pl.len().alias(\"count\"))\n",
    "    .with_columns([\n",
    "        pl.col(\"count\")\n",
    "        .sum()\n",
    "        .alias(\"total\")\n",
    "    ])\n",
    "    .with_columns([\n",
    "        (pl.col(\"count\") / pl.col(\"total\")).round(3).alias(\"percentage\")\n",
    "    ])\n",
    "    .pivot(\n",
    "        index=\"hist_user_behavior_reason_start\",\n",
    "        on=\"hist_user_behavior_reason_end\",\n",
    "        values=\"percentage\"\n",
    "    )\n",
    ")\n",
    "\n",
    "transition_matrix\n"
   ]
  },
  {
   "cell_type": "code",
   "execution_count": 11,
   "metadata": {},
   "outputs": [
    {
     "data": {
      "text/html": [
       "<div><style>\n",
       ".dataframe > thead > tr,\n",
       ".dataframe > tbody > tr {\n",
       "  text-align: right;\n",
       "  white-space: pre-wrap;\n",
       "}\n",
       "</style>\n",
       "<small>shape: (9, 8)</small><table border=\"1\" class=\"dataframe\"><thead><tr><th>hist_user_behavior_reason_start</th><th>trackdone</th><th>endplay</th><th>fwdbtn</th><th>backbtn</th><th>logout</th><th>remote</th><th>clickrow</th></tr><tr><td>str</td><td>f64</td><td>f64</td><td>f64</td><td>f64</td><td>f64</td><td>f64</td><td>f64</td></tr></thead><tbody><tr><td>&quot;trackdone&quot;</td><td>0.208</td><td>0.02</td><td>0.084</td><td>0.012</td><td>0.002</td><td>0.001</td><td>0.0</td></tr><tr><td>&quot;endplay&quot;</td><td>0.0</td><td>null</td><td>0.0</td><td>0.0</td><td>null</td><td>0.0</td><td>null</td></tr><tr><td>&quot;remote&quot;</td><td>0.0</td><td>0.0</td><td>0.0</td><td>0.0</td><td>0.0</td><td>0.0</td><td>null</td></tr><tr><td>&quot;playbtn&quot;</td><td>0.0</td><td>0.0</td><td>0.0</td><td>null</td><td>0.0</td><td>0.0</td><td>null</td></tr><tr><td>&quot;trackerror&quot;</td><td>0.0</td><td>0.0</td><td>0.0</td><td>0.0</td><td>null</td><td>null</td><td>null</td></tr><tr><td>&quot;fwdbtn&quot;</td><td>0.07</td><td>0.017</td><td>0.366</td><td>0.022</td><td>0.001</td><td>0.0</td><td>null</td></tr><tr><td>&quot;clickrow&quot;</td><td>0.041</td><td>0.045</td><td>0.016</td><td>0.001</td><td>0.0</td><td>0.0</td><td>0.0</td></tr><tr><td>&quot;backbtn&quot;</td><td>0.018</td><td>0.003</td><td>0.014</td><td>0.042</td><td>0.0</td><td>0.0</td><td>null</td></tr><tr><td>&quot;appload&quot;</td><td>0.005</td><td>0.002</td><td>0.003</td><td>0.001</td><td>0.0</td><td>0.0</td><td>null</td></tr></tbody></table></div>"
      ],
      "text/plain": [
       "shape: (9, 8)\n",
       "┌────────────────────────────┬───────────┬─────────┬────────┬─────────┬────────┬────────┬──────────┐\n",
       "│ hist_user_behavior_reason_ ┆ trackdone ┆ endplay ┆ fwdbtn ┆ backbtn ┆ logout ┆ remote ┆ clickrow │\n",
       "│ star…                      ┆ ---       ┆ ---     ┆ ---    ┆ ---     ┆ ---    ┆ ---    ┆ ---      │\n",
       "│ ---                        ┆ f64       ┆ f64     ┆ f64    ┆ f64     ┆ f64    ┆ f64    ┆ f64      │\n",
       "│ str                        ┆           ┆         ┆        ┆         ┆        ┆        ┆          │\n",
       "╞════════════════════════════╪═══════════╪═════════╪════════╪═════════╪════════╪════════╪══════════╡\n",
       "│ trackdone                  ┆ 0.208     ┆ 0.02    ┆ 0.084  ┆ 0.012   ┆ 0.002  ┆ 0.001  ┆ 0.0      │\n",
       "│ endplay                    ┆ 0.0       ┆ null    ┆ 0.0    ┆ 0.0     ┆ null   ┆ 0.0    ┆ null     │\n",
       "│ remote                     ┆ 0.0       ┆ 0.0     ┆ 0.0    ┆ 0.0     ┆ 0.0    ┆ 0.0    ┆ null     │\n",
       "│ playbtn                    ┆ 0.0       ┆ 0.0     ┆ 0.0    ┆ null    ┆ 0.0    ┆ 0.0    ┆ null     │\n",
       "│ trackerror                 ┆ 0.0       ┆ 0.0     ┆ 0.0    ┆ 0.0     ┆ null   ┆ null   ┆ null     │\n",
       "│ fwdbtn                     ┆ 0.07      ┆ 0.017   ┆ 0.366  ┆ 0.022   ┆ 0.001  ┆ 0.0    ┆ null     │\n",
       "│ clickrow                   ┆ 0.041     ┆ 0.045   ┆ 0.016  ┆ 0.001   ┆ 0.0    ┆ 0.0    ┆ 0.0      │\n",
       "│ backbtn                    ┆ 0.018     ┆ 0.003   ┆ 0.014  ┆ 0.042   ┆ 0.0    ┆ 0.0    ┆ null     │\n",
       "│ appload                    ┆ 0.005     ┆ 0.002   ┆ 0.003  ┆ 0.001   ┆ 0.0    ┆ 0.0    ┆ null     │\n",
       "└────────────────────────────┴───────────┴─────────┴────────┴─────────┴────────┴────────┴──────────┘"
      ]
     },
     "execution_count": 11,
     "metadata": {},
     "output_type": "execute_result"
    }
   ],
   "source": [
    "# Compute transition matrix (as row-wise normalized probabilities, rounded to 3 decimals)\n",
    "transition_matrix = (\n",
    "    df_sessions\n",
    "    .with_columns([\n",
    "        pl.col(\"hist_user_behavior_reason_start\")\n",
    "          .shift(-1)\n",
    "          .over(\"session_id\")\n",
    "          .alias(\"hist_user_behavior_reason_start_next\")\n",
    "    ])\n",
    "    .group_by([\"hist_user_behavior_reason_start\", \"hist_user_behavior_reason_end\"])\n",
    "    .agg(pl.len().alias(\"count\"))\n",
    "    .with_columns([\n",
    "        # Total outgoing transitions per start reason\n",
    "        pl.col(\"count\").sum().over(\"hist_user_behavior_reason_start\").alias(\"total_start\"),\n",
    "        pl.col(\"count\").sum().over(\"hist_user_behavior_reason_end\").alias(\"total_end\"),\n",
    "        pl.col(\"count\").sum().alias(\"total\")\n",
    "    ])\n",
    "    .with_columns([\n",
    "        # Normalize to percentages\n",
    "        (pl.col(\"count\") / pl.col(\"total\")).round(3).alias(\"percentage\")\n",
    "    ])\n",
    "    .pivot(\n",
    "        index=\"hist_user_behavior_reason_start\",\n",
    "        on=\"hist_user_behavior_reason_end\",\n",
    "        values=\"percentage\"\n",
    "    )\n",
    ")\n",
    "\n",
    "transition_matrix\n"
   ]
  },
  {
   "cell_type": "code",
   "execution_count": 7,
   "metadata": {},
   "outputs": [
    {
     "data": {
      "text/html": [
       "<div><style>\n",
       ".dataframe > thead > tr,\n",
       ".dataframe > tbody > tr {\n",
       "  text-align: right;\n",
       "  white-space: pre-wrap;\n",
       "}\n",
       "</style>\n",
       "<small>shape: (51, 5)</small><table border=\"1\" class=\"dataframe\"><thead><tr><th>hist_user_behavior_reason_start</th><th>hist_user_behavior_reason_end</th><th>count</th><th>transition_percentage</th><th>marginal_end_probability</th></tr><tr><td>str</td><td>str</td><td>u32</td><td>f64</td><td>f64</td></tr></thead><tbody><tr><td>&quot;appload&quot;</td><td>&quot;backbtn&quot;</td><td>126</td><td>0.065</td><td>0.078</td></tr><tr><td>&quot;appload&quot;</td><td>&quot;endplay&quot;</td><td>408</td><td>0.21</td><td>0.088</td></tr><tr><td>&quot;appload&quot;</td><td>&quot;fwdbtn&quot;</td><td>585</td><td>0.301</td><td>0.485</td></tr><tr><td>&quot;appload&quot;</td><td>&quot;logout&quot;</td><td>12</td><td>0.006</td><td>0.003</td></tr><tr><td>&quot;appload&quot;</td><td>&quot;remote&quot;</td><td>6</td><td>0.003</td><td>0.002</td></tr><tr><td>&quot;appload&quot;</td><td>&quot;trackdone&quot;</td><td>805</td><td>0.415</td><td>0.344</td></tr><tr><td>&quot;backbtn&quot;</td><td>&quot;backbtn&quot;</td><td>7121</td><td>0.546</td><td>0.078</td></tr><tr><td>&quot;backbtn&quot;</td><td>&quot;endplay&quot;</td><td>468</td><td>0.036</td><td>0.088</td></tr><tr><td>&quot;backbtn&quot;</td><td>&quot;fwdbtn&quot;</td><td>2378</td><td>0.182</td><td>0.485</td></tr><tr><td>&quot;backbtn&quot;</td><td>&quot;logout&quot;</td><td>39</td><td>0.003</td><td>0.003</td></tr><tr><td>&quot;backbtn&quot;</td><td>&quot;remote&quot;</td><td>14</td><td>0.001</td><td>0.002</td></tr><tr><td>&quot;backbtn&quot;</td><td>&quot;trackdone&quot;</td><td>3014</td><td>0.231</td><td>0.344</td></tr><tr><td>&quot;clickrow&quot;</td><td>&quot;backbtn&quot;</td><td>133</td><td>0.008</td><td>0.078</td></tr><tr><td>&quot;clickrow&quot;</td><td>&quot;clickrow&quot;</td><td>7</td><td>0.0</td><td>0.0</td></tr><tr><td>&quot;clickrow&quot;</td><td>&quot;endplay&quot;</td><td>7564</td><td>0.432</td><td>0.088</td></tr><tr><td>&quot;clickrow&quot;</td><td>&quot;fwdbtn&quot;</td><td>2743</td><td>0.157</td><td>0.485</td></tr><tr><td>&quot;clickrow&quot;</td><td>&quot;logout&quot;</td><td>79</td><td>0.005</td><td>0.003</td></tr><tr><td>&quot;clickrow&quot;</td><td>&quot;remote&quot;</td><td>66</td><td>0.004</td><td>0.002</td></tr><tr><td>&quot;clickrow&quot;</td><td>&quot;trackdone&quot;</td><td>6922</td><td>0.395</td><td>0.344</td></tr><tr><td>&quot;endplay&quot;</td><td>&quot;backbtn&quot;</td><td>1</td><td>0.05</td><td>0.078</td></tr><tr><td>&quot;endplay&quot;</td><td>&quot;fwdbtn&quot;</td><td>5</td><td>0.25</td><td>0.485</td></tr><tr><td>&quot;endplay&quot;</td><td>&quot;remote&quot;</td><td>1</td><td>0.05</td><td>0.002</td></tr><tr><td>&quot;endplay&quot;</td><td>&quot;trackdone&quot;</td><td>13</td><td>0.65</td><td>0.344</td></tr><tr><td>&quot;fwdbtn&quot;</td><td>&quot;backbtn&quot;</td><td>3647</td><td>0.046</td><td>0.078</td></tr><tr><td>&quot;fwdbtn&quot;</td><td>&quot;endplay&quot;</td><td>2862</td><td>0.036</td><td>0.088</td></tr><tr><td>&quot;fwdbtn&quot;</td><td>&quot;fwdbtn&quot;</td><td>61403</td><td>0.768</td><td>0.485</td></tr><tr><td>&quot;fwdbtn&quot;</td><td>&quot;logout&quot;</td><td>130</td><td>0.002</td><td>0.003</td></tr><tr><td>&quot;fwdbtn&quot;</td><td>&quot;remote&quot;</td><td>52</td><td>0.001</td><td>0.002</td></tr><tr><td>&quot;fwdbtn&quot;</td><td>&quot;trackdone&quot;</td><td>11818</td><td>0.148</td><td>0.344</td></tr><tr><td>&quot;playbtn&quot;</td><td>&quot;endplay&quot;</td><td>47</td><td>0.303</td><td>0.088</td></tr><tr><td>&quot;playbtn&quot;</td><td>&quot;fwdbtn&quot;</td><td>54</td><td>0.348</td><td>0.485</td></tr><tr><td>&quot;playbtn&quot;</td><td>&quot;logout&quot;</td><td>1</td><td>0.006</td><td>0.003</td></tr><tr><td>&quot;playbtn&quot;</td><td>&quot;remote&quot;</td><td>2</td><td>0.013</td><td>0.002</td></tr><tr><td>&quot;playbtn&quot;</td><td>&quot;trackdone&quot;</td><td>51</td><td>0.329</td><td>0.344</td></tr><tr><td>&quot;remote&quot;</td><td>&quot;backbtn&quot;</td><td>6</td><td>0.044</td><td>0.078</td></tr><tr><td>&quot;remote&quot;</td><td>&quot;endplay&quot;</td><td>35</td><td>0.257</td><td>0.088</td></tr><tr><td>&quot;remote&quot;</td><td>&quot;fwdbtn&quot;</td><td>23</td><td>0.169</td><td>0.485</td></tr><tr><td>&quot;remote&quot;</td><td>&quot;logout&quot;</td><td>2</td><td>0.015</td><td>0.003</td></tr><tr><td>&quot;remote&quot;</td><td>&quot;remote&quot;</td><td>23</td><td>0.169</td><td>0.002</td></tr><tr><td>&quot;remote&quot;</td><td>&quot;trackdone&quot;</td><td>47</td><td>0.346</td><td>0.344</td></tr><tr><td>&quot;trackdone&quot;</td><td>&quot;backbtn&quot;</td><td>2090</td><td>0.038</td><td>0.078</td></tr><tr><td>&quot;trackdone&quot;</td><td>&quot;clickrow&quot;</td><td>1</td><td>0.0</td><td>0.0</td></tr><tr><td>&quot;trackdone&quot;</td><td>&quot;endplay&quot;</td><td>3435</td><td>0.062</td><td>0.088</td></tr><tr><td>&quot;trackdone&quot;</td><td>&quot;fwdbtn&quot;</td><td>14152</td><td>0.257</td><td>0.485</td></tr><tr><td>&quot;trackdone&quot;</td><td>&quot;logout&quot;</td><td>300</td><td>0.005</td><td>0.003</td></tr><tr><td>&quot;trackdone&quot;</td><td>&quot;remote&quot;</td><td>103</td><td>0.002</td><td>0.002</td></tr><tr><td>&quot;trackdone&quot;</td><td>&quot;trackdone&quot;</td><td>34994</td><td>0.635</td><td>0.344</td></tr><tr><td>&quot;trackerror&quot;</td><td>&quot;backbtn&quot;</td><td>5</td><td>0.054</td><td>0.078</td></tr><tr><td>&quot;trackerror&quot;</td><td>&quot;endplay&quot;</td><td>4</td><td>0.043</td><td>0.088</td></tr><tr><td>&quot;trackerror&quot;</td><td>&quot;fwdbtn&quot;</td><td>46</td><td>0.5</td><td>0.485</td></tr><tr><td>&quot;trackerror&quot;</td><td>&quot;trackdone&quot;</td><td>37</td><td>0.402</td><td>0.344</td></tr></tbody></table></div>"
      ],
      "text/plain": [
       "shape: (51, 5)\n",
       "┌──────────────────────┬──────────────────────┬───────┬──────────────────────┬─────────────────────┐\n",
       "│ hist_user_behavior_r ┆ hist_user_behavior_r ┆ count ┆ transition_percentag ┆ marginal_end_probab │\n",
       "│ eason_star…          ┆ eason_end            ┆ ---   ┆ e                    ┆ ility               │\n",
       "│ ---                  ┆ ---                  ┆ u32   ┆ ---                  ┆ ---                 │\n",
       "│ str                  ┆ str                  ┆       ┆ f64                  ┆ f64                 │\n",
       "╞══════════════════════╪══════════════════════╪═══════╪══════════════════════╪═════════════════════╡\n",
       "│ appload              ┆ backbtn              ┆ 126   ┆ 0.065                ┆ 0.078               │\n",
       "│ appload              ┆ endplay              ┆ 408   ┆ 0.21                 ┆ 0.088               │\n",
       "│ appload              ┆ fwdbtn               ┆ 585   ┆ 0.301                ┆ 0.485               │\n",
       "│ appload              ┆ logout               ┆ 12    ┆ 0.006                ┆ 0.003               │\n",
       "│ appload              ┆ remote               ┆ 6     ┆ 0.003                ┆ 0.002               │\n",
       "│ appload              ┆ trackdone            ┆ 805   ┆ 0.415                ┆ 0.344               │\n",
       "│ backbtn              ┆ backbtn              ┆ 7121  ┆ 0.546                ┆ 0.078               │\n",
       "│ backbtn              ┆ endplay              ┆ 468   ┆ 0.036                ┆ 0.088               │\n",
       "│ backbtn              ┆ fwdbtn               ┆ 2378  ┆ 0.182                ┆ 0.485               │\n",
       "│ backbtn              ┆ logout               ┆ 39    ┆ 0.003                ┆ 0.003               │\n",
       "│ backbtn              ┆ remote               ┆ 14    ┆ 0.001                ┆ 0.002               │\n",
       "│ backbtn              ┆ trackdone            ┆ 3014  ┆ 0.231                ┆ 0.344               │\n",
       "│ clickrow             ┆ backbtn              ┆ 133   ┆ 0.008                ┆ 0.078               │\n",
       "│ clickrow             ┆ clickrow             ┆ 7     ┆ 0.0                  ┆ 0.0                 │\n",
       "│ clickrow             ┆ endplay              ┆ 7564  ┆ 0.432                ┆ 0.088               │\n",
       "│ clickrow             ┆ fwdbtn               ┆ 2743  ┆ 0.157                ┆ 0.485               │\n",
       "│ clickrow             ┆ logout               ┆ 79    ┆ 0.005                ┆ 0.003               │\n",
       "│ clickrow             ┆ remote               ┆ 66    ┆ 0.004                ┆ 0.002               │\n",
       "│ clickrow             ┆ trackdone            ┆ 6922  ┆ 0.395                ┆ 0.344               │\n",
       "│ endplay              ┆ backbtn              ┆ 1     ┆ 0.05                 ┆ 0.078               │\n",
       "│ endplay              ┆ fwdbtn               ┆ 5     ┆ 0.25                 ┆ 0.485               │\n",
       "│ endplay              ┆ remote               ┆ 1     ┆ 0.05                 ┆ 0.002               │\n",
       "│ endplay              ┆ trackdone            ┆ 13    ┆ 0.65                 ┆ 0.344               │\n",
       "│ fwdbtn               ┆ backbtn              ┆ 3647  ┆ 0.046                ┆ 0.078               │\n",
       "│ fwdbtn               ┆ endplay              ┆ 2862  ┆ 0.036                ┆ 0.088               │\n",
       "│ fwdbtn               ┆ fwdbtn               ┆ 61403 ┆ 0.768                ┆ 0.485               │\n",
       "│ fwdbtn               ┆ logout               ┆ 130   ┆ 0.002                ┆ 0.003               │\n",
       "│ fwdbtn               ┆ remote               ┆ 52    ┆ 0.001                ┆ 0.002               │\n",
       "│ fwdbtn               ┆ trackdone            ┆ 11818 ┆ 0.148                ┆ 0.344               │\n",
       "│ playbtn              ┆ endplay              ┆ 47    ┆ 0.303                ┆ 0.088               │\n",
       "│ playbtn              ┆ fwdbtn               ┆ 54    ┆ 0.348                ┆ 0.485               │\n",
       "│ playbtn              ┆ logout               ┆ 1     ┆ 0.006                ┆ 0.003               │\n",
       "│ playbtn              ┆ remote               ┆ 2     ┆ 0.013                ┆ 0.002               │\n",
       "│ playbtn              ┆ trackdone            ┆ 51    ┆ 0.329                ┆ 0.344               │\n",
       "│ remote               ┆ backbtn              ┆ 6     ┆ 0.044                ┆ 0.078               │\n",
       "│ remote               ┆ endplay              ┆ 35    ┆ 0.257                ┆ 0.088               │\n",
       "│ remote               ┆ fwdbtn               ┆ 23    ┆ 0.169                ┆ 0.485               │\n",
       "│ remote               ┆ logout               ┆ 2     ┆ 0.015                ┆ 0.003               │\n",
       "│ remote               ┆ remote               ┆ 23    ┆ 0.169                ┆ 0.002               │\n",
       "│ remote               ┆ trackdone            ┆ 47    ┆ 0.346                ┆ 0.344               │\n",
       "│ trackdone            ┆ backbtn              ┆ 2090  ┆ 0.038                ┆ 0.078               │\n",
       "│ trackdone            ┆ clickrow             ┆ 1     ┆ 0.0                  ┆ 0.0                 │\n",
       "│ trackdone            ┆ endplay              ┆ 3435  ┆ 0.062                ┆ 0.088               │\n",
       "│ trackdone            ┆ fwdbtn               ┆ 14152 ┆ 0.257                ┆ 0.485               │\n",
       "│ trackdone            ┆ logout               ┆ 300   ┆ 0.005                ┆ 0.003               │\n",
       "│ trackdone            ┆ remote               ┆ 103   ┆ 0.002                ┆ 0.002               │\n",
       "│ trackdone            ┆ trackdone            ┆ 34994 ┆ 0.635                ┆ 0.344               │\n",
       "│ trackerror           ┆ backbtn              ┆ 5     ┆ 0.054                ┆ 0.078               │\n",
       "│ trackerror           ┆ endplay              ┆ 4     ┆ 0.043                ┆ 0.088               │\n",
       "│ trackerror           ┆ fwdbtn               ┆ 46    ┆ 0.5                  ┆ 0.485               │\n",
       "│ trackerror           ┆ trackdone            ┆ 37    ┆ 0.402                ┆ 0.344               │\n",
       "└──────────────────────┴──────────────────────┴───────┴──────────────────────┴─────────────────────┘"
      ]
     },
     "execution_count": 7,
     "metadata": {},
     "output_type": "execute_result"
    }
   ],
   "source": [
    "transition_stats = (\n",
    "    df_sessions\n",
    "    .group_by([\"hist_user_behavior_reason_start\", \"hist_user_behavior_reason_end\"])\n",
    "    .agg(pl.len().alias(\"count\"))\n",
    "    .with_columns([\n",
    "        # Total outgoing transitions from each start reason\n",
    "        pl.col(\"count\").sum().over(\"hist_user_behavior_reason_start\").alias(\"total_reason_start\"),\n",
    "        \n",
    "        # Total incoming transitions to each end reason\n",
    "        pl.col(\"count\").sum().over(\"hist_user_behavior_reason_end\").alias(\"total_reason_end\"),\n",
    "        pl.col(\"count\").sum().alias(\"total\")\n",
    "        \n",
    "    ])\n",
    "    .with_columns([\n",
    "        # Normalize in both directions\n",
    "        (pl.col(\"count\") / pl.col(\"total_reason_start\")).round(3).alias(\"transition_percentage\"),\n",
    "        (pl.col(\"total_reason_end\") / pl.col(\"total\")).round(3).alias(\"marginal_end_probability\")\n",
    "    ]).select([\"hist_user_behavior_reason_start\", \"hist_user_behavior_reason_end\", \"count\", \"transition_percentage\", \"marginal_end_probability\"])\n",
    "    .sort(\"hist_user_behavior_reason_start\", \"hist_user_behavior_reason_end\") \n",
    ")\n",
    "\n",
    "transition_stats"
   ]
  },
  {
   "cell_type": "markdown",
   "metadata": {},
   "source": [
    "#### Check if the reason that a song finished is different from reason a song start"
   ]
  },
  {
   "cell_type": "code",
   "execution_count": 28,
   "metadata": {},
   "outputs": [],
   "source": [
    "df_sessions = (\n",
    "    df_sessions\n",
    "    .with_columns([\n",
    "        # Shift the start reason to the next row within the session\n",
    "        pl.col(\"hist_user_behavior_reason_start\")\n",
    "          .shift(-1)\n",
    "          .over(\"session_id\")\n",
    "          .fill_null(pl.col(\"hist_user_behavior_reason_end\"))\n",
    "          .alias(\"hist_user_behavior_reason_start_next\"),\n",
    "    ])\n",
    "    .with_columns([\n",
    "        # Create a dummy column indicating if end ≠ next start\n",
    "        (pl.col(\"hist_user_behavior_reason_end\") != pl.col(\"hist_user_behavior_reason_start_next\"))\n",
    "          .alias(\"reason_end_differs_from_next_start\")\n",
    "    ])\n",
    ")"
   ]
  },
  {
   "cell_type": "code",
   "execution_count": 29,
   "metadata": {},
   "outputs": [
    {
     "data": {
      "text/html": [
       "<div><style>\n",
       ".dataframe > thead > tr,\n",
       ".dataframe > tbody > tr {\n",
       "  text-align: right;\n",
       "  white-space: pre-wrap;\n",
       "}\n",
       "</style>\n",
       "<small>shape: (2, 2)</small><table border=\"1\" class=\"dataframe\"><thead><tr><th>reason_end_differs_from_next_start</th><th>len</th></tr><tr><td>bool</td><td>u32</td></tr></thead><tbody><tr><td>false</td><td>151910</td></tr><tr><td>true</td><td>15970</td></tr></tbody></table></div>"
      ],
      "text/plain": [
       "shape: (2, 2)\n",
       "┌─────────────────────────────────┬────────┐\n",
       "│ reason_end_differs_from_next_s… ┆ len    │\n",
       "│ ---                             ┆ ---    │\n",
       "│ bool                            ┆ u32    │\n",
       "╞═════════════════════════════════╪════════╡\n",
       "│ false                           ┆ 151910 │\n",
       "│ true                            ┆ 15970  │\n",
       "└─────────────────────────────────┴────────┘"
      ]
     },
     "execution_count": 29,
     "metadata": {},
     "output_type": "execute_result"
    }
   ],
   "source": [
    "df_sessions.group_by(\"reason_end_differs_from_next_start\").agg(pl.len())"
   ]
  },
  {
   "cell_type": "markdown",
   "metadata": {},
   "source": [
    "## Clustering"
   ]
  },
  {
   "cell_type": "markdown",
   "metadata": {},
   "source": [
    "### Grouping the data"
   ]
  },
  {
   "cell_type": "markdown",
   "metadata": {},
   "source": [
    "#### Summarise categorical Columns"
   ]
  },
  {
   "cell_type": "code",
   "execution_count": 6,
   "metadata": {},
   "outputs": [
    {
     "data": {
      "text/html": [
       "<div><style>\n",
       ".dataframe > thead > tr,\n",
       ".dataframe > tbody > tr {\n",
       "  text-align: right;\n",
       "  white-space: pre-wrap;\n",
       "}\n",
       "</style>\n",
       "<small>shape: (2, 23)</small><table border=\"1\" class=\"dataframe\"><thead><tr><th>session_id</th><th>context_type_editorial_playlist</th><th>context_type_user_collection</th><th>context_type_radio</th><th>context_type_catalog</th><th>context_type_personalized_playlist</th><th>context_type_charts</th><th>reason_start_clickrow</th><th>reason_start_fwdbtn</th><th>reason_start_backbtn</th><th>reason_start_appload</th><th>reason_start_trackdone</th><th>reason_start_playbtn</th><th>reason_start_trackerror</th><th>reason_start_remote</th><th>reason_start_endplay</th><th>reason_end_remote</th><th>reason_end_backbtn</th><th>reason_end_endplay</th><th>reason_end_trackdone</th><th>reason_end_fwdbtn</th><th>reason_end_logout</th><th>reason_end_clickrow</th></tr><tr><td>str</td><td>f64</td><td>f64</td><td>f64</td><td>f64</td><td>f64</td><td>f64</td><td>f64</td><td>f64</td><td>f64</td><td>f64</td><td>f64</td><td>f64</td><td>f64</td><td>f64</td><td>f64</td><td>f64</td><td>f64</td><td>f64</td><td>f64</td><td>f64</td><td>f64</td><td>f64</td></tr></thead><tbody><tr><td>&quot;0_06e1ddae-91fd-49ed-bce0-5dd2…</td><td>1.0</td><td>0.0</td><td>0.0</td><td>0.0</td><td>0.0</td><td>0.0</td><td>0.8</td><td>0.1</td><td>0.0</td><td>0.05</td><td>0.05</td><td>0.0</td><td>0.0</td><td>0.0</td><td>0.0</td><td>0.0</td><td>0.0</td><td>0.85</td><td>0.1</td><td>0.05</td><td>0.0</td><td>0.0</td></tr><tr><td>&quot;0_063da342-6fe4-42bc-8f17-c445…</td><td>0.0</td><td>1.0</td><td>0.0</td><td>0.0</td><td>0.0</td><td>0.0</td><td>0.0</td><td>0.6</td><td>0.0</td><td>0.1</td><td>0.3</td><td>0.0</td><td>0.0</td><td>0.0</td><td>0.0</td><td>0.0</td><td>0.0</td><td>0.1</td><td>0.3</td><td>0.6</td><td>0.0</td><td>0.0</td></tr></tbody></table></div>"
      ],
      "text/plain": [
       "shape: (2, 23)\n",
       "┌───────────┬───────────┬───────────┬───────────┬───┬───────────┬───────────┬───────────┬──────────┐\n",
       "│ session_i ┆ context_t ┆ context_t ┆ context_t ┆ … ┆ reason_en ┆ reason_en ┆ reason_en ┆ reason_e │\n",
       "│ d         ┆ ype_edito ┆ ype_user_ ┆ ype_radio ┆   ┆ d_trackdo ┆ d_fwdbtn  ┆ d_logout  ┆ nd_click │\n",
       "│ ---       ┆ rial_play ┆ collectio ┆ ---       ┆   ┆ ne        ┆ ---       ┆ ---       ┆ row      │\n",
       "│ str       ┆ lis…      ┆ n         ┆ f64       ┆   ┆ ---       ┆ f64       ┆ f64       ┆ ---      │\n",
       "│           ┆ ---       ┆ ---       ┆           ┆   ┆ f64       ┆           ┆           ┆ f64      │\n",
       "│           ┆ f64       ┆ f64       ┆           ┆   ┆           ┆           ┆           ┆          │\n",
       "╞═══════════╪═══════════╪═══════════╪═══════════╪═══╪═══════════╪═══════════╪═══════════╪══════════╡\n",
       "│ 0_06e1dda ┆ 1.0       ┆ 0.0       ┆ 0.0       ┆ … ┆ 0.1       ┆ 0.05      ┆ 0.0       ┆ 0.0      │\n",
       "│ e-91fd-49 ┆           ┆           ┆           ┆   ┆           ┆           ┆           ┆          │\n",
       "│ ed-bce0-5 ┆           ┆           ┆           ┆   ┆           ┆           ┆           ┆          │\n",
       "│ dd2…      ┆           ┆           ┆           ┆   ┆           ┆           ┆           ┆          │\n",
       "│ 0_063da34 ┆ 0.0       ┆ 1.0       ┆ 0.0       ┆ … ┆ 0.3       ┆ 0.6       ┆ 0.0       ┆ 0.0      │\n",
       "│ 2-6fe4-42 ┆           ┆           ┆           ┆   ┆           ┆           ┆           ┆          │\n",
       "│ bc-8f17-c ┆           ┆           ┆           ┆   ┆           ┆           ┆           ┆          │\n",
       "│ 445…      ┆           ┆           ┆           ┆   ┆           ┆           ┆           ┆          │\n",
       "└───────────┴───────────┴───────────┴───────────┴───┴───────────┴───────────┴───────────┴──────────┘"
      ]
     },
     "execution_count": 6,
     "metadata": {},
     "output_type": "execute_result"
    }
   ],
   "source": [
    "# List of columns you want counts for\n",
    "categorical_cols = [\n",
    "    \"context_type\",\n",
    "    \"hist_user_behavior_reason_start\",\n",
    "    \"hist_user_behavior_reason_end\",\n",
    "]\n",
    "\n",
    "categorical_cols = {\n",
    "    \"context_type\" : \"context_type\",\n",
    "    \"hist_user_behavior_reason_start\": \"reason_start\",\n",
    "    \"hist_user_behavior_reason_end\": \"reason_end\"\n",
    "}\n",
    "\n",
    "# Function to process each column and return a pivoted count table\n",
    "def get_column_counts(df, col, prefix):\n",
    "    pivoted = (\n",
    "        df\n",
    "        .group_by([\"session_id\", col])\n",
    "        .agg(pl.len().alias(f\"count_{col}\"))\n",
    "        .pivot(values=f\"count_{col}\", index=\"session_id\", on=col)\n",
    "        .fill_null(0)\n",
    "    )\n",
    "\n",
    "    pivoted = pivoted.rename({\n",
    "        old: f\"{prefix}_{old}\" for old in pivoted.columns if old != \"session_id\"\n",
    "    })\n",
    "\n",
    "    return pivoted\n",
    "\n",
    "# Create a list of pivoted count tables for each categorical column\n",
    "categorical_counts = [get_column_counts(df_sessions, col, prefix) for col, prefix in categorical_cols.items()]\n",
    "\n",
    "\n",
    "# Merge all count tables on 'session_id'\n",
    "categorical_counts = reduce(lambda left, right: left.join(right, on=\"session_id\", how=\"left\"), categorical_counts)\n",
    "categorical_counts = (\n",
    "    categorical_counts\n",
    "    .join(\n",
    "        df_sessions\n",
    "        .select(['session_id', \"session_length\"])\n",
    "        .unique(),\n",
    "        on=\"session_id\", \n",
    "        how=\"left\"\n",
    "    ) \n",
    ")\n",
    "for c in [col for col in categorical_counts.columns if col not in ['session_id', 'session_length']]:\n",
    "        categorical_counts = categorical_counts.with_columns(\n",
    "            (pl.col(c) / pl.col(\"session_length\")).alias(c)\n",
    "        )\n",
    "categorical_counts = categorical_counts.drop(\"session_length\")\n",
    "categorical_counts.head(2)"
   ]
  },
  {
   "cell_type": "markdown",
   "metadata": {},
   "source": [
    "#### Create Summary dataframe where 1 row is one session"
   ]
  },
  {
   "cell_type": "code",
   "execution_count": 7,
   "metadata": {},
   "outputs": [
    {
     "data": {
      "text/html": [
       "<div><style>\n",
       ".dataframe > thead > tr,\n",
       ".dataframe > tbody > tr {\n",
       "  text-align: right;\n",
       "  white-space: pre-wrap;\n",
       "}\n",
       "</style>\n",
       "<small>shape: (1, 36)</small><table border=\"1\" class=\"dataframe\"><thead><tr><th>session_id</th><th>session_length</th><th>premium</th><th>context_switch_ratio</th><th>seekfwd_ratio</th><th>seekback_ratio</th><th>skip_ratio</th><th>shuffle_ratio</th><th>avg_song_completion</th><th>perc_completed_song</th><th>avg_pause_length_before_play</th><th>is_weekend</th><th>season</th><th>time_of_day</th><th>context_type_editorial_playlist</th><th>context_type_user_collection</th><th>context_type_radio</th><th>context_type_catalog</th><th>context_type_personalized_playlist</th><th>context_type_charts</th><th>reason_start_clickrow</th><th>reason_start_fwdbtn</th><th>reason_start_backbtn</th><th>reason_start_appload</th><th>reason_start_trackdone</th><th>reason_start_playbtn</th><th>reason_start_trackerror</th><th>reason_start_remote</th><th>reason_start_endplay</th><th>reason_end_remote</th><th>reason_end_backbtn</th><th>reason_end_endplay</th><th>reason_end_trackdone</th><th>reason_end_fwdbtn</th><th>reason_end_logout</th><th>reason_end_clickrow</th></tr><tr><td>str</td><td>i64</td><td>bool</td><td>f64</td><td>f64</td><td>f64</td><td>f64</td><td>f64</td><td>f64</td><td>f64</td><td>f64</td><td>i8</td><td>str</td><td>str</td><td>f64</td><td>f64</td><td>f64</td><td>f64</td><td>f64</td><td>f64</td><td>f64</td><td>f64</td><td>f64</td><td>f64</td><td>f64</td><td>f64</td><td>f64</td><td>f64</td><td>f64</td><td>f64</td><td>f64</td><td>f64</td><td>f64</td><td>f64</td><td>f64</td><td>f64</td></tr></thead><tbody><tr><td>&quot;0_026ad0ff-8be6-4d15-b9bc-ccbd…</td><td>16</td><td>true</td><td>0.0625</td><td>0.0</td><td>0.0</td><td>0.0</td><td>0.0</td><td>0.5</td><td>0.25</td><td>0.3125</td><td>1</td><td>&quot;summer&quot;</td><td>&quot;night&quot;</td><td>0.0</td><td>0.875</td><td>0.0</td><td>0.125</td><td>0.0</td><td>0.0</td><td>0.0625</td><td>0.5625</td><td>0.0625</td><td>0.0625</td><td>0.25</td><td>0.0</td><td>0.0</td><td>0.0</td><td>0.0</td><td>0.0</td><td>0.0625</td><td>0.0625</td><td>0.25</td><td>0.625</td><td>0.0</td><td>0.0</td></tr></tbody></table></div>"
      ],
      "text/plain": [
       "shape: (1, 36)\n",
       "┌────────────┬───────────┬─────────┬───────────┬───┬───────────┬───────────┬───────────┬───────────┐\n",
       "│ session_id ┆ session_l ┆ premium ┆ context_s ┆ … ┆ reason_en ┆ reason_en ┆ reason_en ┆ reason_en │\n",
       "│ ---        ┆ ength     ┆ ---     ┆ witch_rat ┆   ┆ d_trackdo ┆ d_fwdbtn  ┆ d_logout  ┆ d_clickro │\n",
       "│ str        ┆ ---       ┆ bool    ┆ io        ┆   ┆ ne        ┆ ---       ┆ ---       ┆ w         │\n",
       "│            ┆ i64       ┆         ┆ ---       ┆   ┆ ---       ┆ f64       ┆ f64       ┆ ---       │\n",
       "│            ┆           ┆         ┆ f64       ┆   ┆ f64       ┆           ┆           ┆ f64       │\n",
       "╞════════════╪═══════════╪═════════╪═══════════╪═══╪═══════════╪═══════════╪═══════════╪═══════════╡\n",
       "│ 0_026ad0ff ┆ 16        ┆ true    ┆ 0.0625    ┆ … ┆ 0.25      ┆ 0.625     ┆ 0.0       ┆ 0.0       │\n",
       "│ -8be6-4d15 ┆           ┆         ┆           ┆   ┆           ┆           ┆           ┆           │\n",
       "│ -b9bc-ccbd ┆           ┆         ┆           ┆   ┆           ┆           ┆           ┆           │\n",
       "│ …          ┆           ┆         ┆           ┆   ┆           ┆           ┆           ┆           │\n",
       "└────────────┴───────────┴─────────┴───────────┴───┴───────────┴───────────┴───────────┴───────────┘"
      ]
     },
     "execution_count": 7,
     "metadata": {},
     "output_type": "execute_result"
    }
   ],
   "source": [
    "df_summary = (\n",
    "    df_sessions\n",
    "    .group_by(\"session_id\")\n",
    "    .agg([\n",
    "        pl.col(\"session_length\").max().alias(\"session_length\"),\n",
    "        pl.col(\"premium\").first(),\n",
    "        (pl.col(\"context_switch\").sum() / pl.col(\"session_length\").max()).alias(\"context_switch_ratio\"),\n",
    "        (pl.col(\"hist_user_behavior_n_seekfwd\").sum() / pl.col(\"session_length\").max()).alias(\"seekfwd_ratio\"),\n",
    "        (pl.col(\"hist_user_behavior_n_seekback\").sum() / pl.col(\"session_length\").max()).alias(\"seekback_ratio\"),\n",
    "        ((pl.col(\"hist_user_behavior_n_seekback\") + pl.col(\"hist_user_behavior_n_seekfwd\")).sum() / pl.col(\"session_length\").max()).alias(\"skip_ratio\"),\n",
    "        (pl.col(\"hist_user_behavior_is_shuffle\").sum() / pl.col(\"session_length\").max()).alias(\"shuffle_ratio\"),\n",
    "        pl.col(\"song_completion\").mean().alias(\"avg_song_completion\"),\n",
    "        (pl.col(\"not_skipped\").sum() / pl.col(\"session_length\").max()).alias(\"perc_completed_song\"),\n",
    "        pl.col(\"pause_length_before_play\").mean().alias(\"avg_pause_length_before_play\"),\n",
    "        pl.col(\"is_weekend\").first().alias(\"is_weekend\"),\n",
    "        pl.col(\"season\").first().alias(\"season\"),\n",
    "        pl.col(\"time_of_day\").first().alias(\"time_of_day\"),\n",
    "    ])\n",
    "    .join(\n",
    "        categorical_counts,\n",
    "        on=\"session_id\",\n",
    "        how='left'\n",
    "    )\n",
    "        \n",
    ")\n",
    "\n",
    "df_summary.head(1)"
   ]
  },
  {
   "cell_type": "code",
   "execution_count": 46,
   "metadata": {},
   "outputs": [],
   "source": [
    "non_session_related_variables = [\"premium\", \"is_weekend\", \"season\", \"time_of_day\"]"
   ]
  },
  {
   "cell_type": "code",
   "execution_count": 15,
   "metadata": {},
   "outputs": [
    {
     "data": {
      "text/html": [
       "<div><style>\n",
       ".dataframe > thead > tr,\n",
       ".dataframe > tbody > tr {\n",
       "  text-align: right;\n",
       "  white-space: pre-wrap;\n",
       "}\n",
       "</style>\n",
       "<small>shape: (2, 2)</small><table border=\"1\" class=\"dataframe\"><thead><tr><th>premium</th><th>perc_completed_song</th></tr><tr><td>bool</td><td>f64</td></tr></thead><tbody><tr><td>true</td><td>0.339423</td></tr><tr><td>false</td><td>0.34099</td></tr></tbody></table></div>"
      ],
      "text/plain": [
       "shape: (2, 2)\n",
       "┌─────────┬─────────────────────┐\n",
       "│ premium ┆ perc_completed_song │\n",
       "│ ---     ┆ ---                 │\n",
       "│ bool    ┆ f64                 │\n",
       "╞═════════╪═════════════════════╡\n",
       "│ true    ┆ 0.339423            │\n",
       "│ false   ┆ 0.34099             │\n",
       "└─────────┴─────────────────────┘"
      ]
     },
     "execution_count": 15,
     "metadata": {},
     "output_type": "execute_result"
    }
   ],
   "source": [
    "(\n",
    "    df_summary.\n",
    "    group_by(\"premium\")\n",
    "    .agg([\n",
    "    pl.col(\"perc_completed_song\").mean()\n",
    "    ])\n",
    ")"
   ]
  },
  {
   "cell_type": "markdown",
   "metadata": {},
   "source": [
    "#### KMEANS"
   ]
  }
 ],
 "metadata": {
  "kernelspec": {
   "display_name": "Python 3 (ipykernel)",
   "language": "python",
   "name": "python3"
  },
  "language_info": {
   "codemirror_mode": {
    "name": "ipython",
    "version": 3
   },
   "file_extension": ".py",
   "mimetype": "text/x-python",
   "name": "python",
   "nbconvert_exporter": "python",
   "pygments_lexer": "ipython3",
   "version": "3.11.7"
  }
 },
 "nbformat": 4,
 "nbformat_minor": 4
}
